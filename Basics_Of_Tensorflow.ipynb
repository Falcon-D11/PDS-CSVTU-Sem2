{
  "cells": [
    {
      "cell_type": "markdown",
      "metadata": {
        "id": "view-in-github",
        "colab_type": "text"
      },
      "source": [
        "<a href=\"https://colab.research.google.com/github/maxprogrammer007/PDS-CSVTU-Sem2/blob/main/Basics_Of_Tensorflow.ipynb\" target=\"_parent\"><img src=\"https://colab.research.google.com/assets/colab-badge.svg\" alt=\"Open In Colab\"/></a>"
      ]
    },
    {
      "cell_type": "code",
      "id": "initial_id",
      "metadata": {
        "collapsed": true,
        "ExecuteTime": {
          "end_time": "2024-06-09T14:10:46.770853Z",
          "start_time": "2024-06-09T14:10:46.648525Z"
        },
        "id": "initial_id"
      },
      "source": [
        "import tensorflow as tf"
      ],
      "outputs": [],
      "execution_count": 1
    },
    {
      "metadata": {
        "id": "1a56e97d3f7b7d11",
        "colab": {
          "base_uri": "https://localhost:8080/"
        },
        "outputId": "79f59a24-3ce6-4647-a48d-66e7782d289d"
      },
      "cell_type": "code",
      "source": [
        "tensor_zero_d = tf.constant(4)\n",
        "print(tensor_zero_d)"
      ],
      "id": "1a56e97d3f7b7d11",
      "outputs": [
        {
          "output_type": "stream",
          "name": "stdout",
          "text": [
            "tf.Tensor(4, shape=(), dtype=int32)\n"
          ]
        }
      ],
      "execution_count": 2
    },
    {
      "cell_type": "code",
      "source": [
        "tensor_one_d = tf.constant([2,0,-3])\n",
        "print(tensor_one_d)"
      ],
      "metadata": {
        "colab": {
          "base_uri": "https://localhost:8080/"
        },
        "id": "qZ0x0rYqYO2J",
        "outputId": "72ee9286-aca9-4469-d8f3-cc16a24a62d7"
      },
      "id": "qZ0x0rYqYO2J",
      "execution_count": null,
      "outputs": [
        {
          "output_type": "stream",
          "name": "stdout",
          "text": [
            "tf.Tensor([ 2  0 -3], shape=(3,), dtype=int32)\n"
          ]
        }
      ]
    },
    {
      "cell_type": "code",
      "source": [
        "tensor_two_d = tf.constant([\n",
        "    [1,2,3],\n",
        "    [4,5,6],\n",
        "    [7,8,9]\n",
        "])\n",
        "print(tensor_two_d)"
      ],
      "metadata": {
        "colab": {
          "base_uri": "https://localhost:8080/"
        },
        "id": "qydCUy6GYs1w",
        "outputId": "de1a0aac-8f9f-4b36-f461-009ed584b6fe"
      },
      "id": "qydCUy6GYs1w",
      "execution_count": 3,
      "outputs": [
        {
          "output_type": "stream",
          "name": "stdout",
          "text": [
            "tf.Tensor(\n",
            "[[1 2 3]\n",
            " [4 5 6]\n",
            " [7 8 9]], shape=(3, 3), dtype=int32)\n"
          ]
        }
      ]
    },
    {
      "cell_type": "code",
      "source": [
        "tensor_three_d = tf.constant([\n",
        "\n",
        "                              [[1,2,3],\n",
        "                               [3,5,-1]],\n",
        "\n",
        "                              [[10,3,4],\n",
        "                               [1,5,6]],\n",
        "\n",
        "                              [[6,5,3],\n",
        "                               [45,76,9]],\n",
        "\n",
        "                              [[2,5,3],\n",
        "                               [5,4,5]]\n",
        "])"
      ],
      "metadata": {
        "id": "gXv7d0EgZHki"
      },
      "id": "gXv7d0EgZHki",
      "execution_count": 9,
      "outputs": []
    },
    {
      "cell_type": "code",
      "source": [],
      "metadata": {
        "id": "nfAEckN5OMIo"
      },
      "id": "nfAEckN5OMIo",
      "execution_count": null,
      "outputs": []
    }
  ],
  "metadata": {
    "kernelspec": {
      "display_name": "Python 3",
      "language": "python",
      "name": "python3"
    },
    "language_info": {
      "codemirror_mode": {
        "name": "ipython",
        "version": 2
      },
      "file_extension": ".py",
      "mimetype": "text/x-python",
      "name": "python",
      "nbconvert_exporter": "python",
      "pygments_lexer": "ipython2",
      "version": "2.7.6"
    },
    "colab": {
      "provenance": [],
      "include_colab_link": true
    }
  },
  "nbformat": 4,
  "nbformat_minor": 5
}