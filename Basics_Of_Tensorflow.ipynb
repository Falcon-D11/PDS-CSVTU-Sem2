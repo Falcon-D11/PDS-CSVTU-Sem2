{
  "cells": [
    {
      "cell_type": "markdown",
      "metadata": {
        "colab_type": "text",
        "id": "view-in-github"
      },
      "source": [
        "<a href=\"https://colab.research.google.com/github/maxprogrammer007/PDS-CSVTU-Sem2/blob/main/Basics_Of_Tensorflow.ipynb\" target=\"_parent\"><img src=\"https://colab.research.google.com/assets/colab-badge.svg\" alt=\"Open In Colab\"/></a>"
      ]
    },
    {
      "cell_type": "code",
      "execution_count": 1,
      "id": "initial_id",
      "metadata": {
        "ExecuteTime": {
          "end_time": "2024-06-09T14:10:46.770853Z",
          "start_time": "2024-06-09T14:10:46.648525Z"
        },
        "collapsed": true,
        "id": "initial_id"
      },
      "outputs": [],
      "source": [
        "import tensorflow as tf"
      ]
    },
    {
      "cell_type": "code",
      "execution_count": 2,
      "id": "1a56e97d3f7b7d11",
      "metadata": {
        "colab": {
          "base_uri": "https://localhost:8080/"
        },
        "id": "1a56e97d3f7b7d11",
        "outputId": "79f59a24-3ce6-4647-a48d-66e7782d289d"
      },
      "outputs": [
        {
          "name": "stdout",
          "output_type": "stream",
          "text": [
            "tf.Tensor(8, shape=(), dtype=int32)\n"
          ]
        }
      ],
      "source": [
        "tensor_zero_d = tf.constant(8)\n",
        "print(tensor_zero_d)"
      ]
    },
    {
      "cell_type": "code",
      "execution_count": 3,
      "id": "qZ0x0rYqYO2J",
      "metadata": {
        "colab": {
          "base_uri": "https://localhost:8080/"
        },
        "id": "qZ0x0rYqYO2J",
        "outputId": "72ee9286-aca9-4469-d8f3-cc16a24a62d7"
      },
      "outputs": [
        {
          "name": "stdout",
          "output_type": "stream",
          "text": [
            "tf.Tensor([ 2  0 -3], shape=(3,), dtype=int32)\n"
          ]
        }
      ],
      "source": [
        "tensor_one_d = tf.constant([2,0,-3])\n",
        "print(tensor_one_d)"
      ]
    },
    {
      "cell_type": "code",
      "execution_count": 4,
      "id": "qydCUy6GYs1w",
      "metadata": {
        "colab": {
          "base_uri": "https://localhost:8080/"
        },
        "id": "qydCUy6GYs1w",
        "outputId": "de1a0aac-8f9f-4b36-f461-009ed584b6fe"
      },
      "outputs": [
        {
          "name": "stdout",
          "output_type": "stream",
          "text": [
            "tf.Tensor(\n",
            "[[1 2 3]\n",
            " [4 5 6]\n",
            " [7 8 9]], shape=(3, 3), dtype=int32)\n"
          ]
        }
      ],
      "source": [
        "tensor_two_d = tf.constant([\n",
        "    [1,2,3],\n",
        "    [4,5,6],\n",
        "    [7,8,9]\n",
        "])\n",
        "print(tensor_two_d)"
      ]
    },
    {
      "cell_type": "code",
      "execution_count": 5,
      "id": "gXv7d0EgZHki",
      "metadata": {
        "id": "gXv7d0EgZHki"
      },
      "outputs": [],
      "source": [
        "tensor_three_d = tf.constant([\n",
        "\n",
        "                              [[1,2,3],\n",
        "                               [3,5,-1]],\n",
        "\n",
        "                              [[10,3,4],\n",
        "                               [1,5,6]],\n",
        "\n",
        "                              [[6,5,3],\n",
        "                               [45,76,9]],\n",
        "\n",
        "                              [[2,5,3],\n",
        "                               [5,4,5]]\n",
        "])"
      ]
    },
    {
      "cell_type": "code",
      "execution_count": 6,
      "id": "nfAEckN5OMIo",
      "metadata": {
        "id": "nfAEckN5OMIo"
      },
      "outputs": [],
      "source": [
        "tensor_four_d = tf.constant([\n",
        "    [\n",
        "\n",
        "                              [[1,2,3],\n",
        "                               [3,5,-1]],\n",
        "\n",
        "                              [[10,3,4],\n",
        "                               [1,5,6]],\n",
        "\n",
        "                              [[6,5,3],\n",
        "                               [45,76,9]],\n",
        "\n",
        "                              [[2,5,3],\n",
        "                               [5,4,5]]\n",
        "],\n",
        "     [\n",
        "\n",
        "                              [[1,2,3],\n",
        "                               [3,5,-1]],\n",
        "\n",
        "                              [[10,3,4],\n",
        "                               [1,5,6]],\n",
        "\n",
        "                              [[6,5,3],\n",
        "                               [45,76,9]],\n",
        "\n",
        "                              [[2,5,3],\n",
        "                               [5,4,5]]\n",
        "],\n",
        "      [\n",
        "\n",
        "                              [[1,2,3],\n",
        "                               [3,5,-1]],\n",
        "\n",
        "                              [[10,3,4],\n",
        "                               [1,5,6]],\n",
        "\n",
        "                              [[6,5,3],\n",
        "                               [45,76,9]],\n",
        "\n",
        "                              [[2,5,3],\n",
        "                               [5,4,5]]\n",
        "]\n",
        "])"
      ]
    },
    {
      "cell_type": "code",
      "execution_count": 7,
      "id": "46cc0f50",
      "metadata": {},
      "outputs": [],
      "source": [
        "import numpy as np\n"
      ]
    },
    {
      "cell_type": "code",
      "execution_count": 8,
      "id": "d5711469",
      "metadata": {},
      "outputs": [],
      "source": [
        "arr = np.array([1,2,3,4,5,6,7,8,9])\n",
        "coverted_tensor = tf.convert_to_tensor(arr)"
      ]
    },
    {
      "cell_type": "code",
      "execution_count": 9,
      "id": "5d321f95",
      "metadata": {},
      "outputs": [
        {
          "name": "stdout",
          "output_type": "stream",
          "text": [
            "tf.Tensor([1 2 3 4 5 6 7 8 9], shape=(9,), dtype=int32)\n"
          ]
        }
      ],
      "source": [
        "print(coverted_tensor)"
      ]
    },
    {
      "cell_type": "code",
      "execution_count": 10,
      "id": "7bf34052",
      "metadata": {},
      "outputs": [],
      "source": [
        "eye_tensor = tf.eye(\n",
        "    num_rows=4,\n",
        "    num_columns=None,\n",
        "    batch_shape=None,\n",
        "    dtype=tf.dtypes.float32,\n",
        "    name=None\n",
        ")"
      ]
    },
    {
      "cell_type": "code",
      "execution_count": 11,
      "id": "4544f2ef",
      "metadata": {},
      "outputs": [
        {
          "name": "stdout",
          "output_type": "stream",
          "text": [
            "tf.Tensor(\n",
            "[[1. 0. 0. 0.]\n",
            " [0. 1. 0. 0.]\n",
            " [0. 0. 1. 0.]\n",
            " [0. 0. 0. 1.]], shape=(4, 4), dtype=float32)\n"
          ]
        }
      ],
      "source": [
        "print(eye_tensor)"
      ]
    },
    {
      "cell_type": "code",
      "execution_count": 12,
      "id": "abb07c3c",
      "metadata": {},
      "outputs": [
        {
          "name": "stdout",
          "output_type": "stream",
          "text": [
            "tf.Tensor(\n",
            "[[1. 0. 0. 0. 0. 0.]\n",
            " [0. 1. 0. 0. 0. 0.]\n",
            " [0. 0. 1. 0. 0. 0.]\n",
            " [0. 0. 0. 1. 0. 0.]], shape=(4, 6), dtype=float32)\n"
          ]
        }
      ],
      "source": [
        "eye_tensor1 = tf.eye(\n",
        "    num_rows=4,\n",
        "    num_columns=6,\n",
        "    batch_shape=None,\n",
        "    dtype=tf.dtypes.float32,\n",
        "    name=None\n",
        ")\n",
        "print(eye_tensor1)"
      ]
    },
    {
      "cell_type": "code",
      "execution_count": 13,
      "id": "0103e9d5",
      "metadata": {},
      "outputs": [
        {
          "name": "stdout",
          "output_type": "stream",
          "text": [
            "tf.Tensor(\n",
            "[[[1. 0. 0. 0.]\n",
            "  [0. 1. 0. 0.]\n",
            "  [0. 0. 1. 0.]\n",
            "  [0. 0. 0. 1.]]\n",
            "\n",
            " [[1. 0. 0. 0.]\n",
            "  [0. 1. 0. 0.]\n",
            "  [0. 0. 1. 0.]\n",
            "  [0. 0. 0. 1.]]], shape=(2, 4, 4), dtype=float32)\n"
          ]
        }
      ],
      "source": [
        "eye_tensor2 = tf.eye(\n",
        "    num_rows=4,\n",
        "    num_columns=None,\n",
        "    batch_shape=[2],\n",
        "    dtype=tf.dtypes.float32,\n",
        "    name=None\n",
        ")\n",
        "print(eye_tensor2)"
      ]
    },
    {
      "cell_type": "code",
      "execution_count": 14,
      "id": "39d7dac2",
      "metadata": {},
      "outputs": [],
      "source": [
        "filled_tensor = tf.fill([2,3], 8)"
      ]
    },
    {
      "cell_type": "code",
      "execution_count": 15,
      "id": "4cc9ec02",
      "metadata": {},
      "outputs": [
        {
          "name": "stdout",
          "output_type": "stream",
          "text": [
            "tf.Tensor(\n",
            "[[8 8 8]\n",
            " [8 8 8]], shape=(2, 3), dtype=int32)\n"
          ]
        }
      ],
      "source": [
        "print(filled_tensor)"
      ]
    },
    {
      "cell_type": "code",
      "execution_count": 16,
      "id": "793f5e60",
      "metadata": {},
      "outputs": [
        {
          "data": {
            "text/plain": [
              "<tf.Tensor: shape=(4,), dtype=int32, numpy=array([3, 4, 2, 3])>"
            ]
          },
          "execution_count": 16,
          "metadata": {},
          "output_type": "execute_result"
        }
      ],
      "source": [
        "tf.shape(tensor_four_d)"
      ]
    },
    {
      "cell_type": "code",
      "execution_count": 17,
      "id": "6e6ea28b",
      "metadata": {},
      "outputs": [
        {
          "data": {
            "text/plain": [
              "<tf.Tensor: shape=(), dtype=int32, numpy=72>"
            ]
          },
          "execution_count": 17,
          "metadata": {},
          "output_type": "execute_result"
        }
      ],
      "source": [
        "tf.size(tensor_four_d)"
      ]
    },
    {
      "cell_type": "code",
      "execution_count": 20,
      "id": "13451544",
      "metadata": {},
      "outputs": [],
      "source": [
        "# random tensors\n",
        "\n",
        "randome_tensor = tf.random.normal(\n",
        "    [3,2,2],\n",
        "    mean =0.0,\n",
        "    stddev=1.0,\n",
        "    dtype=tf.dtypes.float32,\n",
        "    seed=None,\n",
        "    name=None\n",
        ")"
      ]
    },
    {
      "cell_type": "code",
      "execution_count": 21,
      "id": "396737c0",
      "metadata": {},
      "outputs": [
        {
          "name": "stdout",
          "output_type": "stream",
          "text": [
            "tf.Tensor(\n",
            "[[[-0.94215214 -0.68370026]\n",
            "  [ 0.15898167 -0.9476472 ]]\n",
            "\n",
            " [[ 0.5433289  -0.74997306]\n",
            "  [ 0.7603781   0.90746987]]\n",
            "\n",
            " [[ 0.47381338 -0.22523715]\n",
            "  [-0.25446403  0.23084885]]], shape=(3, 2, 2), dtype=float32)\n"
          ]
        }
      ],
      "source": [
        "print(randome_tensor)"
      ]
    },
    {
      "cell_type": "code",
      "execution_count": 22,
      "id": "0acbe1b7",
      "metadata": {},
      "outputs": [],
      "source": [
        "#uniform tensor\n",
        "uniform_tensor = tf.random.uniform(\n",
        "    [2,4,5],\n",
        "    minval = 0,\n",
        "    maxval = None,\n",
        "    dtype = tf.dtypes.float32,\n",
        "    seed = None,\n",
        "    name = None\n",
        ")"
      ]
    },
    {
      "cell_type": "code",
      "execution_count": 23,
      "id": "d891b113",
      "metadata": {},
      "outputs": [
        {
          "name": "stdout",
          "output_type": "stream",
          "text": [
            "tf.Tensor(\n",
            "[[[0.5950475  0.664094   0.8105799  0.7654351  0.0633949 ]\n",
            "  [0.05833912 0.13866317 0.17369008 0.06138539 0.25493038]\n",
            "  [0.5600575  0.15159655 0.27926755 0.9447837  0.486354  ]\n",
            "  [0.10908127 0.7079065  0.0742588  0.9124538  0.348966  ]]\n",
            "\n",
            " [[0.07500505 0.50155103 0.8346634  0.42695498 0.9723712 ]\n",
            "  [0.01290166 0.93380535 0.0856235  0.9937459  0.25540137]\n",
            "  [0.6791761  0.38062    0.726624   0.80450785 0.3083142 ]\n",
            "  [0.5216892  0.08864832 0.02486145 0.4966612  0.9902508 ]]], shape=(2, 4, 5), dtype=float32)\n"
          ]
        }
      ],
      "source": [
        "print(uniform_tensor)"
      ]
    },
    {
      "cell_type": "code",
      "execution_count": null,
      "id": "85ef8057",
      "metadata": {},
      "outputs": [],
      "source": []
    }
  ],
  "metadata": {
    "colab": {
      "include_colab_link": true,
      "provenance": []
    },
    "kernelspec": {
      "display_name": "Python 3",
      "language": "python",
      "name": "python3"
    },
    "language_info": {
      "codemirror_mode": {
        "name": "ipython",
        "version": 3
      },
      "file_extension": ".py",
      "mimetype": "text/x-python",
      "name": "python",
      "nbconvert_exporter": "python",
      "pygments_lexer": "ipython3",
      "version": "3.12.4"
    }
  },
  "nbformat": 4,
  "nbformat_minor": 5
}
