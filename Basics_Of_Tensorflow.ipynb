{
  "cells": [
    {
      "cell_type": "markdown",
      "metadata": {
        "colab_type": "text",
        "id": "view-in-github"
      },
      "source": [
        "<a href=\"https://colab.research.google.com/github/maxprogrammer007/PDS-CSVTU-Sem2/blob/main/Basics_Of_Tensorflow.ipynb\" target=\"_parent\"><img src=\"https://colab.research.google.com/assets/colab-badge.svg\" alt=\"Open In Colab\"/></a>"
      ]
    },
    {
      "cell_type": "code",
      "execution_count": 1,
      "id": "initial_id",
      "metadata": {
        "ExecuteTime": {
          "end_time": "2024-06-09T14:10:46.770853Z",
          "start_time": "2024-06-09T14:10:46.648525Z"
        },
        "collapsed": true,
        "id": "initial_id"
      },
      "outputs": [],
      "source": [
        "import tensorflow as tf"
      ]
    },
    {
      "cell_type": "code",
      "execution_count": 2,
      "id": "1a56e97d3f7b7d11",
      "metadata": {
        "colab": {
          "base_uri": "https://localhost:8080/"
        },
        "id": "1a56e97d3f7b7d11",
        "outputId": "79f59a24-3ce6-4647-a48d-66e7782d289d"
      },
      "outputs": [
        {
          "name": "stdout",
          "output_type": "stream",
          "text": [
            "tf.Tensor(8, shape=(), dtype=int32)\n"
          ]
        }
      ],
      "source": [
        "tensor_zero_d = tf.constant(8)\n",
        "print(tensor_zero_d)"
      ]
    },
    {
      "cell_type": "code",
      "execution_count": 3,
      "id": "qZ0x0rYqYO2J",
      "metadata": {
        "colab": {
          "base_uri": "https://localhost:8080/"
        },
        "id": "qZ0x0rYqYO2J",
        "outputId": "72ee9286-aca9-4469-d8f3-cc16a24a62d7"
      },
      "outputs": [
        {
          "name": "stdout",
          "output_type": "stream",
          "text": [
            "tf.Tensor([ 2  0 -3], shape=(3,), dtype=int32)\n"
          ]
        }
      ],
      "source": [
        "tensor_one_d = tf.constant([2,0,-3])\n",
        "print(tensor_one_d)"
      ]
    },
    {
      "cell_type": "code",
      "execution_count": 4,
      "id": "qydCUy6GYs1w",
      "metadata": {
        "colab": {
          "base_uri": "https://localhost:8080/"
        },
        "id": "qydCUy6GYs1w",
        "outputId": "de1a0aac-8f9f-4b36-f461-009ed584b6fe"
      },
      "outputs": [
        {
          "name": "stdout",
          "output_type": "stream",
          "text": [
            "tf.Tensor(\n",
            "[[1 2 3]\n",
            " [4 5 6]\n",
            " [7 8 9]], shape=(3, 3), dtype=int32)\n"
          ]
        }
      ],
      "source": [
        "tensor_two_d = tf.constant([\n",
        "    [1,2,3],\n",
        "    [4,5,6],\n",
        "    [7,8,9]\n",
        "])\n",
        "print(tensor_two_d)"
      ]
    },
    {
      "cell_type": "code",
      "execution_count": 5,
      "id": "gXv7d0EgZHki",
      "metadata": {
        "id": "gXv7d0EgZHki"
      },
      "outputs": [],
      "source": [
        "tensor_three_d = tf.constant([\n",
        "\n",
        "                              [[1,2,3],\n",
        "                               [3,5,-1]],\n",
        "\n",
        "                              [[10,3,4],\n",
        "                               [1,5,6]],\n",
        "\n",
        "                              [[6,5,3],\n",
        "                               [45,76,9]],\n",
        "\n",
        "                              [[2,5,3],\n",
        "                               [5,4,5]]\n",
        "])"
      ]
    },
    {
      "cell_type": "code",
      "execution_count": null,
      "id": "nfAEckN5OMIo",
      "metadata": {
        "id": "nfAEckN5OMIo"
      },
      "outputs": [],
      "source": []
    }
  ],
  "metadata": {
    "colab": {
      "include_colab_link": true,
      "provenance": []
    },
    "kernelspec": {
      "display_name": "Python 3",
      "language": "python",
      "name": "python3"
    },
    "language_info": {
      "codemirror_mode": {
        "name": "ipython",
        "version": 3
      },
      "file_extension": ".py",
      "mimetype": "text/x-python",
      "name": "python",
      "nbconvert_exporter": "python",
      "pygments_lexer": "ipython3",
      "version": "3.11.5"
    }
  },
  "nbformat": 4,
  "nbformat_minor": 5
}
