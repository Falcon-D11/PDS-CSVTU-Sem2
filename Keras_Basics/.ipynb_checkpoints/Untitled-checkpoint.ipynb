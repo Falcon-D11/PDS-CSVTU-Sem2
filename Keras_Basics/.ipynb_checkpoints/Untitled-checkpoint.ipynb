{
 "cells": [
  {
   "cell_type": "markdown",
   "id": "a32c6c80",
   "metadata": {},
   "source": [
    "# Data Preparation and Processing"
   ]
  },
  {
   "cell_type": "code",
   "execution_count": 2,
   "id": "90b8fb03",
   "metadata": {},
   "outputs": [],
   "source": [
    "import numpy as np \n",
    "from random import randint\n",
    "from sklearn.utils import shuffle\n",
    "from sklearn.preprocessing import MinMaxScaler"
   ]
  },
  {
   "cell_type": "code",
   "execution_count": 3,
   "id": "0940225d",
   "metadata": {},
   "outputs": [],
   "source": [
    "train_labels = []\n",
    "train_samples = []\n"
   ]
  },
  {
   "cell_type": "markdown",
   "id": "20e0e534",
   "metadata": {},
   "source": [
    "Example data :\\\n",
    "    -> An Experimental drug was tested on individual from ages 13 to 100 in a clinical trial.\\\n",
    "    -> The trial had 2100 participants.Half were under 65 years , half were 65 years or older.\\\n",
    "    -> Around 95 of patients 65 or older experienced side effects.\\\n",
    "    -> Around 95 of patents under 65 experienced no side effects."
   ]
  },
  {
   "cell_type": "code",
   "execution_count": null,
   "id": "587b653a",
   "metadata": {},
   "outputs": [],
   "source": [
    "for i in range(50):\n",
    "    # The ~5% of younger individuals who did experiece side effets\n",
    "    random_younger = randint(13,64)\n",
    "    train_samples.append(random_younger)\n",
    "    train_labels.append(1)\n",
    "    \n",
    "    # The ~5% of the older population who did not experience side effects \n",
    "    random_older = randint(65,100)\n",
    "    train_samples.append(random_older)\n",
    "    train_labels.append(0)\n"
   ]
  }
 ],
 "metadata": {
  "kernelspec": {
   "display_name": "Python 3 (ipykernel)",
   "language": "python",
   "name": "python3"
  },
  "language_info": {
   "codemirror_mode": {
    "name": "ipython",
    "version": 3
   },
   "file_extension": ".py",
   "mimetype": "text/x-python",
   "name": "python",
   "nbconvert_exporter": "python",
   "pygments_lexer": "ipython3",
   "version": "3.11.5"
  }
 },
 "nbformat": 4,
 "nbformat_minor": 5
}
