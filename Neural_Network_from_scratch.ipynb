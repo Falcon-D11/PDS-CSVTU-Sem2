{
 "cells": [
  {
   "cell_type": "code",
   "id": "initial_id",
   "metadata": {
    "collapsed": true,
    "ExecuteTime": {
     "end_time": "2024-06-09T07:05:13.238061Z",
     "start_time": "2024-06-09T07:05:10.035832Z"
    }
   },
   "source": [
    "import numpy as np\n",
    "import matplotlib.pyplot as plt\n",
    "import pandas as pd"
   ],
   "outputs": [],
   "execution_count": 1
  },
  {
   "metadata": {
    "ExecuteTime": {
     "end_time": "2024-06-09T07:16:37.228868Z",
     "start_time": "2024-06-09T07:16:34.405324Z"
    }
   },
   "cell_type": "code",
   "source": "data = pd.read_csv('C:\\\\Users\\\\Administrator\\\\Documents\\\\kaggle\\\\train.csv\\\\train.csv')",
   "id": "7cbe23773ac3e1a",
   "outputs": [],
   "execution_count": 3
  },
  {
   "metadata": {
    "ExecuteTime": {
     "end_time": "2024-06-09T07:17:05.859148Z",
     "start_time": "2024-06-09T07:17:04.254070Z"
    }
   },
   "cell_type": "code",
   "source": [
    "data = np.array(data)\n",
    "m, n = data.shape\n",
    "np.random.shuffle(data)"
   ],
   "id": "b5b08485d18b9aea",
   "outputs": [],
   "execution_count": 4
  },
  {
   "metadata": {
    "ExecuteTime": {
     "end_time": "2024-06-09T07:17:29.950185Z",
     "start_time": "2024-06-09T07:17:29.934828Z"
    }
   },
   "cell_type": "code",
   "source": [
    "data_dev = data[0:1000].T\n",
    "Y_dev = data_dev[0]\n",
    "X_dev = data_dev[1:n]\n",
    "X_dev = X_dev / 255."
   ],
   "id": "383065461e419bb5",
   "outputs": [],
   "execution_count": 5
  },
  {
   "metadata": {
    "ExecuteTime": {
     "end_time": "2024-06-09T07:17:57.776770Z",
     "start_time": "2024-06-09T07:17:56.972576Z"
    }
   },
   "cell_type": "code",
   "source": [
    "data_train = data[1000:m].T\n",
    "Y_train = data_train[0]\n",
    "X_train = data_train[1:n]\n",
    "X_train = X_train / 255.\n",
    "_,m_train = X_train.shape"
   ],
   "id": "e126417259603f92",
   "outputs": [],
   "execution_count": 6
  },
  {
   "metadata": {
    "ExecuteTime": {
     "end_time": "2024-06-09T07:18:16.106966Z",
     "start_time": "2024-06-09T07:18:16.026458Z"
    }
   },
   "cell_type": "code",
   "source": "Y_train",
   "id": "34cb3ce0c7257cc5",
   "outputs": [
    {
     "data": {
      "text/plain": [
       "array([1, 5, 6, ..., 5, 7, 7], dtype=int64)"
      ]
     },
     "execution_count": 7,
     "metadata": {},
     "output_type": "execute_result"
    }
   ],
   "execution_count": 7
  },
  {
   "metadata": {
    "ExecuteTime": {
     "end_time": "2024-06-09T07:18:41.400589Z",
     "start_time": "2024-06-09T07:18:41.379678Z"
    }
   },
   "cell_type": "code",
   "source": [
    "def init_params():\n",
    "    W1 = np.random.rand(10, 784) - 0.5\n",
    "    b1 = np.random.rand(10, 1) - 0.5\n",
    "    W2 = np.random.rand(10, 10) - 0.5\n",
    "    b2 = np.random.rand(10, 1) - 0.5\n",
    "    return W1, b1, W2, b2"
   ],
   "id": "666fb7e514216db1",
   "outputs": [],
   "execution_count": 8
  },
  {
   "metadata": {
    "ExecuteTime": {
     "end_time": "2024-06-09T07:19:15.831112Z",
     "start_time": "2024-06-09T07:19:15.819283Z"
    }
   },
   "cell_type": "code",
   "source": [
    "def ReLU(Z):\n",
    "    return np.maximum(Z, 0)\n"
   ],
   "id": "c06018ed61f9d672",
   "outputs": [],
   "execution_count": 9
  },
  {
   "metadata": {
    "ExecuteTime": {
     "end_time": "2024-06-09T07:19:47.659231Z",
     "start_time": "2024-06-09T07:19:47.645277Z"
    }
   },
   "cell_type": "code",
   "source": [
    "def softmax(Z):\n",
    "    A = np.exp(Z) / sum(np.exp(Z))\n",
    "    return A"
   ],
   "id": "2c147fe47754d1de",
   "outputs": [],
   "execution_count": 10
  },
  {
   "metadata": {
    "ExecuteTime": {
     "end_time": "2024-06-09T07:20:18.740452Z",
     "start_time": "2024-06-09T07:20:18.725549Z"
    }
   },
   "cell_type": "code",
   "source": [
    "def forward_prop(W1, b1, W2, b2, X):\n",
    "    Z1 = W1.dot(X) + b1\n",
    "    A1 = ReLU(Z1)\n",
    "    Z2 = W2.dot(A1) + b2\n",
    "    A2 = softmax(Z2)\n",
    "    return Z1, A1, Z2, A2"
   ],
   "id": "faed32b4c1c9fdcc",
   "outputs": [],
   "execution_count": 11
  },
  {
   "metadata": {
    "ExecuteTime": {
     "end_time": "2024-06-09T07:20:40.004787Z",
     "start_time": "2024-06-09T07:20:39.987763Z"
    }
   },
   "cell_type": "code",
   "source": [
    "def ReLU_deriv(Z):\n",
    "    return Z > 0"
   ],
   "id": "12b21f6d3e2e8ee",
   "outputs": [],
   "execution_count": 12
  },
  {
   "metadata": {
    "ExecuteTime": {
     "end_time": "2024-06-09T07:20:56.938516Z",
     "start_time": "2024-06-09T07:20:56.925445Z"
    }
   },
   "cell_type": "code",
   "source": [
    "def one_hot(Y):\n",
    "    one_hot_Y = np.zeros((Y.size, Y.max() + 1))\n",
    "    one_hot_Y[np.arange(Y.size), Y] = 1\n",
    "    one_hot_Y = one_hot_Y.T\n",
    "    return one_hot_Y"
   ],
   "id": "7dc6f1abd7ef9a49",
   "outputs": [],
   "execution_count": 13
  },
  {
   "metadata": {
    "ExecuteTime": {
     "end_time": "2024-06-09T07:21:20.443331Z",
     "start_time": "2024-06-09T07:21:20.425727Z"
    }
   },
   "cell_type": "code",
   "source": [
    "def backward_prop(Z1, A1, Z2, A2, W1, W2, X, Y):\n",
    "    one_hot_Y = one_hot(Y)\n",
    "    dZ2 = A2 - one_hot_Y\n",
    "    dW2 = 1 / m * dZ2.dot(A1.T)\n",
    "    db2 = 1 / m * np.sum(dZ2)\n",
    "    dZ1 = W2.T.dot(dZ2) * ReLU_deriv(Z1)\n",
    "    dW1 = 1 / m * dZ1.dot(X.T)\n",
    "    db1 = 1 / m * np.sum(dZ1)\n",
    "    return dW1, db1, dW2, db2"
   ],
   "id": "4688c4987dd94928",
   "outputs": [],
   "execution_count": 14
  },
  {
   "metadata": {
    "ExecuteTime": {
     "end_time": "2024-06-09T07:21:59.228771Z",
     "start_time": "2024-06-09T07:21:59.221672Z"
    }
   },
   "cell_type": "code",
   "source": [
    "def update_params(W1, b1, W2, b2, dW1, db1, dW2, db2, alpha):\n",
    "    W1 = W1 - alpha * dW1\n",
    "    b1 = b1 - alpha * db1    \n",
    "    W2 = W2 - alpha * dW2  \n",
    "    b2 = b2 - alpha * db2    \n",
    "    return W1, b1, W2, b2"
   ],
   "id": "236bcb2dde7982ee",
   "outputs": [],
   "execution_count": 15
  },
  {
   "metadata": {
    "ExecuteTime": {
     "end_time": "2024-06-09T07:22:35.300603Z",
     "start_time": "2024-06-09T07:22:35.278359Z"
    }
   },
   "cell_type": "code",
   "source": [
    "def get_predictions(A2):\n",
    "    return np.argmax(A2, 0)\n",
    "\n",
    "def get_accuracy(predictions, Y):\n",
    "    print(predictions, Y)\n",
    "    return np.sum(predictions == Y) / Y.size\n",
    "\n",
    "def gradient_descent(X, Y, alpha, iterations):\n",
    "    W1, b1, W2, b2 = init_params()\n",
    "    for i in range(iterations):\n",
    "        Z1, A1, Z2, A2 = forward_prop(W1, b1, W2, b2, X)\n",
    "        dW1, db1, dW2, db2 = backward_prop(Z1, A1, Z2, A2, W1, W2, X, Y)\n",
    "        W1, b1, W2, b2 = update_params(W1, b1, W2, b2, dW1, db1, dW2, db2, alpha)\n",
    "        if i % 10 == 0:\n",
    "            print(\"Iteration: \", i)\n",
    "            predictions = get_predictions(A2)\n",
    "            print(get_accuracy(predictions, Y))\n",
    "    return W1, b1, W2, b2"
   ],
   "id": "ebda108a2b3c3e49",
   "outputs": [],
   "execution_count": 16
  },
  {
   "metadata": {
    "ExecuteTime": {
     "end_time": "2024-06-09T07:23:30.777029Z",
     "start_time": "2024-06-09T07:23:05.907548Z"
    }
   },
   "cell_type": "code",
   "source": "W1, b1, W2, b2 = gradient_descent(X_train, Y_train, 0.10, 500)",
   "id": "c74d94ffa2ffd646",
   "outputs": [
    {
     "name": "stdout",
     "output_type": "stream",
     "text": [
      "Iteration:  0\n",
      "[3 2 3 ... 3 2 3] [1 5 6 ... 5 7 7]\n",
      "0.0744390243902439\n",
      "Iteration:  10\n",
      "[2 6 6 ... 7 6 6] [1 5 6 ... 5 7 7]\n",
      "0.10639024390243902\n",
      "Iteration:  20\n",
      "[2 6 6 ... 7 8 8] [1 5 6 ... 5 7 7]\n",
      "0.17326829268292682\n",
      "Iteration:  30\n",
      "[2 2 7 ... 7 8 7] [1 5 6 ... 5 7 7]\n",
      "0.23426829268292684\n",
      "Iteration:  40\n",
      "[2 3 7 ... 7 8 7] [1 5 6 ... 5 7 7]\n",
      "0.3131951219512195\n",
      "Iteration:  50\n",
      "[1 3 7 ... 7 8 7] [1 5 6 ... 5 7 7]\n",
      "0.39463414634146343\n",
      "Iteration:  60\n",
      "[1 3 6 ... 7 8 7] [1 5 6 ... 5 7 7]\n",
      "0.45726829268292685\n",
      "Iteration:  70\n",
      "[1 3 6 ... 2 2 7] [1 5 6 ... 5 7 7]\n",
      "0.5041707317073171\n",
      "Iteration:  80\n",
      "[1 3 6 ... 2 2 7] [1 5 6 ... 5 7 7]\n",
      "0.5454390243902439\n",
      "Iteration:  90\n",
      "[1 3 6 ... 2 2 7] [1 5 6 ... 5 7 7]\n",
      "0.5782926829268292\n",
      "Iteration:  100\n",
      "[1 3 6 ... 2 2 7] [1 5 6 ... 5 7 7]\n",
      "0.6061463414634146\n",
      "Iteration:  110\n",
      "[1 3 6 ... 2 2 7] [1 5 6 ... 5 7 7]\n",
      "0.6284146341463415\n",
      "Iteration:  120\n",
      "[1 3 6 ... 2 2 7] [1 5 6 ... 5 7 7]\n",
      "0.6485609756097561\n",
      "Iteration:  130\n",
      "[1 3 6 ... 2 2 7] [1 5 6 ... 5 7 7]\n",
      "0.6658536585365854\n",
      "Iteration:  140\n",
      "[1 3 6 ... 2 2 7] [1 5 6 ... 5 7 7]\n",
      "0.6816585365853659\n",
      "Iteration:  150\n",
      "[1 3 6 ... 2 2 7] [1 5 6 ... 5 7 7]\n",
      "0.6953170731707317\n",
      "Iteration:  160\n",
      "[1 3 6 ... 2 2 7] [1 5 6 ... 5 7 7]\n",
      "0.7067073170731707\n",
      "Iteration:  170\n",
      "[1 3 6 ... 2 2 7] [1 5 6 ... 5 7 7]\n",
      "0.7172195121951219\n",
      "Iteration:  180\n",
      "[1 3 6 ... 2 2 7] [1 5 6 ... 5 7 7]\n",
      "0.7260975609756097\n",
      "Iteration:  190\n",
      "[1 3 6 ... 2 2 7] [1 5 6 ... 5 7 7]\n",
      "0.7346585365853658\n",
      "Iteration:  200\n",
      "[1 3 6 ... 2 2 7] [1 5 6 ... 5 7 7]\n",
      "0.7418048780487805\n",
      "Iteration:  210\n",
      "[1 3 6 ... 2 2 7] [1 5 6 ... 5 7 7]\n",
      "0.7499756097560976\n",
      "Iteration:  220\n",
      "[1 3 6 ... 2 2 7] [1 5 6 ... 5 7 7]\n",
      "0.7555121951219512\n",
      "Iteration:  230\n",
      "[1 3 6 ... 2 2 7] [1 5 6 ... 5 7 7]\n",
      "0.7619268292682927\n",
      "Iteration:  240\n",
      "[1 3 6 ... 2 2 7] [1 5 6 ... 5 7 7]\n",
      "0.768\n",
      "Iteration:  250\n",
      "[1 3 6 ... 2 2 7] [1 5 6 ... 5 7 7]\n",
      "0.7725121951219512\n",
      "Iteration:  260\n",
      "[1 3 6 ... 2 2 7] [1 5 6 ... 5 7 7]\n",
      "0.7780975609756098\n",
      "Iteration:  270\n",
      "[1 3 6 ... 2 2 7] [1 5 6 ... 5 7 7]\n",
      "0.7831219512195122\n",
      "Iteration:  280\n",
      "[1 3 6 ... 2 2 7] [1 5 6 ... 5 7 7]\n",
      "0.7863902439024391\n",
      "Iteration:  290\n",
      "[1 3 6 ... 2 2 7] [1 5 6 ... 5 7 7]\n",
      "0.7907804878048781\n",
      "Iteration:  300\n",
      "[1 3 6 ... 3 2 7] [1 5 6 ... 5 7 7]\n",
      "0.7950243902439025\n",
      "Iteration:  310\n",
      "[1 3 6 ... 3 2 7] [1 5 6 ... 5 7 7]\n",
      "0.7985609756097561\n",
      "Iteration:  320\n",
      "[1 3 6 ... 3 2 7] [1 5 6 ... 5 7 7]\n",
      "0.8021707317073171\n",
      "Iteration:  330\n",
      "[1 3 6 ... 3 2 7] [1 5 6 ... 5 7 7]\n",
      "0.8054146341463415\n",
      "Iteration:  340\n",
      "[1 3 6 ... 3 2 7] [1 5 6 ... 5 7 7]\n",
      "0.8083414634146342\n",
      "Iteration:  350\n",
      "[1 3 6 ... 3 2 7] [1 5 6 ... 5 7 7]\n",
      "0.8111951219512196\n",
      "Iteration:  360\n",
      "[1 3 6 ... 3 2 7] [1 5 6 ... 5 7 7]\n",
      "0.8136585365853658\n",
      "Iteration:  370\n",
      "[1 3 6 ... 3 2 7] [1 5 6 ... 5 7 7]\n",
      "0.8162926829268292\n",
      "Iteration:  380\n",
      "[1 3 6 ... 3 2 7] [1 5 6 ... 5 7 7]\n",
      "0.8189268292682926\n",
      "Iteration:  390\n",
      "[1 5 6 ... 3 2 7] [1 5 6 ... 5 7 7]\n",
      "0.8215853658536585\n",
      "Iteration:  400\n",
      "[1 5 6 ... 3 2 7] [1 5 6 ... 5 7 7]\n",
      "0.8234878048780487\n",
      "Iteration:  410\n",
      "[1 5 6 ... 3 2 7] [1 5 6 ... 5 7 7]\n",
      "0.825780487804878\n",
      "Iteration:  420\n",
      "[1 5 6 ... 3 2 7] [1 5 6 ... 5 7 7]\n",
      "0.8276097560975609\n",
      "Iteration:  430\n",
      "[1 5 6 ... 3 2 7] [1 5 6 ... 5 7 7]\n",
      "0.829780487804878\n",
      "Iteration:  440\n",
      "[1 5 6 ... 3 2 7] [1 5 6 ... 5 7 7]\n",
      "0.8319268292682926\n",
      "Iteration:  450\n",
      "[1 5 6 ... 3 2 7] [1 5 6 ... 5 7 7]\n",
      "0.8331219512195122\n",
      "Iteration:  460\n",
      "[1 5 6 ... 3 2 7] [1 5 6 ... 5 7 7]\n",
      "0.8352439024390244\n",
      "Iteration:  470\n",
      "[1 5 6 ... 3 2 7] [1 5 6 ... 5 7 7]\n",
      "0.8375853658536585\n",
      "Iteration:  480\n",
      "[1 5 6 ... 3 2 7] [1 5 6 ... 5 7 7]\n",
      "0.839390243902439\n",
      "Iteration:  490\n",
      "[1 5 6 ... 3 2 7] [1 5 6 ... 5 7 7]\n",
      "0.8407317073170731\n"
     ]
    }
   ],
   "execution_count": 17
  },
  {
   "metadata": {
    "ExecuteTime": {
     "end_time": "2024-06-09T07:24:14.966430Z",
     "start_time": "2024-06-09T07:24:14.935176Z"
    }
   },
   "cell_type": "code",
   "source": [
    "def make_predictions(X, W1, b1, W2, b2):\n",
    "    _, _, _, A2 = forward_prop(W1, b1, W2, b2, X)\n",
    "    predictions = get_predictions(A2)\n",
    "    return predictions\n",
    "\n",
    "def test_prediction(index, W1, b1, W2, b2):\n",
    "    current_image = X_train[:, index, None]\n",
    "    prediction = make_predictions(X_train[:, index, None], W1, b1, W2, b2)\n",
    "    label = Y_train[index]\n",
    "    print(\"Prediction: \", prediction)\n",
    "    print(\"Label: \", label)\n",
    "    \n",
    "    current_image = current_image.reshape((28, 28)) * 255\n",
    "    plt.gray()\n",
    "    plt.imshow(current_image, interpolation='nearest')\n",
    "    plt.show()"
   ],
   "id": "1cb5ba6be1a6c939",
   "outputs": [],
   "execution_count": 18
  },
  {
   "metadata": {},
   "cell_type": "code",
   "outputs": [],
   "execution_count": null,
   "source": "",
   "id": "be7067f3653bda3c"
  }
 ],
 "metadata": {
  "kernelspec": {
   "display_name": "Python 3",
   "language": "python",
   "name": "python3"
  },
  "language_info": {
   "codemirror_mode": {
    "name": "ipython",
    "version": 2
   },
   "file_extension": ".py",
   "mimetype": "text/x-python",
   "name": "python",
   "nbconvert_exporter": "python",
   "pygments_lexer": "ipython2",
   "version": "2.7.6"
  }
 },
 "nbformat": 4,
 "nbformat_minor": 5
}
