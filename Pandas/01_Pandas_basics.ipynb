{
 "cells": [
  {
   "cell_type": "markdown",
   "id": "f9a55b53ccb4113b",
   "metadata": {},
   "source": [
    "### What is Pandas\n",
    "\n",
    "Pandas is a fast, powerful, flexible and easy to use open source data analysis and manipulation tool,\n",
    "built on top of the Python programming language."
   ]
  },
  {
   "cell_type": "markdown",
   "id": "79adff8e219cf00c",
   "metadata": {},
   "source": [
    "### Pandas Series\n",
    "\n",
    "A Pandas Series is like a column in a table. It is a 1-D array holding data of any type."
   ]
  },
  {
   "cell_type": "code",
   "execution_count": 1,
   "id": "7f417016cc90a87a",
   "metadata": {
    "ExecuteTime": {
     "end_time": "2024-06-12T10:41:05.612645Z",
     "start_time": "2024-06-12T10:41:04.259822Z"
    }
   },
   "outputs": [],
   "source": [
    "import pandas as pd\n",
    "import numpy as np"
   ]
  },
  {
   "cell_type": "markdown",
   "id": "c9bf59a3ea2f359e",
   "metadata": {},
   "source": [
    "### Creating a Pandas Series using List"
   ]
  },
  {
   "cell_type": "code",
   "execution_count": 2,
   "id": "d203d858a4e4de4f",
   "metadata": {
    "ExecuteTime": {
     "end_time": "2024-06-12T15:43:56.907539Z",
     "start_time": "2024-06-12T15:43:56.893979Z"
    }
   },
   "outputs": [],
   "source": [
    "# string\n",
    "s = pd.Series(['a', 'b', 'c', 'd'])"
   ]
  },
  {
   "cell_type": "code",
   "execution_count": 6,
   "id": "e6ca67f08a60a0a0",
   "metadata": {
    "ExecuteTime": {
     "end_time": "2024-06-12T15:46:08.451225Z",
     "start_time": "2024-06-12T15:46:08.441918Z"
    }
   },
   "outputs": [
    {
     "name": "stdout",
     "output_type": "stream",
     "text": [
      "0        USA\n",
      "1     Canada\n",
      "2    Germany\n",
      "3         UK\n",
      "dtype: object\n"
     ]
    }
   ],
   "source": [
    "country = ['USA', 'Canada', 'Germany', 'UK']\n",
    "s = pd.Series(country)\n",
    "print(s)"
   ]
  },
  {
   "cell_type": "code",
   "execution_count": 7,
   "id": "20f0a5f8184b2774",
   "metadata": {
    "ExecuteTime": {
     "end_time": "2024-06-12T15:46:12.077931Z",
     "start_time": "2024-06-12T15:46:12.070254Z"
    }
   },
   "outputs": [],
   "source": [
    "# integer\n",
    "s = pd.Series([1, 2, 3, 4])\n"
   ]
  },
  {
   "cell_type": "code",
   "execution_count": 8,
   "id": "e53fc2e6637d4d4",
   "metadata": {
    "ExecuteTime": {
     "end_time": "2024-06-12T15:46:13.070008Z",
     "start_time": "2024-06-12T15:46:13.065592Z"
    }
   },
   "outputs": [
    {
     "name": "stdout",
     "output_type": "stream",
     "text": [
      "0    1\n",
      "1    2\n",
      "2    3\n",
      "3    4\n",
      "dtype: int64\n"
     ]
    }
   ],
   "source": [
    "print(s)"
   ]
  },
  {
   "cell_type": "code",
   "execution_count": 9,
   "id": "ebfb8933d5147890",
   "metadata": {
    "ExecuteTime": {
     "end_time": "2024-06-12T16:00:49.693157Z",
     "start_time": "2024-06-12T16:00:49.672280Z"
    }
   },
   "outputs": [
    {
     "name": "stdout",
     "output_type": "stream",
     "text": [
      "Maths      90\n",
      "Science    80\n",
      "English    70\n",
      "History    60\n",
      "dtype: int64\n"
     ]
    }
   ],
   "source": [
    "# custom index\n",
    "marks = [90, 80, 70, 60]\n",
    "subject = ['Maths', 'Science', 'English', 'History']\n",
    "s = pd.Series(marks, index=subject)\n",
    "print(s)"
   ]
  },
  {
   "cell_type": "code",
   "execution_count": 10,
   "id": "e2214d8549f1d225",
   "metadata": {
    "ExecuteTime": {
     "end_time": "2024-06-12T16:03:38.466234Z",
     "start_time": "2024-06-12T16:03:38.461750Z"
    }
   },
   "outputs": [
    {
     "name": "stdout",
     "output_type": "stream",
     "text": [
      "Maths      90\n",
      "Science    80\n",
      "English    70\n",
      "History    60\n",
      "Name: Marks hai bhai mere, dtype: int64\n"
     ]
    }
   ],
   "source": [
    "# Setting a name to the Series\n",
    "s = pd.Series(marks, index=subject, name='Marks hai bhai mere')\n",
    "print(s)"
   ]
  },
  {
   "cell_type": "code",
   "execution_count": 11,
   "id": "4e3359df340ae030",
   "metadata": {
    "ExecuteTime": {
     "end_time": "2024-06-12T16:04:08.272265Z",
     "start_time": "2024-06-12T16:04:08.266077Z"
    }
   },
   "outputs": [
    {
     "name": "stdout",
     "output_type": "stream",
     "text": [
      "0    10\n",
      "1    20\n",
      "2    30\n",
      "3    40\n",
      "dtype: int32\n"
     ]
    }
   ],
   "source": [
    "# Creating a Series from a numpy array\n",
    "arr = np.array([10, 20, 30, 40])\n",
    "s = pd.Series(arr)\n",
    "print(s)"
   ]
  },
  {
   "cell_type": "code",
   "execution_count": 12,
   "id": "ae5976da73e6c665",
   "metadata": {
    "ExecuteTime": {
     "end_time": "2024-06-12T16:07:24.418476Z",
     "start_time": "2024-06-12T16:07:24.397733Z"
    }
   },
   "outputs": [
    {
     "data": {
      "text/plain": [
       "Maths      90\n",
       "Science    80\n",
       "English    70\n",
       "History    60\n",
       "Name: Marks hai bhai mere, dtype: int64"
      ]
     },
     "execution_count": 12,
     "metadata": {},
     "output_type": "execute_result"
    }
   ],
   "source": [
    "marks = pd.Series(marks, index=subject, name='Marks hai bhai mere')\n",
    "marks\n"
   ]
  },
  {
   "cell_type": "code",
   "execution_count": 13,
   "id": "c7ae7f64df065aac",
   "metadata": {
    "ExecuteTime": {
     "end_time": "2024-06-12T16:09:15.304393Z",
     "start_time": "2024-06-12T16:09:15.287525Z"
    }
   },
   "outputs": [
    {
     "name": "stdout",
     "output_type": "stream",
     "text": [
      "Maths      90\n",
      "Science    80\n",
      "English    70\n",
      "History    60\n",
      "dtype: int64\n"
     ]
    }
   ],
   "source": [
    "# Series from a dictionary\n",
    "marks = {\n",
    "         'Maths': 90,\n",
    "         'Science': 80,\n",
    "         'English': 70,\n",
    "         'History': 60\n",
    "         }\n",
    "marks_series = pd.Series(marks)\n",
    "print(marks_series)"
   ]
  },
  {
   "cell_type": "code",
   "execution_count": null,
   "id": "efbdf7f5af8f503",
   "metadata": {},
   "outputs": [],
   "source": []
  }
 ],
 "metadata": {
  "kernelspec": {
   "display_name": "Python 3",
   "language": "python",
   "name": "python3"
  },
  "language_info": {
   "codemirror_mode": {
    "name": "ipython",
    "version": 2
   },
   "file_extension": ".py",
   "mimetype": "text/x-python",
   "name": "python",
   "nbconvert_exporter": "python",
   "pygments_lexer": "ipython2",
   "version": "3.12.4"
  }
 },
 "nbformat": 4,
 "nbformat_minor": 5
}
