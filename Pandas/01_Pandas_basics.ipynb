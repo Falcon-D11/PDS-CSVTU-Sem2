{
 "cells": [
  {
   "metadata": {},
   "cell_type": "markdown",
   "source": [
    "### What is Pandas\n",
    "\n",
    "Pandas is a fast, powerful, flexible and easy to use open source data analysis and manipulation tool,\n",
    "built on top of the Python programming language."
   ],
   "id": "f9a55b53ccb4113b"
  },
  {
   "metadata": {},
   "cell_type": "markdown",
   "source": [
    "### Pandas Series\n",
    "\n",
    "A Pandas Series is like a column in a table. It is a 1-D array holding data of any type."
   ],
   "id": "79adff8e219cf00c"
  },
  {
   "metadata": {
    "ExecuteTime": {
     "end_time": "2024-06-12T10:41:05.612645Z",
     "start_time": "2024-06-12T10:41:04.259822Z"
    }
   },
   "cell_type": "code",
   "source": [
    "import pandas as pd\n",
    "import numpy as np"
   ],
   "id": "7f417016cc90a87a",
   "outputs": [],
   "execution_count": 1
  },
  {
   "metadata": {},
   "cell_type": "markdown",
   "source": "### Creating a Pandas Series using List",
   "id": "c9bf59a3ea2f359e"
  },
  {
   "metadata": {
    "ExecuteTime": {
     "end_time": "2024-06-12T15:43:56.907539Z",
     "start_time": "2024-06-12T15:43:56.893979Z"
    }
   },
   "cell_type": "code",
   "source": [
    "# string\n",
    "s = pd.Series(['a', 'b', 'c', 'd'])"
   ],
   "id": "d203d858a4e4de4f",
   "outputs": [],
   "execution_count": 2
  },
  {
   "metadata": {
    "ExecuteTime": {
     "end_time": "2024-06-12T15:46:08.451225Z",
     "start_time": "2024-06-12T15:46:08.441918Z"
    }
   },
   "cell_type": "code",
   "source": [
    "country = ['USA', 'Canada', 'Germany', 'UK']\n",
    "s = pd.Series(country)\n",
    "print(s)"
   ],
   "id": "e6ca67f08a60a0a0",
   "outputs": [
    {
     "name": "stdout",
     "output_type": "stream",
     "text": [
      "0        USA\n",
      "1     Canada\n",
      "2    Germany\n",
      "3         UK\n",
      "dtype: object\n"
     ]
    }
   ],
   "execution_count": 6
  },
  {
   "metadata": {
    "ExecuteTime": {
     "end_time": "2024-06-12T15:46:12.077931Z",
     "start_time": "2024-06-12T15:46:12.070254Z"
    }
   },
   "cell_type": "code",
   "source": [
    "# integer\n",
    "s = pd.Series([1, 2, 3, 4])\n"
   ],
   "id": "20f0a5f8184b2774",
   "outputs": [],
   "execution_count": 7
  },
  {
   "metadata": {
    "ExecuteTime": {
     "end_time": "2024-06-12T15:46:13.070008Z",
     "start_time": "2024-06-12T15:46:13.065592Z"
    }
   },
   "cell_type": "code",
   "source": "print(s)",
   "id": "e53fc2e6637d4d4",
   "outputs": [
    {
     "name": "stdout",
     "output_type": "stream",
     "text": [
      "0    1\n",
      "1    2\n",
      "2    3\n",
      "3    4\n",
      "dtype: int64\n"
     ]
    }
   ],
   "execution_count": 8
  },
  {
   "metadata": {
    "ExecuteTime": {
     "end_time": "2024-06-12T16:00:49.693157Z",
     "start_time": "2024-06-12T16:00:49.672280Z"
    }
   },
   "cell_type": "code",
   "source": [
    "# custom index\n",
    "marks = [90, 80, 70, 60]\n",
    "subject = ['Maths', 'Science', 'English', 'History']\n",
    "s = pd.Series(marks, index=subject)\n",
    "print(s)"
   ],
   "id": "ebfb8933d5147890",
   "outputs": [
    {
     "name": "stdout",
     "output_type": "stream",
     "text": [
      "Maths      90\n",
      "Science    80\n",
      "English    70\n",
      "History    60\n",
      "dtype: int64\n"
     ]
    }
   ],
   "execution_count": 9
  },
  {
   "metadata": {},
   "cell_type": "code",
   "outputs": [],
   "execution_count": null,
   "source": "",
   "id": "e2214d8549f1d225"
  }
 ],
 "metadata": {
  "kernelspec": {
   "display_name": "Python 3",
   "language": "python",
   "name": "python3"
  },
  "language_info": {
   "codemirror_mode": {
    "name": "ipython",
    "version": 2
   },
   "file_extension": ".py",
   "mimetype": "text/x-python",
   "name": "python",
   "nbconvert_exporter": "python",
   "pygments_lexer": "ipython2",
   "version": "2.7.6"
  }
 },
 "nbformat": 4,
 "nbformat_minor": 5
}
