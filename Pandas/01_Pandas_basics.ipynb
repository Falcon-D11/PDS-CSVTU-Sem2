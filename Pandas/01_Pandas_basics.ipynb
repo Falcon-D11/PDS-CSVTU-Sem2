{
 "cells": [
  {
   "metadata": {},
   "cell_type": "markdown",
   "source": [
    "### What is Pandas\n",
    "\n",
    "Pandas is a fast, powerful, flexible and easy to use open source data analysis and manipulation tool,\n",
    "built on top of the Python programming language."
   ],
   "id": "f9a55b53ccb4113b"
  },
  {
   "metadata": {},
   "cell_type": "markdown",
   "source": [
    "### Pandas Series\n",
    "\n",
    "A Pandas Series is like a column in a table. It is a 1-D array holding data of any type."
   ],
   "id": "79adff8e219cf00c"
  },
  {
   "metadata": {
    "ExecuteTime": {
     "end_time": "2024-06-12T10:41:05.612645Z",
     "start_time": "2024-06-12T10:41:04.259822Z"
    }
   },
   "cell_type": "code",
   "source": [
    "import pandas as pd\n",
    "import numpy as np"
   ],
   "id": "7f417016cc90a87a",
   "outputs": [],
   "execution_count": 1
  },
  {
   "metadata": {},
   "cell_type": "markdown",
   "source": "### Creating a Pandas Series using List",
   "id": "c9bf59a3ea2f359e"
  },
  {
   "metadata": {
    "ExecuteTime": {
     "end_time": "2024-06-12T15:43:56.907539Z",
     "start_time": "2024-06-12T15:43:56.893979Z"
    }
   },
   "cell_type": "code",
   "source": [
    "# string\n",
    "s = pd.Series(['a', 'b', 'c', 'd'])"
   ],
   "id": "d203d858a4e4de4f",
   "outputs": [],
   "execution_count": 2
  },
  {
   "metadata": {},
   "cell_type": "code",
   "outputs": [],
   "execution_count": null,
   "source": "",
   "id": "e6ca67f08a60a0a0"
  }
 ],
 "metadata": {
  "kernelspec": {
   "display_name": "Python 3",
   "language": "python",
   "name": "python3"
  },
  "language_info": {
   "codemirror_mode": {
    "name": "ipython",
    "version": 2
   },
   "file_extension": ".py",
   "mimetype": "text/x-python",
   "name": "python",
   "nbconvert_exporter": "python",
   "pygments_lexer": "ipython2",
   "version": "2.7.6"
  }
 },
 "nbformat": 4,
 "nbformat_minor": 5
}
