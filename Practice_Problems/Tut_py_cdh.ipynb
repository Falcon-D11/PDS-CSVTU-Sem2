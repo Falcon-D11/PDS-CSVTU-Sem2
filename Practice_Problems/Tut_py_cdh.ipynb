{
 "cells": [
  {
   "metadata": {
    "ExecuteTime": {
     "end_time": "2024-06-17T00:11:04.300489Z",
     "start_time": "2024-06-17T00:11:04.288305Z"
    }
   },
   "cell_type": "code",
   "source": [
    "import os\n",
    "print(\"Hello: \", os.getcwd())\n",
    "print(\"Hello\")"
   ],
   "id": "413c98e88bb0a202",
   "outputs": [
    {
     "name": "stdout",
     "output_type": "stream",
     "text": [
      "Hello:  C:\\Users\\Administrator\\Documents\\GitHub\\PDS-CSVTU-Sem2\\Practice_Problems\n",
      "Hello\n"
     ]
    }
   ],
   "execution_count": 3
  },
  {
   "metadata": {
    "ExecuteTime": {
     "end_time": "2024-06-17T08:27:56.629815Z",
     "start_time": "2024-06-17T08:27:56.622377Z"
    }
   },
   "cell_type": "code",
   "source": [
    "print(\"5\")\n",
    "print(5)\n",
    "# printing data type\n",
    "print(type(5))\n",
    "print(type(\"5\"))\n"
   ],
   "id": "d0bb4dba44be833b",
   "outputs": [
    {
     "name": "stdout",
     "output_type": "stream",
     "text": [
      "5\n",
      "5\n",
      "<class 'int'>\n",
      "<class 'str'>\n"
     ]
    }
   ],
   "execution_count": 3
  },
  {
   "metadata": {},
   "cell_type": "code",
   "outputs": [],
   "execution_count": null,
   "source": "#variables and data types\n",
   "id": "533b6443c60d898c"
  }
 ],
 "metadata": {
  "kernelspec": {
   "display_name": "Python 3",
   "language": "python",
   "name": "python3"
  },
  "language_info": {
   "codemirror_mode": {
    "name": "ipython",
    "version": 2
   },
   "file_extension": ".py",
   "mimetype": "text/x-python",
   "name": "python",
   "nbconvert_exporter": "python",
   "pygments_lexer": "ipython2",
   "version": "2.7.6"
  }
 },
 "nbformat": 4,
 "nbformat_minor": 5
}
