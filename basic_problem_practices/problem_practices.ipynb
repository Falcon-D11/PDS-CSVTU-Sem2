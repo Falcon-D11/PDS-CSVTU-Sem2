{
 "cells": [
  {
   "cell_type": "code",
   "execution_count": 1,
   "metadata": {},
   "outputs": [],
   "source": [
    "# Portfolio Courses - Practice Problems"
   ]
  },
  {
   "cell_type": "code",
   "execution_count": 1,
   "metadata": {},
   "outputs": [
    {
     "name": "stdout",
     "output_type": "stream",
     "text": [
      "The file does not have that many lines.\n"
     ]
    },
    {
     "ename": "",
     "evalue": "",
     "output_type": "error",
     "traceback": [
      "\u001b[1;31mThe Kernel crashed while executing code in the current cell or a previous cell. \n",
      "\u001b[1;31mPlease review the code in the cell(s) to identify a possible cause of the failure. \n",
      "\u001b[1;31mClick <a href='https://aka.ms/vscodeJupyterKernelCrash'>here</a> for more info. \n",
      "\u001b[1;31mView Jupyter <a href='command:jupyter.viewOutput'>log</a> for further details."
     ]
    }
   ],
   "source": [
    "#Problem 1 - Reading a specific line from a file\n",
    "\n",
    "filename = input(\"Enter the file name: \")\n",
    "line_number = int(input(\"Enter the line number: \"))\n",
    "\n",
    "file = open(filename, \"r\")\n",
    "lines = file.readlines() # read all lines into a list\n",
    "file.close()\n",
    "\n",
    "total_lines = len(lines) # get the total number of lines in the file\n",
    "if line_number > total_lines: # check if the specified line number is greater than the total number of lines\n",
    "    print(\"The file does not have that many lines.\")\n",
    "    exit()\n",
    "else:\n",
    "    line = lines[line_number - 1].rstrip('\\n') # get the line at the specified index and remove the newline character\n",
    "    print(line)"
   ]
  },
  {
   "cell_type": "code",
   "execution_count": null,
   "metadata": {},
   "outputs": [],
   "source": []
  }
 ],
 "metadata": {
  "kernelspec": {
   "display_name": "Python 3",
   "language": "python",
   "name": "python3"
  },
  "language_info": {
   "codemirror_mode": {
    "name": "ipython",
    "version": 3
   },
   "file_extension": ".py",
   "mimetype": "text/x-python",
   "name": "python",
   "nbconvert_exporter": "python",
   "pygments_lexer": "ipython3",
   "version": "3.12.4"
  }
 },
 "nbformat": 4,
 "nbformat_minor": 2
}
