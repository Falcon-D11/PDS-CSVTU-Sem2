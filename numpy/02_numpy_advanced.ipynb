{
 "cells": [
  {
   "metadata": {},
   "cell_type": "markdown",
   "source": "# Numpy Advanced Stuffs",
   "id": "a0c190c5064fffec"
  },
  {
   "metadata": {
    "ExecuteTime": {
     "end_time": "2024-05-28T09:20:47.672064Z",
     "start_time": "2024-05-28T09:20:47.238643Z"
    }
   },
   "cell_type": "code",
   "source": "import numpy as np",
   "id": "caba3c883085ddba",
   "outputs": [],
   "execution_count": 1
  },
  {
   "metadata": {},
   "cell_type": "markdown",
   "source": "## Speed comparision of Numpy Array and Python Lists",
   "id": "2503ad5784b03054"
  },
  {
   "metadata": {
    "ExecuteTime": {
     "end_time": "2024-05-29T04:42:26.411713Z",
     "start_time": "2024-05-29T04:42:18.100683Z"
    }
   },
   "cell_type": "code",
   "source": [
    "# Speed \n",
    "# List\n",
    "a = [i for i in range(10000000)]\n",
    "b = [i for i in range(10000000,20000000)]\n",
    "\n",
    "c = []\n",
    "import time \n",
    "\n",
    "start = time.time()\n",
    "for i in range(len(a)):\n",
    "    c.append(a[i] + b[i])\n",
    "print(time.time() - start)"
   ],
   "id": "40d11cf0039e73a1",
   "outputs": [
    {
     "name": "stdout",
     "output_type": "stream",
     "text": [
      "4.278988599777222\n"
     ]
    }
   ],
   "execution_count": 2
  },
  {
   "metadata": {
    "ExecuteTime": {
     "end_time": "2024-05-29T04:45:21.790173Z",
     "start_time": "2024-05-29T04:45:21.726038Z"
    }
   },
   "cell_type": "code",
   "source": [
    "# numpy \n",
    "a = np.arange(10000000)\n",
    "b = np.arange(10000000,20000000)\n",
    "start = time.time()\n",
    "c = a+b \n",
    "print(time.time() - start)"
   ],
   "id": "fff5cc25089125cb",
   "outputs": [
    {
     "name": "stdout",
     "output_type": "stream",
     "text": [
      "0.01565861701965332\n"
     ]
    }
   ],
   "execution_count": 4
  },
  {
   "metadata": {
    "ExecuteTime": {
     "end_time": "2024-05-29T04:46:23.024700Z",
     "start_time": "2024-05-29T04:46:22.964346Z"
    }
   },
   "cell_type": "code",
   "source": [
    "# How many times faster ?\n",
    "4.278988599777222 / 0.01565861701965332"
   ],
   "id": "4075ec42ac1a8d66",
   "outputs": [
    {
     "data": {
      "text/plain": [
       "273.2673386421426"
      ]
     },
     "execution_count": 5,
     "metadata": {},
     "output_type": "execute_result"
    }
   ],
   "execution_count": 5
  },
  {
   "metadata": {},
   "cell_type": "markdown",
   "source": "### reason for faster output - numpy arrays use CTYPE Arrays whose sizes are fixed and they do not use referential arrays it means you directly put the data into the memory block and do not put their memory address.",
   "id": "a5b3751d692daaac"
  },
  {
   "metadata": {
    "ExecuteTime": {
     "end_time": "2024-05-29T06:36:37.389328Z",
     "start_time": "2024-05-29T06:36:35.930457Z"
    }
   },
   "cell_type": "code",
   "source": [
    "# Fayda in terms of MEMORY\n",
    "a = [ i for i in range(10000000)]\n",
    "import sys\n",
    "\n",
    "sys.getsizeof(a)"
   ],
   "id": "95c5c1820a806f03",
   "outputs": [
    {
     "data": {
      "text/plain": [
       "89095160"
      ]
     },
     "execution_count": 6,
     "metadata": {},
     "output_type": "execute_result"
    }
   ],
   "execution_count": 6
  },
  {
   "metadata": {
    "ExecuteTime": {
     "end_time": "2024-05-29T06:37:19.635079Z",
     "start_time": "2024-05-29T06:37:19.449809Z"
    }
   },
   "cell_type": "code",
   "source": [
    "a = np.arange(10000000)\n",
    "\n",
    "sys.getsizeof(a)"
   ],
   "id": "7bc647d4c498b890",
   "outputs": [
    {
     "data": {
      "text/plain": [
       "40000112"
      ]
     },
     "execution_count": 7,
     "metadata": {},
     "output_type": "execute_result"
    }
   ],
   "execution_count": 7
  },
  {
   "metadata": {
    "ExecuteTime": {
     "end_time": "2024-05-29T06:38:25.172818Z",
     "start_time": "2024-05-29T06:38:25.168052Z"
    }
   },
   "cell_type": "code",
   "source": [
    "# difference in size of memory blocks\n",
    "89095160 / 40000112"
   ],
   "id": "11449a4ed373361d",
   "outputs": [
    {
     "data": {
      "text/plain": [
       "2.2273727633562626"
      ]
     },
     "execution_count": 8,
     "metadata": {},
     "output_type": "execute_result"
    }
   ],
   "execution_count": 8
  },
  {
   "metadata": {},
   "cell_type": "markdown",
   "source": "# Advanced Indexing",
   "id": "fdd5dfea37a7f8da"
  },
  {
   "metadata": {
    "ExecuteTime": {
     "end_time": "2024-05-29T06:46:13.845264Z",
     "start_time": "2024-05-29T06:46:13.840272Z"
    }
   },
   "cell_type": "code",
   "source": [
    "# Normal indexing and slicing \n",
    "\n",
    "a = np.arange(24).reshape(6,4)\n",
    "a"
   ],
   "id": "66a2214497c2cd9",
   "outputs": [
    {
     "data": {
      "text/plain": [
       "array([[ 0,  1,  2,  3],\n",
       "       [ 4,  5,  6,  7],\n",
       "       [ 8,  9, 10, 11],\n",
       "       [12, 13, 14, 15],\n",
       "       [16, 17, 18, 19],\n",
       "       [20, 21, 22, 23]])"
      ]
     },
     "execution_count": 13,
     "metadata": {},
     "output_type": "execute_result"
    }
   ],
   "execution_count": 13
  },
  {
   "metadata": {
    "ExecuteTime": {
     "end_time": "2024-05-29T06:46:23.088722Z",
     "start_time": "2024-05-29T06:46:23.083214Z"
    }
   },
   "cell_type": "code",
   "source": "a[1,2]",
   "id": "d364e788bd7b50c1",
   "outputs": [
    {
     "data": {
      "text/plain": [
       "6"
      ]
     },
     "execution_count": 15,
     "metadata": {},
     "output_type": "execute_result"
    }
   ],
   "execution_count": 15
  },
  {
   "metadata": {
    "ExecuteTime": {
     "end_time": "2024-05-29T06:43:31.056981Z",
     "start_time": "2024-05-29T06:43:31.037888Z"
    }
   },
   "cell_type": "code",
   "source": "a[1:3,1:3]",
   "id": "2fa20a1479066c33",
   "outputs": [
    {
     "data": {
      "text/plain": [
       "array([[4, 5],\n",
       "       [7, 8]])"
      ]
     },
     "execution_count": 11,
     "metadata": {},
     "output_type": "execute_result"
    }
   ],
   "execution_count": 11
  },
  {
   "metadata": {},
   "cell_type": "markdown",
   "source": [
    "## Fancy Indexing and Boolean Indexing\n",
    "\n"
   ],
   "id": "aa5f89b112aa1fb4"
  },
  {
   "metadata": {
    "ExecuteTime": {
     "end_time": "2024-05-29T06:46:36.638341Z",
     "start_time": "2024-05-29T06:46:36.627725Z"
    }
   },
   "cell_type": "code",
   "source": "a ",
   "id": "346a3901b30cd172",
   "outputs": [
    {
     "data": {
      "text/plain": [
       "array([[ 0,  1,  2,  3],\n",
       "       [ 4,  5,  6,  7],\n",
       "       [ 8,  9, 10, 11],\n",
       "       [12, 13, 14, 15],\n",
       "       [16, 17, 18, 19],\n",
       "       [20, 21, 22, 23]])"
      ]
     },
     "execution_count": 16,
     "metadata": {},
     "output_type": "execute_result"
    }
   ],
   "execution_count": 16
  },
  {
   "metadata": {
    "ExecuteTime": {
     "end_time": "2024-05-29T06:47:32.844959Z",
     "start_time": "2024-05-29T06:47:32.840307Z"
    }
   },
   "cell_type": "code",
   "source": [
    "# now i need to print 1st ,second, third , last row\n",
    "\n",
    "a[[0,2,3,5]]"
   ],
   "id": "4dc15e7cf1f2f2d0",
   "outputs": [
    {
     "data": {
      "text/plain": [
       "array([[ 0,  1,  2,  3],\n",
       "       [ 8,  9, 10, 11],\n",
       "       [12, 13, 14, 15],\n",
       "       [20, 21, 22, 23]])"
      ]
     },
     "execution_count": 17,
     "metadata": {},
     "output_type": "execute_result"
    }
   ],
   "execution_count": 17
  },
  {
   "metadata": {
    "ExecuteTime": {
     "end_time": "2024-05-29T06:48:38.366334Z",
     "start_time": "2024-05-29T06:48:38.360004Z"
    }
   },
   "cell_type": "code",
   "source": "a[:,[0,2,3]] # printing all elements of columns 0,2,3",
   "id": "c27213e8ef0f40e0",
   "outputs": [
    {
     "data": {
      "text/plain": [
       "array([[ 0,  2,  3],\n",
       "       [ 4,  6,  7],\n",
       "       [ 8, 10, 11],\n",
       "       [12, 14, 15],\n",
       "       [16, 18, 19],\n",
       "       [20, 22, 23]])"
      ]
     },
     "execution_count": 18,
     "metadata": {},
     "output_type": "execute_result"
    }
   ],
   "execution_count": 18
  },
  {
   "metadata": {
    "ExecuteTime": {
     "end_time": "2024-05-29T07:35:47.521460Z",
     "start_time": "2024-05-29T07:35:47.517473Z"
    }
   },
   "cell_type": "code",
   "source": [
    "# Boolean Indexing\n",
    "a = np.random.randint(1,100,24).reshape(6,4)\n",
    "a"
   ],
   "id": "f54a698c5f548d5",
   "outputs": [
    {
     "data": {
      "text/plain": [
       "array([[33, 98, 59, 79],\n",
       "       [41, 78, 60, 34],\n",
       "       [23, 59, 15, 69],\n",
       "       [97,  7, 57, 70],\n",
       "       [52, 80, 66, 33],\n",
       "       [84, 87, 81, 58]])"
      ]
     },
     "execution_count": 20,
     "metadata": {},
     "output_type": "execute_result"
    }
   ],
   "execution_count": 20
  },
  {
   "metadata": {
    "ExecuteTime": {
     "end_time": "2024-05-29T07:36:39.969809Z",
     "start_time": "2024-05-29T07:36:39.959694Z"
    }
   },
   "cell_type": "code",
   "source": [
    "# find all numbers greater than 50\n",
    "a > 50"
   ],
   "id": "6a742d6ae2489f72",
   "outputs": [
    {
     "data": {
      "text/plain": [
       "array([[False,  True,  True,  True],\n",
       "       [False,  True,  True, False],\n",
       "       [False,  True, False,  True],\n",
       "       [ True, False,  True,  True],\n",
       "       [ True,  True,  True, False],\n",
       "       [ True,  True,  True,  True]])"
      ]
     },
     "execution_count": 21,
     "metadata": {},
     "output_type": "execute_result"
    }
   ],
   "execution_count": 21
  },
  {
   "metadata": {
    "ExecuteTime": {
     "end_time": "2024-05-29T07:37:05.694590Z",
     "start_time": "2024-05-29T07:37:05.689364Z"
    }
   },
   "cell_type": "code",
   "source": "a[a>50] # boolean masking",
   "id": "466c46923e655dd5",
   "outputs": [
    {
     "data": {
      "text/plain": [
       "array([98, 59, 79, 78, 60, 59, 69, 97, 57, 70, 52, 80, 66, 84, 87, 81, 58])"
      ]
     },
     "execution_count": 22,
     "metadata": {},
     "output_type": "execute_result"
    }
   ],
   "execution_count": 22
  },
  {
   "metadata": {
    "ExecuteTime": {
     "end_time": "2024-05-29T07:39:01.435410Z",
     "start_time": "2024-05-29T07:39:01.429772Z"
    }
   },
   "cell_type": "code",
   "source": [
    "# Find out even numbers\n",
    " \n",
    "a % 2 ==  0"
   ],
   "id": "e660054e2147a07e",
   "outputs": [
    {
     "data": {
      "text/plain": [
       "array([[False,  True, False, False],\n",
       "       [False,  True,  True,  True],\n",
       "       [False, False, False, False],\n",
       "       [False, False, False,  True],\n",
       "       [ True,  True,  True, False],\n",
       "       [ True, False, False,  True]])"
      ]
     },
     "execution_count": 23,
     "metadata": {},
     "output_type": "execute_result"
    }
   ],
   "execution_count": 23
  },
  {
   "metadata": {
    "ExecuteTime": {
     "end_time": "2024-05-29T07:39:12.163550Z",
     "start_time": "2024-05-29T07:39:12.157430Z"
    }
   },
   "cell_type": "code",
   "source": "a[a % 2 ==  0]",
   "id": "130cc991d106d562",
   "outputs": [
    {
     "data": {
      "text/plain": [
       "array([98, 78, 60, 34, 70, 52, 80, 66, 84, 58])"
      ]
     },
     "execution_count": 24,
     "metadata": {},
     "output_type": "execute_result"
    }
   ],
   "execution_count": 24
  },
  {
   "metadata": {
    "ExecuteTime": {
     "end_time": "2024-05-29T07:41:14.347817Z",
     "start_time": "2024-05-29T07:41:14.332606Z"
    }
   },
   "cell_type": "code",
   "source": [
    "# Find all numbers greater than 50 and are even\n",
    "( a > 50 ) & ( a % 2 == 0)"
   ],
   "id": "d7f76032f7f02735",
   "outputs": [
    {
     "data": {
      "text/plain": [
       "array([[False,  True, False, False],\n",
       "       [False,  True,  True, False],\n",
       "       [False, False, False, False],\n",
       "       [False, False, False,  True],\n",
       "       [ True,  True,  True, False],\n",
       "       [ True, False, False,  True]])"
      ]
     },
     "execution_count": 26,
     "metadata": {},
     "output_type": "execute_result"
    }
   ],
   "execution_count": 26
  },
  {
   "metadata": {
    "ExecuteTime": {
     "end_time": "2024-05-29T07:41:24.385885Z",
     "start_time": "2024-05-29T07:41:24.379161Z"
    }
   },
   "cell_type": "code",
   "source": "a[( a > 50 ) & ( a % 2 == 0)]",
   "id": "ac0934e32e8e210",
   "outputs": [
    {
     "data": {
      "text/plain": [
       "array([98, 78, 60, 70, 52, 80, 66, 84, 58])"
      ]
     },
     "execution_count": 27,
     "metadata": {},
     "output_type": "execute_result"
    }
   ],
   "execution_count": 27
  },
  {
   "metadata": {},
   "cell_type": "code",
   "outputs": [],
   "execution_count": null,
   "source": "",
   "id": "b02bc61bb5255c7d"
  }
 ],
 "metadata": {
  "kernelspec": {
   "display_name": "Python 3",
   "language": "python",
   "name": "python3"
  },
  "language_info": {
   "codemirror_mode": {
    "name": "ipython",
    "version": 2
   },
   "file_extension": ".py",
   "mimetype": "text/x-python",
   "name": "python",
   "nbconvert_exporter": "python",
   "pygments_lexer": "ipython2",
   "version": "2.7.6"
  }
 },
 "nbformat": 4,
 "nbformat_minor": 5
}
