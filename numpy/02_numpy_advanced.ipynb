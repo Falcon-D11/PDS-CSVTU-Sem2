{
 "cells": [
  {
   "metadata": {},
   "cell_type": "markdown",
   "source": "# Numpy Advanced Stuffs",
   "id": "a0c190c5064fffec"
  },
  {
   "metadata": {
    "ExecuteTime": {
     "end_time": "2024-05-28T09:20:47.672064Z",
     "start_time": "2024-05-28T09:20:47.238643Z"
    }
   },
   "cell_type": "code",
   "source": "import numpy as np",
   "id": "caba3c883085ddba",
   "outputs": [],
   "execution_count": 1
  },
  {
   "metadata": {},
   "cell_type": "markdown",
   "source": "## Speed comparision of Numpy Array and Python Lists",
   "id": "2503ad5784b03054"
  },
  {
   "metadata": {
    "ExecuteTime": {
     "end_time": "2024-05-29T04:42:26.411713Z",
     "start_time": "2024-05-29T04:42:18.100683Z"
    }
   },
   "cell_type": "code",
   "source": [
    "# Speed \n",
    "# List\n",
    "a = [i for i in range(10000000)]\n",
    "b = [i for i in range(10000000,20000000)]\n",
    "\n",
    "c = []\n",
    "import time \n",
    "\n",
    "start = time.time()\n",
    "for i in range(len(a)):\n",
    "    c.append(a[i] + b[i])\n",
    "print(time.time() - start)"
   ],
   "id": "40d11cf0039e73a1",
   "outputs": [
    {
     "name": "stdout",
     "output_type": "stream",
     "text": [
      "4.278988599777222\n"
     ]
    }
   ],
   "execution_count": 2
  },
  {
   "metadata": {
    "ExecuteTime": {
     "end_time": "2024-05-29T04:45:21.790173Z",
     "start_time": "2024-05-29T04:45:21.726038Z"
    }
   },
   "cell_type": "code",
   "source": [
    "# numpy \n",
    "a = np.arange(10000000)\n",
    "b = np.arange(10000000,20000000)\n",
    "start = time.time()\n",
    "c = a+b \n",
    "print(time.time() - start)"
   ],
   "id": "fff5cc25089125cb",
   "outputs": [
    {
     "name": "stdout",
     "output_type": "stream",
     "text": [
      "0.01565861701965332\n"
     ]
    }
   ],
   "execution_count": 4
  },
  {
   "metadata": {
    "ExecuteTime": {
     "end_time": "2024-05-29T04:46:23.024700Z",
     "start_time": "2024-05-29T04:46:22.964346Z"
    }
   },
   "cell_type": "code",
   "source": [
    "# How many times faster ?\n",
    "4.278988599777222 / 0.01565861701965332"
   ],
   "id": "4075ec42ac1a8d66",
   "outputs": [
    {
     "data": {
      "text/plain": [
       "273.2673386421426"
      ]
     },
     "execution_count": 5,
     "metadata": {},
     "output_type": "execute_result"
    }
   ],
   "execution_count": 5
  },
  {
   "metadata": {},
   "cell_type": "code",
   "outputs": [],
   "execution_count": null,
   "source": "",
   "id": "2f3196cf69b3c2f"
  }
 ],
 "metadata": {
  "kernelspec": {
   "display_name": "Python 3",
   "language": "python",
   "name": "python3"
  },
  "language_info": {
   "codemirror_mode": {
    "name": "ipython",
    "version": 2
   },
   "file_extension": ".py",
   "mimetype": "text/x-python",
   "name": "python",
   "nbconvert_exporter": "python",
   "pygments_lexer": "ipython2",
   "version": "2.7.6"
  }
 },
 "nbformat": 4,
 "nbformat_minor": 5
}
