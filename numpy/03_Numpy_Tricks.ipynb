{
 "cells": [
  {
   "metadata": {
    "ExecuteTime": {
     "end_time": "2024-05-30T04:19:42.181610Z",
     "start_time": "2024-05-30T04:19:41.702996Z"
    }
   },
   "cell_type": "code",
   "source": "import numpy as np",
   "id": "bbe983e8fb5e5458",
   "outputs": [],
   "execution_count": 1
  },
  {
   "metadata": {},
   "cell_type": "markdown",
   "source": "# np.sort",
   "id": "dbfc1144f74f6d8b"
  },
  {
   "metadata": {},
   "cell_type": "markdown",
   "source": "Return a sorted copy of an array.",
   "id": "1e4e502b7fb406f5"
  }
 ],
 "metadata": {
  "kernelspec": {
   "display_name": "Python 3",
   "language": "python",
   "name": "python3"
  },
  "language_info": {
   "codemirror_mode": {
    "name": "ipython",
    "version": 2
   },
   "file_extension": ".py",
   "mimetype": "text/x-python",
   "name": "python",
   "nbconvert_exporter": "python",
   "pygments_lexer": "ipython2",
   "version": "2.7.6"
  }
 },
 "nbformat": 4,
 "nbformat_minor": 5
}
