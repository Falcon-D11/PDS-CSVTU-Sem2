{
 "cells": [
  {
   "metadata": {
    "ExecuteTime": {
     "end_time": "2024-05-30T04:19:42.181610Z",
     "start_time": "2024-05-30T04:19:41.702996Z"
    }
   },
   "cell_type": "code",
   "source": "import numpy as np",
   "id": "bbe983e8fb5e5458",
   "outputs": [],
   "execution_count": 1
  },
  {
   "metadata": {},
   "cell_type": "markdown",
   "source": "# np.sort",
   "id": "dbfc1144f74f6d8b"
  },
  {
   "metadata": {},
   "cell_type": "markdown",
   "source": [
    "Return a sorted copy of an array.\\\n",
    "https://numpy.org/doc/stable/reference/generated/numpy.sort.html"
   ],
   "id": "1e4e502b7fb406f5"
  },
  {
   "metadata": {
    "ExecuteTime": {
     "end_time": "2024-05-30T04:20:36.645360Z",
     "start_time": "2024-05-30T04:20:36.634801Z"
    }
   },
   "cell_type": "code",
   "source": [
    "# code\n",
    "import numpy as np\n",
    "a = np.random.randint(1,100,15)\n",
    "a"
   ],
   "id": "178e7d46ce69ff5b",
   "outputs": [
    {
     "data": {
      "text/plain": [
       "array([16, 28, 76, 92, 72, 95, 59, 14, 23, 30, 39, 27, 11, 36, 76])"
      ]
     },
     "execution_count": 2,
     "metadata": {},
     "output_type": "execute_result"
    }
   ],
   "execution_count": 2
  },
  {
   "metadata": {
    "ExecuteTime": {
     "end_time": "2024-05-30T04:20:57.129202Z",
     "start_time": "2024-05-30T04:20:57.116725Z"
    }
   },
   "cell_type": "code",
   "source": [
    "b = np.random.randint(1,100,24).reshape(6,4)\n",
    "b"
   ],
   "id": "24b5d4baebb33912",
   "outputs": [
    {
     "data": {
      "text/plain": [
       "array([[23, 30, 65, 65],\n",
       "       [34, 39, 80, 97],\n",
       "       [29, 17, 26, 78],\n",
       "       [34, 12, 59, 99],\n",
       "       [48, 71,  3, 33],\n",
       "       [38, 36, 68, 87]])"
      ]
     },
     "execution_count": 3,
     "metadata": {},
     "output_type": "execute_result"
    }
   ],
   "execution_count": 3
  },
  {
   "metadata": {
    "ExecuteTime": {
     "end_time": "2024-05-30T04:26:29.106235Z",
     "start_time": "2024-05-30T04:26:29.102444Z"
    }
   },
   "cell_type": "code",
   "source": "np.sort(a)",
   "id": "4be3101fa81d251c",
   "outputs": [
    {
     "data": {
      "text/plain": [
       "array([11, 14, 16, 23, 27, 28, 30, 36, 39, 59, 72, 76, 76, 92, 95])"
      ]
     },
     "execution_count": 6,
     "metadata": {},
     "output_type": "execute_result"
    }
   ],
   "execution_count": 6
  },
  {
   "metadata": {
    "ExecuteTime": {
     "end_time": "2024-05-30T04:21:19.401829Z",
     "start_time": "2024-05-30T04:21:19.394686Z"
    }
   },
   "cell_type": "code",
   "source": "np.sort(a)[::-1] # for descending order",
   "id": "5dbf2c747e9bf025",
   "outputs": [
    {
     "data": {
      "text/plain": [
       "array([95, 92, 76, 76, 72, 59, 39, 36, 30, 28, 27, 23, 16, 14, 11])"
      ]
     },
     "execution_count": 4,
     "metadata": {},
     "output_type": "execute_result"
    }
   ],
   "execution_count": 4
  },
  {
   "metadata": {
    "ExecuteTime": {
     "end_time": "2024-05-30T04:21:37.175580Z",
     "start_time": "2024-05-30T04:21:37.159312Z"
    }
   },
   "cell_type": "code",
   "source": "np.sort(b,axis=0) # for column wise ",
   "id": "4b82436cad7b8cc9",
   "outputs": [
    {
     "data": {
      "text/plain": [
       "array([[23, 12,  3, 33],\n",
       "       [29, 17, 26, 65],\n",
       "       [34, 30, 59, 78],\n",
       "       [34, 36, 65, 87],\n",
       "       [38, 39, 68, 97],\n",
       "       [48, 71, 80, 99]])"
      ]
     },
     "execution_count": 5,
     "metadata": {},
     "output_type": "execute_result"
    }
   ],
   "execution_count": 5
  },
  {
   "metadata": {
    "ExecuteTime": {
     "end_time": "2024-05-30T04:26:53.689732Z",
     "start_time": "2024-05-30T04:26:53.674762Z"
    }
   },
   "cell_type": "code",
   "source": "np.sort(b) #row wise",
   "id": "ae7080caa82c532e",
   "outputs": [
    {
     "data": {
      "text/plain": [
       "array([[23, 30, 65, 65],\n",
       "       [34, 39, 80, 97],\n",
       "       [17, 26, 29, 78],\n",
       "       [12, 34, 59, 99],\n",
       "       [ 3, 33, 48, 71],\n",
       "       [36, 38, 68, 87]])"
      ]
     },
     "execution_count": 7,
     "metadata": {},
     "output_type": "execute_result"
    }
   ],
   "execution_count": 7
  },
  {
   "metadata": {},
   "cell_type": "markdown",
   "source": "# np.append",
   "id": "27f4b2319bf60b40"
  },
  {
   "metadata": {},
   "cell_type": "markdown",
   "source": [
    "The numpy.append() appends values along the mentioned axis at the end of the array\n",
    "\n",
    "https://numpy.org/doc/stable/reference/generated/numpy.append.html"
   ],
   "id": "88538552432091bc"
  },
  {
   "metadata": {
    "ExecuteTime": {
     "end_time": "2024-05-30T04:30:07.689206Z",
     "start_time": "2024-05-30T04:30:07.684583Z"
    }
   },
   "cell_type": "code",
   "source": [
    "# code\n",
    "np.append(a,200)"
   ],
   "id": "1f138eb79ca0b532",
   "outputs": [
    {
     "data": {
      "text/plain": [
       "array([ 16,  28,  76,  92,  72,  95,  59,  14,  23,  30,  39,  27,  11,\n",
       "        36,  76, 200])"
      ]
     },
     "execution_count": 8,
     "metadata": {},
     "output_type": "execute_result"
    }
   ],
   "execution_count": 8
  },
  {
   "metadata": {
    "ExecuteTime": {
     "end_time": "2024-05-30T04:30:28.498393Z",
     "start_time": "2024-05-30T04:30:28.490553Z"
    }
   },
   "cell_type": "code",
   "source": "np.append(b,np.random.random((b.shape[0],1)),axis=1)",
   "id": "eee132c666702fab",
   "outputs": [
    {
     "data": {
      "text/plain": [
       "array([[2.30000000e+01, 3.00000000e+01, 6.50000000e+01, 6.50000000e+01,\n",
       "        5.80998571e-01],\n",
       "       [3.40000000e+01, 3.90000000e+01, 8.00000000e+01, 9.70000000e+01,\n",
       "        5.70854409e-01],\n",
       "       [2.90000000e+01, 1.70000000e+01, 2.60000000e+01, 7.80000000e+01,\n",
       "        3.73550496e-01],\n",
       "       [3.40000000e+01, 1.20000000e+01, 5.90000000e+01, 9.90000000e+01,\n",
       "        1.84389523e-01],\n",
       "       [4.80000000e+01, 7.10000000e+01, 3.00000000e+00, 3.30000000e+01,\n",
       "        5.32060437e-01],\n",
       "       [3.80000000e+01, 3.60000000e+01, 6.80000000e+01, 8.70000000e+01,\n",
       "        7.14046685e-02]])"
      ]
     },
     "execution_count": 9,
     "metadata": {},
     "output_type": "execute_result"
    }
   ],
   "execution_count": 9
  },
  {
   "metadata": {
    "ExecuteTime": {
     "end_time": "2024-05-30T04:30:54.189599Z",
     "start_time": "2024-05-30T04:30:54.178997Z"
    }
   },
   "cell_type": "code",
   "source": "np.append(b,np.random.random((b.shape[0],1)))",
   "id": "d1244bbf20ab59c0",
   "outputs": [
    {
     "data": {
      "text/plain": [
       "array([23.        , 30.        , 65.        , 65.        , 34.        ,\n",
       "       39.        , 80.        , 97.        , 29.        , 17.        ,\n",
       "       26.        , 78.        , 34.        , 12.        , 59.        ,\n",
       "       99.        , 48.        , 71.        ,  3.        , 33.        ,\n",
       "       38.        , 36.        , 68.        , 87.        ,  0.12103136,\n",
       "        0.18699272,  0.80777865,  0.22888467,  0.39846238,  0.79855876])"
      ]
     },
     "execution_count": 11,
     "metadata": {},
     "output_type": "execute_result"
    }
   ],
   "execution_count": 11
  },
  {
   "metadata": {
    "ExecuteTime": {
     "end_time": "2024-05-30T04:38:46.156629Z",
     "start_time": "2024-05-30T04:38:46.149259Z"
    }
   },
   "cell_type": "code",
   "source": "np.append(b,np.ones((b.shape[0],1)),axis=1) # adding 1 at last column",
   "id": "98180dfbbad94555",
   "outputs": [
    {
     "data": {
      "text/plain": [
       "array([[23., 30., 65., 65.,  1.],\n",
       "       [34., 39., 80., 97.,  1.],\n",
       "       [29., 17., 26., 78.,  1.],\n",
       "       [34., 12., 59., 99.,  1.],\n",
       "       [48., 71.,  3., 33.,  1.],\n",
       "       [38., 36., 68., 87.,  1.]])"
      ]
     },
     "execution_count": 16,
     "metadata": {},
     "output_type": "execute_result"
    }
   ],
   "execution_count": 16
  },
  {
   "metadata": {},
   "cell_type": "markdown",
   "source": [
    "# np.concatenate\n",
    "\n",
    "numpy.concatenate() function concatenate a sequence of arrays along an existing axis.\n",
    "\n",
    "https://numpy.org/doc/stable/reference/generated/numpy.concatenate.html"
   ],
   "id": "19f985e00ac4b5bd"
  },
  {
   "metadata": {
    "ExecuteTime": {
     "end_time": "2024-05-30T04:42:35.258999Z",
     "start_time": "2024-05-30T04:42:35.248317Z"
    }
   },
   "cell_type": "code",
   "source": [
    "# code\n",
    "c = np.arange(6).reshape(2,3)\n",
    "d = np.arange(6,12).reshape(2,3)\n",
    "\n",
    "print(c)\n",
    "print(d)"
   ],
   "id": "69d03e403fec66a6",
   "outputs": [
    {
     "name": "stdout",
     "output_type": "stream",
     "text": [
      "[[0 1 2]\n",
      " [3 4 5]]\n",
      "[[ 6  7  8]\n",
      " [ 9 10 11]]\n"
     ]
    }
   ],
   "execution_count": 17
  },
  {
   "metadata": {
    "ExecuteTime": {
     "end_time": "2024-05-30T04:42:58.549020Z",
     "start_time": "2024-05-30T04:42:58.543243Z"
    }
   },
   "cell_type": "code",
   "source": "np.concatenate((c,d),axis=0)",
   "id": "8362d537848eb538",
   "outputs": [
    {
     "data": {
      "text/plain": [
       "array([[ 0,  1,  2],\n",
       "       [ 3,  4,  5],\n",
       "       [ 6,  7,  8],\n",
       "       [ 9, 10, 11]])"
      ]
     },
     "execution_count": 18,
     "metadata": {},
     "output_type": "execute_result"
    }
   ],
   "execution_count": 18
  },
  {
   "metadata": {
    "ExecuteTime": {
     "end_time": "2024-05-30T04:43:18.354103Z",
     "start_time": "2024-05-30T04:43:18.349046Z"
    }
   },
   "cell_type": "code",
   "source": "np.concatenate((c,d),axis=1)",
   "id": "670b9ff154940601",
   "outputs": [
    {
     "data": {
      "text/plain": [
       "array([[ 0,  1,  2,  6,  7,  8],\n",
       "       [ 3,  4,  5,  9, 10, 11]])"
      ]
     },
     "execution_count": 19,
     "metadata": {},
     "output_type": "execute_result"
    }
   ],
   "execution_count": 19
  },
  {
   "metadata": {},
   "cell_type": "markdown",
   "source": [
    "# np.unique\n",
    "\n",
    "With the help of np.unique() method, we can get the unique values from an array given as parameter in np.unique() method.\n",
    "\n",
    "https://numpy.org/doc/stable/reference/generated/numpy.unique.html/"
   ],
   "id": "dd80967a657b2df7"
  },
  {
   "metadata": {
    "ExecuteTime": {
     "end_time": "2024-05-30T04:50:13.217821Z",
     "start_time": "2024-05-30T04:50:13.210327Z"
    }
   },
   "cell_type": "code",
   "source": [
    "# code\n",
    "e = np.array([1,1,2,2,3,3,4,4,5,5,6,6])"
   ],
   "id": "6faf931c35af9a3a",
   "outputs": [],
   "execution_count": 20
  },
  {
   "metadata": {
    "ExecuteTime": {
     "end_time": "2024-05-30T04:50:33.654622Z",
     "start_time": "2024-05-30T04:50:33.650411Z"
    }
   },
   "cell_type": "code",
   "source": "np.unique(e)",
   "id": "31bc8ee2ec217da1",
   "outputs": [
    {
     "data": {
      "text/plain": [
       "array([1, 2, 3, 4, 5, 6])"
      ]
     },
     "execution_count": 21,
     "metadata": {},
     "output_type": "execute_result"
    }
   ],
   "execution_count": 21
  },
  {
   "metadata": {},
   "cell_type": "markdown",
   "source": [
    "# np.expand_dims\n",
    "\n",
    "With the help of Numpy.expand_dims() method, we can get the expanded dimensions of an array\n",
    "\n",
    "https://numpy.org/doc/stable/reference/generated/numpy.expand_dims.html"
   ],
   "id": "6f908c8587819f18"
  },
  {
   "metadata": {
    "ExecuteTime": {
     "end_time": "2024-05-30T04:52:36.269927Z",
     "start_time": "2024-05-30T04:52:36.266240Z"
    }
   },
   "cell_type": "code",
   "source": [
    "# code\n",
    "a.shape"
   ],
   "id": "f6676e33e9dd5a43",
   "outputs": [
    {
     "data": {
      "text/plain": [
       "(15,)"
      ]
     },
     "execution_count": 22,
     "metadata": {},
     "output_type": "execute_result"
    }
   ],
   "execution_count": 22
  },
  {
   "metadata": {
    "ExecuteTime": {
     "end_time": "2024-05-30T04:53:07.506735Z",
     "start_time": "2024-05-30T04:53:07.500316Z"
    }
   },
   "cell_type": "code",
   "source": "np.expand_dims(a,axis=0).shape",
   "id": "9b6a52e04360a4a9",
   "outputs": [
    {
     "data": {
      "text/plain": [
       "(1, 15)"
      ]
     },
     "execution_count": 23,
     "metadata": {},
     "output_type": "execute_result"
    }
   ],
   "execution_count": 23
  },
  {
   "metadata": {
    "ExecuteTime": {
     "end_time": "2024-05-30T05:00:33.272121Z",
     "start_time": "2024-05-30T05:00:33.262314Z"
    }
   },
   "cell_type": "code",
   "source": "np.expand_dims(a,axis=1)",
   "id": "bc352cc21c03ef12",
   "outputs": [
    {
     "data": {
      "text/plain": [
       "array([[16],\n",
       "       [28],\n",
       "       [76],\n",
       "       [92],\n",
       "       [72],\n",
       "       [95],\n",
       "       [59],\n",
       "       [14],\n",
       "       [23],\n",
       "       [30],\n",
       "       [39],\n",
       "       [27],\n",
       "       [11],\n",
       "       [36],\n",
       "       [76]])"
      ]
     },
     "execution_count": 26,
     "metadata": {},
     "output_type": "execute_result"
    }
   ],
   "execution_count": 26
  },
  {
   "metadata": {},
   "cell_type": "markdown",
   "source": [
    "# np.where\n",
    "\n",
    "The numpy.where() function returns the indices of elements in an input array where the given condition is satisfied.\n",
    "\n",
    "https://numpy.org/doc/stable/reference/generated/numpy.where.html"
   ],
   "id": "ad1307887452d5c1"
  },
  {
   "metadata": {
    "ExecuteTime": {
     "end_time": "2024-05-30T05:03:42.487822Z",
     "start_time": "2024-05-30T05:03:42.479573Z"
    }
   },
   "cell_type": "code",
   "source": "a",
   "id": "c460dbf25f42dac3",
   "outputs": [
    {
     "data": {
      "text/plain": [
       "array([16, 28, 76, 92, 72, 95, 59, 14, 23, 30, 39, 27, 11, 36, 76])"
      ]
     },
     "execution_count": 27,
     "metadata": {},
     "output_type": "execute_result"
    }
   ],
   "execution_count": 27
  },
  {
   "metadata": {
    "ExecuteTime": {
     "end_time": "2024-05-30T05:04:16.753115Z",
     "start_time": "2024-05-30T05:04:16.742296Z"
    }
   },
   "cell_type": "code",
   "source": [
    "# find all indices with value greater than 50\n",
    "np.where(a>50)"
   ],
   "id": "7d4936ffdc157fb5",
   "outputs": [
    {
     "data": {
      "text/plain": [
       "(array([ 2,  3,  4,  5,  6, 14], dtype=int64),)"
      ]
     },
     "execution_count": 28,
     "metadata": {},
     "output_type": "execute_result"
    }
   ],
   "execution_count": 28
  },
  {
   "metadata": {
    "ExecuteTime": {
     "end_time": "2024-05-30T06:06:23.540805Z",
     "start_time": "2024-05-30T06:06:23.533358Z"
    }
   },
   "cell_type": "code",
   "source": [
    "# replace all values > 50 with 0\n",
    "np.where(a>50,0,a) # np.where(condition,true,false)"
   ],
   "id": "744025e85af7480e",
   "outputs": [
    {
     "data": {
      "text/plain": [
       "array([16, 28,  0,  0,  0,  0,  0, 14, 23, 30, 39, 27, 11, 36,  0])"
      ]
     },
     "execution_count": 29,
     "metadata": {},
     "output_type": "execute_result"
    }
   ],
   "execution_count": 29
  },
  {
   "metadata": {
    "ExecuteTime": {
     "end_time": "2024-05-30T06:06:54.448052Z",
     "start_time": "2024-05-30T06:06:54.437387Z"
    }
   },
   "cell_type": "code",
   "source": "np.where(a%2 == 0,0,a)",
   "id": "9498a2cb3322aa3b",
   "outputs": [
    {
     "data": {
      "text/plain": [
       "array([ 0,  0,  0,  0,  0, 95, 59,  0, 23,  0, 39, 27, 11,  0,  0])"
      ]
     },
     "execution_count": 30,
     "metadata": {},
     "output_type": "execute_result"
    }
   ],
   "execution_count": 30
  },
  {
   "metadata": {},
   "cell_type": "markdown",
   "source": [
    "# np.argmax & np.argmin\n",
    "\n",
    "The numpy.argmax() function returns indices of the max element of the array in a particular axis and vice-versa for numpy.argmin()\n",
    "\n",
    "https://numpy.org/doc/stable/reference/generated/numpy.argmax.html"
   ],
   "id": "2ea0ac7bf11ea674"
  },
  {
   "metadata": {
    "ExecuteTime": {
     "end_time": "2024-05-30T06:17:32.273103Z",
     "start_time": "2024-05-30T06:17:32.264426Z"
    }
   },
   "cell_type": "code",
   "source": [
    "# code\n",
    "a"
   ],
   "id": "63a433c16a6c599f",
   "outputs": [
    {
     "data": {
      "text/plain": [
       "array([16, 28, 76, 92, 72, 95, 59, 14, 23, 30, 39, 27, 11, 36, 76])"
      ]
     },
     "execution_count": 31,
     "metadata": {},
     "output_type": "execute_result"
    }
   ],
   "execution_count": 31
  },
  {
   "metadata": {
    "ExecuteTime": {
     "end_time": "2024-05-30T06:19:03.577083Z",
     "start_time": "2024-05-30T06:19:03.571320Z"
    }
   },
   "cell_type": "code",
   "source": "np.argmax(a)",
   "id": "4ccd44b0d208f1a2",
   "outputs": [
    {
     "data": {
      "text/plain": [
       "5"
      ]
     },
     "execution_count": 32,
     "metadata": {},
     "output_type": "execute_result"
    }
   ],
   "execution_count": 32
  },
  {
   "metadata": {
    "ExecuteTime": {
     "end_time": "2024-05-30T06:20:04.954842Z",
     "start_time": "2024-05-30T06:20:04.948698Z"
    }
   },
   "cell_type": "code",
   "source": "b",
   "id": "bc1d7de6f5a22dd4",
   "outputs": [
    {
     "data": {
      "text/plain": [
       "array([[23, 30, 65, 65],\n",
       "       [34, 39, 80, 97],\n",
       "       [29, 17, 26, 78],\n",
       "       [34, 12, 59, 99],\n",
       "       [48, 71,  3, 33],\n",
       "       [38, 36, 68, 87]])"
      ]
     },
     "execution_count": 33,
     "metadata": {},
     "output_type": "execute_result"
    }
   ],
   "execution_count": 33
  },
  {
   "metadata": {
    "ExecuteTime": {
     "end_time": "2024-05-30T06:20:28.355482Z",
     "start_time": "2024-05-30T06:20:28.349183Z"
    }
   },
   "cell_type": "code",
   "source": "np.argmax(b,axis=0)",
   "id": "ffc0e9dad6e4485d",
   "outputs": [
    {
     "data": {
      "text/plain": [
       "array([4, 4, 1, 3], dtype=int64)"
      ]
     },
     "execution_count": 34,
     "metadata": {},
     "output_type": "execute_result"
    }
   ],
   "execution_count": 34
  },
  {
   "metadata": {
    "ExecuteTime": {
     "end_time": "2024-05-30T06:21:33.382117Z",
     "start_time": "2024-05-30T06:21:33.370258Z"
    }
   },
   "cell_type": "code",
   "source": "np.argmax(b,axis=1)",
   "id": "fd1dc5e6bf13f128",
   "outputs": [
    {
     "data": {
      "text/plain": [
       "array([2, 3, 3, 3, 1, 3], dtype=int64)"
      ]
     },
     "execution_count": 35,
     "metadata": {},
     "output_type": "execute_result"
    }
   ],
   "execution_count": 35
  },
  {
   "metadata": {
    "ExecuteTime": {
     "end_time": "2024-05-30T06:25:04.877818Z",
     "start_time": "2024-05-30T06:25:04.869896Z"
    }
   },
   "cell_type": "code",
   "source": [
    "# np.argmin\n",
    "np.argmin(a)"
   ],
   "id": "831f3a5cb65ad2",
   "outputs": [
    {
     "data": {
      "text/plain": [
       "12"
      ]
     },
     "execution_count": 36,
     "metadata": {},
     "output_type": "execute_result"
    }
   ],
   "execution_count": 36
  },
  {
   "metadata": {
    "ExecuteTime": {
     "end_time": "2024-05-30T06:25:27.626795Z",
     "start_time": "2024-05-30T06:25:27.605443Z"
    }
   },
   "cell_type": "code",
   "source": [
    "# np.argmin\n",
    "np.argmin(b,axis=0)"
   ],
   "id": "1862d82428268027",
   "outputs": [
    {
     "data": {
      "text/plain": [
       "array([0, 3, 4, 4], dtype=int64)"
      ]
     },
     "execution_count": 37,
     "metadata": {},
     "output_type": "execute_result"
    }
   ],
   "execution_count": 37
  },
  {
   "metadata": {
    "ExecuteTime": {
     "end_time": "2024-05-30T06:25:47.368233Z",
     "start_time": "2024-05-30T06:25:47.363920Z"
    }
   },
   "cell_type": "code",
   "source": [
    "# np.argmin\n",
    "np.argmin(b,axis=1)"
   ],
   "id": "f06f4d3e48504c23",
   "outputs": [
    {
     "data": {
      "text/plain": [
       "array([0, 0, 1, 1, 2, 1], dtype=int64)"
      ]
     },
     "execution_count": 38,
     "metadata": {},
     "output_type": "execute_result"
    }
   ],
   "execution_count": 38
  },
  {
   "metadata": {},
   "cell_type": "markdown",
   "source": [
    "# np.cumsum\n",
    "\n",
    "numpy.cumsum() function is used when we want to compute the cumulative sum of array elements over a given axis.\n",
    "\n",
    "https://numpy.org/doc/stable/reference/generated/numpy.cumsum.html"
   ],
   "id": "dbb8a07a2ce6c89"
  },
  {
   "metadata": {
    "ExecuteTime": {
     "end_time": "2024-05-30T06:30:26.153904Z",
     "start_time": "2024-05-30T06:30:26.134134Z"
    }
   },
   "cell_type": "code",
   "source": "a",
   "id": "4d0702c16babcf58",
   "outputs": [
    {
     "data": {
      "text/plain": [
       "array([16, 28, 76, 92, 72, 95, 59, 14, 23, 30, 39, 27, 11, 36, 76])"
      ]
     },
     "execution_count": 39,
     "metadata": {},
     "output_type": "execute_result"
    }
   ],
   "execution_count": 39
  },
  {
   "metadata": {
    "ExecuteTime": {
     "end_time": "2024-05-30T06:30:55.051581Z",
     "start_time": "2024-05-30T06:30:55.039774Z"
    }
   },
   "cell_type": "code",
   "source": "np.cumsum(a)",
   "id": "dc884f35b9baac1a",
   "outputs": [
    {
     "data": {
      "text/plain": [
       "array([ 16,  44, 120, 212, 284, 379, 438, 452, 475, 505, 544, 571, 582,\n",
       "       618, 694])"
      ]
     },
     "execution_count": 40,
     "metadata": {},
     "output_type": "execute_result"
    }
   ],
   "execution_count": 40
  },
  {
   "metadata": {
    "ExecuteTime": {
     "end_time": "2024-05-30T06:31:33.755832Z",
     "start_time": "2024-05-30T06:31:33.743242Z"
    }
   },
   "cell_type": "code",
   "source": "b",
   "id": "cc0ed081b306d8e6",
   "outputs": [
    {
     "data": {
      "text/plain": [
       "array([[23, 30, 65, 65],\n",
       "       [34, 39, 80, 97],\n",
       "       [29, 17, 26, 78],\n",
       "       [34, 12, 59, 99],\n",
       "       [48, 71,  3, 33],\n",
       "       [38, 36, 68, 87]])"
      ]
     },
     "execution_count": 41,
     "metadata": {},
     "output_type": "execute_result"
    }
   ],
   "execution_count": 41
  },
  {
   "metadata": {
    "ExecuteTime": {
     "end_time": "2024-05-30T06:31:56.341679Z",
     "start_time": "2024-05-30T06:31:56.323977Z"
    }
   },
   "cell_type": "code",
   "source": "np.cumsum(b,axis=1)",
   "id": "60d9b1e700521014",
   "outputs": [
    {
     "data": {
      "text/plain": [
       "array([[ 23,  53, 118, 183],\n",
       "       [ 34,  73, 153, 250],\n",
       "       [ 29,  46,  72, 150],\n",
       "       [ 34,  46, 105, 204],\n",
       "       [ 48, 119, 122, 155],\n",
       "       [ 38,  74, 142, 229]])"
      ]
     },
     "execution_count": 42,
     "metadata": {},
     "output_type": "execute_result"
    }
   ],
   "execution_count": 42
  },
  {
   "metadata": {
    "ExecuteTime": {
     "end_time": "2024-05-30T06:32:24.385011Z",
     "start_time": "2024-05-30T06:32:24.374176Z"
    }
   },
   "cell_type": "code",
   "source": "np.cumsum(b)",
   "id": "3c858e7a131d9227",
   "outputs": [
    {
     "data": {
      "text/plain": [
       "array([  23,   53,  118,  183,  217,  256,  336,  433,  462,  479,  505,\n",
       "        583,  617,  629,  688,  787,  835,  906,  909,  942,  980, 1016,\n",
       "       1084, 1171])"
      ]
     },
     "execution_count": 43,
     "metadata": {},
     "output_type": "execute_result"
    }
   ],
   "execution_count": 43
  },
  {
   "metadata": {
    "ExecuteTime": {
     "end_time": "2024-05-30T06:32:57.607588Z",
     "start_time": "2024-05-30T06:32:57.583772Z"
    }
   },
   "cell_type": "code",
   "source": [
    "# np.cumprod\n",
    "np.cumprod(a)"
   ],
   "id": "17c8331d72c15fe0",
   "outputs": [
    {
     "data": {
      "text/plain": [
       "array([         16,         448,       34048,     3132416,   225533952,\n",
       "         -49111040,  1397415936, -1911013376, -1003634688,   -44269568,\n",
       "       -1726513152,   628785152, -1673297920,  -109182976,   292028416])"
      ]
     },
     "execution_count": 44,
     "metadata": {},
     "output_type": "execute_result"
    }
   ],
   "execution_count": 44
  },
  {
   "metadata": {
    "ExecuteTime": {
     "end_time": "2024-05-30T06:33:19.804324Z",
     "start_time": "2024-05-30T06:33:19.795273Z"
    }
   },
   "cell_type": "code",
   "source": [
    "# np.cumprod\n",
    "np.cumprod(b)"
   ],
   "id": "43d872747d810225",
   "outputs": [
    {
     "data": {
      "text/plain": [
       "array([         23,         690,       44850,     2915250,    99118500,\n",
       "        -429345796,    12074688,  1171244736,  -393641024,  1898037184,\n",
       "        2104326528,   928711936,  1511434752,   957347840,   648947712,\n",
       "        -178685952,    13008896,   923631616, -1524072448,  1245216768,\n",
       "          73596928, -1645477888,  -223346688,  2043674624])"
      ]
     },
     "execution_count": 45,
     "metadata": {},
     "output_type": "execute_result"
    }
   ],
   "execution_count": 45
  },
  {
   "metadata": {
    "ExecuteTime": {
     "end_time": "2024-05-30T06:33:41.593444Z",
     "start_time": "2024-05-30T06:33:41.579637Z"
    }
   },
   "cell_type": "code",
   "source": [
    "# np.cumprod\n",
    "np.cumprod(b,axis=1)"
   ],
   "id": "784f538f6d9d4c1e",
   "outputs": [
    {
     "data": {
      "text/plain": [
       "array([[      23,      690,    44850,  2915250],\n",
       "       [      34,     1326,   106080, 10289760],\n",
       "       [      29,      493,    12818,   999804],\n",
       "       [      34,      408,    24072,  2383128],\n",
       "       [      48,     3408,    10224,   337392],\n",
       "       [      38,     1368,    93024,  8093088]])"
      ]
     },
     "execution_count": 46,
     "metadata": {},
     "output_type": "execute_result"
    }
   ],
   "execution_count": 46
  },
  {
   "metadata": {},
   "cell_type": "markdown",
   "source": [
    "# np.percentile\n",
    "\n",
    "numpy.percentile()function used to compute the nth percentile of the given data (array elements) along the specified axis. \n",
    "\n",
    "https://numpy.org/doc/stable/reference/generated/numpy.percentile.html"
   ],
   "id": "fabb57156fd9f976"
  },
  {
   "metadata": {
    "ExecuteTime": {
     "end_time": "2024-05-30T06:40:55.251655Z",
     "start_time": "2024-05-30T06:40:55.244272Z"
    }
   },
   "cell_type": "code",
   "source": "a",
   "id": "8d0f374bc7d579f",
   "outputs": [
    {
     "data": {
      "text/plain": [
       "array([16, 28, 76, 92, 72, 95, 59, 14, 23, 30, 39, 27, 11, 36, 76])"
      ]
     },
     "execution_count": 47,
     "metadata": {},
     "output_type": "execute_result"
    }
   ],
   "execution_count": 47
  },
  {
   "metadata": {
    "ExecuteTime": {
     "end_time": "2024-05-30T06:41:15.980614Z",
     "start_time": "2024-05-30T06:41:15.955515Z"
    }
   },
   "cell_type": "code",
   "source": "np.percentile(a,50)",
   "id": "938db1aa5779d453",
   "outputs": [
    {
     "data": {
      "text/plain": [
       "36.0"
      ]
     },
     "execution_count": 48,
     "metadata": {},
     "output_type": "execute_result"
    }
   ],
   "execution_count": 48
  },
  {
   "metadata": {
    "ExecuteTime": {
     "end_time": "2024-05-30T06:41:29.918558Z",
     "start_time": "2024-05-30T06:41:29.907474Z"
    }
   },
   "cell_type": "code",
   "source": "np.percentile(a,80)",
   "id": "219162306efd0959",
   "outputs": [
    {
     "data": {
      "text/plain": [
       "76.0"
      ]
     },
     "execution_count": 49,
     "metadata": {},
     "output_type": "execute_result"
    }
   ],
   "execution_count": 49
  },
  {
   "metadata": {
    "ExecuteTime": {
     "end_time": "2024-05-30T06:41:45.978330Z",
     "start_time": "2024-05-30T06:41:45.964974Z"
    }
   },
   "cell_type": "code",
   "source": "np.percentile(a,100)",
   "id": "c07c8f912c498d34",
   "outputs": [
    {
     "data": {
      "text/plain": [
       "95.0"
      ]
     },
     "execution_count": 50,
     "metadata": {},
     "output_type": "execute_result"
    }
   ],
   "execution_count": 50
  },
  {
   "metadata": {
    "ExecuteTime": {
     "end_time": "2024-05-30T06:41:58.683045Z",
     "start_time": "2024-05-30T06:41:58.675973Z"
    }
   },
   "cell_type": "code",
   "source": "np.percentile(a,0)",
   "id": "e61ad9b328ad9d76",
   "outputs": [
    {
     "data": {
      "text/plain": [
       "11.0"
      ]
     },
     "execution_count": 51,
     "metadata": {},
     "output_type": "execute_result"
    }
   ],
   "execution_count": 51
  },
  {
   "metadata": {},
   "cell_type": "markdown",
   "source": [
    "# np.histogram\n",
    "\n",
    "Numpy has a built-in numpy.histogram() function which represents the frequency of data distribution in the graphical form.\n",
    "\n",
    "https://numpy.org/doc/stable/reference/generated/numpy.histogram.html"
   ],
   "id": "ef3f3d9a4de21529"
  },
  {
   "metadata": {
    "ExecuteTime": {
     "end_time": "2024-05-30T06:56:40.416682Z",
     "start_time": "2024-05-30T06:56:40.409816Z"
    }
   },
   "cell_type": "code",
   "source": [
    "# code\n",
    "a"
   ],
   "id": "53ef59a504e4f523",
   "outputs": [
    {
     "data": {
      "text/plain": [
       "array([16, 28, 76, 92, 72, 95, 59, 14, 23, 30, 39, 27, 11, 36, 76])"
      ]
     },
     "execution_count": 52,
     "metadata": {},
     "output_type": "execute_result"
    }
   ],
   "execution_count": 52
  },
  {
   "metadata": {
    "ExecuteTime": {
     "end_time": "2024-05-30T06:56:56.389386Z",
     "start_time": "2024-05-30T06:56:56.376385Z"
    }
   },
   "cell_type": "code",
   "source": "np.histogram(a,bins=[0,50,100])",
   "id": "c9096a5a4b48cdca",
   "outputs": [
    {
     "data": {
      "text/plain": [
       "(array([9, 6], dtype=int64), array([  0,  50, 100]))"
      ]
     },
     "execution_count": 53,
     "metadata": {},
     "output_type": "execute_result"
    }
   ],
   "execution_count": 53
  },
  {
   "metadata": {},
   "cell_type": "markdown",
   "source": [
    "# np.corrcoef\n",
    "\n",
    "Return Pearson product-moment correlation coefficients.\n",
    "\n",
    "https://numpy.org/doc/stable/reference/generated/numpy.corrcoef.html"
   ],
   "id": "5981d53616ed440e"
  },
  {
   "metadata": {
    "ExecuteTime": {
     "end_time": "2024-05-30T07:00:33.965463Z",
     "start_time": "2024-05-30T07:00:33.936424Z"
    }
   },
   "cell_type": "code",
   "source": [
    "salary = np.array([20000,40000,25000,35000,60000])\n",
    "experience = np.array([1,3,2,4,2])\n",
    "\n",
    "np.corrcoef(salary,experience)"
   ],
   "id": "9edb82454887ebe1",
   "outputs": [
    {
     "data": {
      "text/plain": [
       "array([[1.        , 0.25344572],\n",
       "       [0.25344572, 1.        ]])"
      ]
     },
     "execution_count": 54,
     "metadata": {},
     "output_type": "execute_result"
    }
   ],
   "execution_count": 54
  },
  {
   "metadata": {
    "ExecuteTime": {
     "end_time": "2024-05-30T07:05:44.944143Z",
     "start_time": "2024-05-30T07:05:44.936286Z"
    }
   },
   "cell_type": "code",
   "source": [
    "'''\n",
    "|      | salary  | exp |\n",
    "|salary|1        |0.25 |\n",
    "|exp   |0.25     |1    | \n",
    "'''"
   ],
   "id": "772102a6fe318807",
   "outputs": [
    {
     "data": {
      "text/plain": [
       "'\\n|      | salary  | exp |\\n|salary|1        |0.25 |\\n|exp   |0.25     |1    | \\n'"
      ]
     },
     "execution_count": 57,
     "metadata": {},
     "output_type": "execute_result"
    }
   ],
   "execution_count": 57
  },
  {
   "metadata": {},
   "cell_type": "markdown",
   "source": [
    "# np.isin\n",
    "\n",
    "With the help of numpy.isin() method, we can see that one array having values are checked in a different numpy array having different elements with different sizes.\n",
    "\n",
    "https://numpy.org/doc/stable/reference/generated/numpy.isin.html"
   ],
   "id": "ed2bfd094b508053"
  },
  {
   "metadata": {
    "ExecuteTime": {
     "end_time": "2024-05-30T07:06:36.546787Z",
     "start_time": "2024-05-30T07:06:36.535083Z"
    }
   },
   "cell_type": "code",
   "source": [
    "# code\n",
    "a\n"
   ],
   "id": "af50eb719077f10a",
   "outputs": [
    {
     "data": {
      "text/plain": [
       "array([16, 28, 76, 92, 72, 95, 59, 14, 23, 30, 39, 27, 11, 36, 76])"
      ]
     },
     "execution_count": 58,
     "metadata": {},
     "output_type": "execute_result"
    }
   ],
   "execution_count": 58
  },
  {
   "metadata": {
    "ExecuteTime": {
     "end_time": "2024-05-30T07:24:14.081788Z",
     "start_time": "2024-05-30T07:24:14.063354Z"
    }
   },
   "cell_type": "code",
   "source": [
    "items = [10,20,30,40,50,60,70,80,90,95,100]\n",
    "\n",
    "a[np.isin(a,items)]"
   ],
   "id": "5514e57db8778865",
   "outputs": [
    {
     "data": {
      "text/plain": [
       "array([95, 30])"
      ]
     },
     "execution_count": 61,
     "metadata": {},
     "output_type": "execute_result"
    }
   ],
   "execution_count": 61
  },
  {
   "metadata": {},
   "cell_type": "markdown",
   "source": [
    "# np.flip\n",
    "\n",
    "The numpy.flip() function reverses the order of array elements along the specified axis, preserving the shape of the array.\n",
    "\n",
    "https://numpy.org/doc/stable/reference/generated/numpy.flip.html"
   ],
   "id": "16e06e21c13bf3de"
  },
  {
   "metadata": {
    "ExecuteTime": {
     "end_time": "2024-05-30T07:25:24.239445Z",
     "start_time": "2024-05-30T07:25:24.222517Z"
    }
   },
   "cell_type": "code",
   "source": [
    "# code\n",
    "a"
   ],
   "id": "c12aa98b81987992",
   "outputs": [
    {
     "data": {
      "text/plain": [
       "array([16, 28, 76, 92, 72, 95, 59, 14, 23, 30, 39, 27, 11, 36, 76])"
      ]
     },
     "execution_count": 62,
     "metadata": {},
     "output_type": "execute_result"
    }
   ],
   "execution_count": 62
  },
  {
   "metadata": {
    "ExecuteTime": {
     "end_time": "2024-05-30T07:25:41.650900Z",
     "start_time": "2024-05-30T07:25:41.628409Z"
    }
   },
   "cell_type": "code",
   "source": "np.flip(a)",
   "id": "a9e20d5d5c82b702",
   "outputs": [
    {
     "data": {
      "text/plain": [
       "array([76, 36, 11, 27, 39, 30, 23, 14, 59, 95, 72, 92, 76, 28, 16])"
      ]
     },
     "execution_count": 63,
     "metadata": {},
     "output_type": "execute_result"
    }
   ],
   "execution_count": 63
  },
  {
   "metadata": {
    "ExecuteTime": {
     "end_time": "2024-05-30T07:26:02.065242Z",
     "start_time": "2024-05-30T07:26:02.054097Z"
    }
   },
   "cell_type": "code",
   "source": "b",
   "id": "c7678f14acd2d132",
   "outputs": [
    {
     "data": {
      "text/plain": [
       "array([[23, 30, 65, 65],\n",
       "       [34, 39, 80, 97],\n",
       "       [29, 17, 26, 78],\n",
       "       [34, 12, 59, 99],\n",
       "       [48, 71,  3, 33],\n",
       "       [38, 36, 68, 87]])"
      ]
     },
     "execution_count": 64,
     "metadata": {},
     "output_type": "execute_result"
    }
   ],
   "execution_count": 64
  },
  {
   "metadata": {},
   "cell_type": "code",
   "outputs": [],
   "execution_count": null,
   "source": "",
   "id": "58385409d2de5e7c"
  }
 ],
 "metadata": {
  "kernelspec": {
   "display_name": "Python 3",
   "language": "python",
   "name": "python3"
  },
  "language_info": {
   "codemirror_mode": {
    "name": "ipython",
    "version": 2
   },
   "file_extension": ".py",
   "mimetype": "text/x-python",
   "name": "python",
   "nbconvert_exporter": "python",
   "pygments_lexer": "ipython2",
   "version": "2.7.6"
  }
 },
 "nbformat": 4,
 "nbformat_minor": 5
}
