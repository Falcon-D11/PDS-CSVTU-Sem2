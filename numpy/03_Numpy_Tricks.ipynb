{
 "cells": [
  {
   "metadata": {
    "ExecuteTime": {
     "end_time": "2024-05-30T04:19:42.181610Z",
     "start_time": "2024-05-30T04:19:41.702996Z"
    }
   },
   "cell_type": "code",
   "source": "import numpy as np",
   "id": "bbe983e8fb5e5458",
   "outputs": [],
   "execution_count": 1
  },
  {
   "metadata": {},
   "cell_type": "markdown",
   "source": "# np.sort",
   "id": "dbfc1144f74f6d8b"
  },
  {
   "metadata": {},
   "cell_type": "markdown",
   "source": [
    "Return a sorted copy of an array.\\\n",
    "https://numpy.org/doc/stable/reference/generated/numpy.sort.html"
   ],
   "id": "1e4e502b7fb406f5"
  },
  {
   "metadata": {
    "ExecuteTime": {
     "end_time": "2024-05-30T04:20:36.645360Z",
     "start_time": "2024-05-30T04:20:36.634801Z"
    }
   },
   "cell_type": "code",
   "source": [
    "# code\n",
    "import numpy as np\n",
    "a = np.random.randint(1,100,15)\n",
    "a"
   ],
   "id": "178e7d46ce69ff5b",
   "outputs": [
    {
     "data": {
      "text/plain": [
       "array([16, 28, 76, 92, 72, 95, 59, 14, 23, 30, 39, 27, 11, 36, 76])"
      ]
     },
     "execution_count": 2,
     "metadata": {},
     "output_type": "execute_result"
    }
   ],
   "execution_count": 2
  },
  {
   "metadata": {
    "ExecuteTime": {
     "end_time": "2024-05-30T04:20:57.129202Z",
     "start_time": "2024-05-30T04:20:57.116725Z"
    }
   },
   "cell_type": "code",
   "source": [
    "b = np.random.randint(1,100,24).reshape(6,4)\n",
    "b"
   ],
   "id": "24b5d4baebb33912",
   "outputs": [
    {
     "data": {
      "text/plain": [
       "array([[23, 30, 65, 65],\n",
       "       [34, 39, 80, 97],\n",
       "       [29, 17, 26, 78],\n",
       "       [34, 12, 59, 99],\n",
       "       [48, 71,  3, 33],\n",
       "       [38, 36, 68, 87]])"
      ]
     },
     "execution_count": 3,
     "metadata": {},
     "output_type": "execute_result"
    }
   ],
   "execution_count": 3
  },
  {
   "metadata": {
    "ExecuteTime": {
     "end_time": "2024-05-30T04:26:29.106235Z",
     "start_time": "2024-05-30T04:26:29.102444Z"
    }
   },
   "cell_type": "code",
   "source": "np.sort(a)",
   "id": "4be3101fa81d251c",
   "outputs": [
    {
     "data": {
      "text/plain": [
       "array([11, 14, 16, 23, 27, 28, 30, 36, 39, 59, 72, 76, 76, 92, 95])"
      ]
     },
     "execution_count": 6,
     "metadata": {},
     "output_type": "execute_result"
    }
   ],
   "execution_count": 6
  },
  {
   "metadata": {
    "ExecuteTime": {
     "end_time": "2024-05-30T04:21:19.401829Z",
     "start_time": "2024-05-30T04:21:19.394686Z"
    }
   },
   "cell_type": "code",
   "source": "np.sort(a)[::-1] # for descending order",
   "id": "5dbf2c747e9bf025",
   "outputs": [
    {
     "data": {
      "text/plain": [
       "array([95, 92, 76, 76, 72, 59, 39, 36, 30, 28, 27, 23, 16, 14, 11])"
      ]
     },
     "execution_count": 4,
     "metadata": {},
     "output_type": "execute_result"
    }
   ],
   "execution_count": 4
  },
  {
   "metadata": {
    "ExecuteTime": {
     "end_time": "2024-05-30T04:21:37.175580Z",
     "start_time": "2024-05-30T04:21:37.159312Z"
    }
   },
   "cell_type": "code",
   "source": "np.sort(b,axis=0) # for column wise ",
   "id": "4b82436cad7b8cc9",
   "outputs": [
    {
     "data": {
      "text/plain": [
       "array([[23, 12,  3, 33],\n",
       "       [29, 17, 26, 65],\n",
       "       [34, 30, 59, 78],\n",
       "       [34, 36, 65, 87],\n",
       "       [38, 39, 68, 97],\n",
       "       [48, 71, 80, 99]])"
      ]
     },
     "execution_count": 5,
     "metadata": {},
     "output_type": "execute_result"
    }
   ],
   "execution_count": 5
  },
  {
   "metadata": {
    "ExecuteTime": {
     "end_time": "2024-05-30T04:26:53.689732Z",
     "start_time": "2024-05-30T04:26:53.674762Z"
    }
   },
   "cell_type": "code",
   "source": "np.sort(b) #row wise",
   "id": "ae7080caa82c532e",
   "outputs": [
    {
     "data": {
      "text/plain": [
       "array([[23, 30, 65, 65],\n",
       "       [34, 39, 80, 97],\n",
       "       [17, 26, 29, 78],\n",
       "       [12, 34, 59, 99],\n",
       "       [ 3, 33, 48, 71],\n",
       "       [36, 38, 68, 87]])"
      ]
     },
     "execution_count": 7,
     "metadata": {},
     "output_type": "execute_result"
    }
   ],
   "execution_count": 7
  },
  {
   "metadata": {},
   "cell_type": "markdown",
   "source": "# np.append",
   "id": "27f4b2319bf60b40"
  },
  {
   "metadata": {},
   "cell_type": "markdown",
   "source": [
    "The numpy.append() appends values along the mentioned axis at the end of the array\n",
    "\n",
    "https://numpy.org/doc/stable/reference/generated/numpy.append.html"
   ],
   "id": "88538552432091bc"
  },
  {
   "metadata": {
    "ExecuteTime": {
     "end_time": "2024-05-30T04:30:07.689206Z",
     "start_time": "2024-05-30T04:30:07.684583Z"
    }
   },
   "cell_type": "code",
   "source": [
    "# code\n",
    "np.append(a,200)"
   ],
   "id": "1f138eb79ca0b532",
   "outputs": [
    {
     "data": {
      "text/plain": [
       "array([ 16,  28,  76,  92,  72,  95,  59,  14,  23,  30,  39,  27,  11,\n",
       "        36,  76, 200])"
      ]
     },
     "execution_count": 8,
     "metadata": {},
     "output_type": "execute_result"
    }
   ],
   "execution_count": 8
  },
  {
   "metadata": {
    "ExecuteTime": {
     "end_time": "2024-05-30T04:30:28.498393Z",
     "start_time": "2024-05-30T04:30:28.490553Z"
    }
   },
   "cell_type": "code",
   "source": "np.append(b,np.random.random((b.shape[0],1)),axis=1)",
   "id": "eee132c666702fab",
   "outputs": [
    {
     "data": {
      "text/plain": [
       "array([[2.30000000e+01, 3.00000000e+01, 6.50000000e+01, 6.50000000e+01,\n",
       "        5.80998571e-01],\n",
       "       [3.40000000e+01, 3.90000000e+01, 8.00000000e+01, 9.70000000e+01,\n",
       "        5.70854409e-01],\n",
       "       [2.90000000e+01, 1.70000000e+01, 2.60000000e+01, 7.80000000e+01,\n",
       "        3.73550496e-01],\n",
       "       [3.40000000e+01, 1.20000000e+01, 5.90000000e+01, 9.90000000e+01,\n",
       "        1.84389523e-01],\n",
       "       [4.80000000e+01, 7.10000000e+01, 3.00000000e+00, 3.30000000e+01,\n",
       "        5.32060437e-01],\n",
       "       [3.80000000e+01, 3.60000000e+01, 6.80000000e+01, 8.70000000e+01,\n",
       "        7.14046685e-02]])"
      ]
     },
     "execution_count": 9,
     "metadata": {},
     "output_type": "execute_result"
    }
   ],
   "execution_count": 9
  },
  {
   "metadata": {
    "ExecuteTime": {
     "end_time": "2024-05-30T04:30:54.189599Z",
     "start_time": "2024-05-30T04:30:54.178997Z"
    }
   },
   "cell_type": "code",
   "source": "np.append(b,np.random.random((b.shape[0],1)))",
   "id": "d1244bbf20ab59c0",
   "outputs": [
    {
     "data": {
      "text/plain": [
       "array([23.        , 30.        , 65.        , 65.        , 34.        ,\n",
       "       39.        , 80.        , 97.        , 29.        , 17.        ,\n",
       "       26.        , 78.        , 34.        , 12.        , 59.        ,\n",
       "       99.        , 48.        , 71.        ,  3.        , 33.        ,\n",
       "       38.        , 36.        , 68.        , 87.        ,  0.12103136,\n",
       "        0.18699272,  0.80777865,  0.22888467,  0.39846238,  0.79855876])"
      ]
     },
     "execution_count": 11,
     "metadata": {},
     "output_type": "execute_result"
    }
   ],
   "execution_count": 11
  },
  {
   "metadata": {
    "ExecuteTime": {
     "end_time": "2024-05-30T04:38:46.156629Z",
     "start_time": "2024-05-30T04:38:46.149259Z"
    }
   },
   "cell_type": "code",
   "source": "np.append(b,np.ones((b.shape[0],1)),axis=1) # adding 1 at last column",
   "id": "98180dfbbad94555",
   "outputs": [
    {
     "data": {
      "text/plain": [
       "array([[23., 30., 65., 65.,  1.],\n",
       "       [34., 39., 80., 97.,  1.],\n",
       "       [29., 17., 26., 78.,  1.],\n",
       "       [34., 12., 59., 99.,  1.],\n",
       "       [48., 71.,  3., 33.,  1.],\n",
       "       [38., 36., 68., 87.,  1.]])"
      ]
     },
     "execution_count": 16,
     "metadata": {},
     "output_type": "execute_result"
    }
   ],
   "execution_count": 16
  },
  {
   "metadata": {},
   "cell_type": "markdown",
   "source": [
    "# np.concatenate\n",
    "\n",
    "numpy.concatenate() function concatenate a sequence of arrays along an existing axis.\n",
    "\n",
    "https://numpy.org/doc/stable/reference/generated/numpy.concatenate.html"
   ],
   "id": "19f985e00ac4b5bd"
  },
  {
   "metadata": {
    "ExecuteTime": {
     "end_time": "2024-05-30T04:42:35.258999Z",
     "start_time": "2024-05-30T04:42:35.248317Z"
    }
   },
   "cell_type": "code",
   "source": [
    "# code\n",
    "c = np.arange(6).reshape(2,3)\n",
    "d = np.arange(6,12).reshape(2,3)\n",
    "\n",
    "print(c)\n",
    "print(d)"
   ],
   "id": "69d03e403fec66a6",
   "outputs": [
    {
     "name": "stdout",
     "output_type": "stream",
     "text": [
      "[[0 1 2]\n",
      " [3 4 5]]\n",
      "[[ 6  7  8]\n",
      " [ 9 10 11]]\n"
     ]
    }
   ],
   "execution_count": 17
  },
  {
   "metadata": {
    "ExecuteTime": {
     "end_time": "2024-05-30T04:42:58.549020Z",
     "start_time": "2024-05-30T04:42:58.543243Z"
    }
   },
   "cell_type": "code",
   "source": "np.concatenate((c,d),axis=0)",
   "id": "8362d537848eb538",
   "outputs": [
    {
     "data": {
      "text/plain": [
       "array([[ 0,  1,  2],\n",
       "       [ 3,  4,  5],\n",
       "       [ 6,  7,  8],\n",
       "       [ 9, 10, 11]])"
      ]
     },
     "execution_count": 18,
     "metadata": {},
     "output_type": "execute_result"
    }
   ],
   "execution_count": 18
  },
  {
   "metadata": {
    "ExecuteTime": {
     "end_time": "2024-05-30T04:43:18.354103Z",
     "start_time": "2024-05-30T04:43:18.349046Z"
    }
   },
   "cell_type": "code",
   "source": "np.concatenate((c,d),axis=1)",
   "id": "670b9ff154940601",
   "outputs": [
    {
     "data": {
      "text/plain": [
       "array([[ 0,  1,  2,  6,  7,  8],\n",
       "       [ 3,  4,  5,  9, 10, 11]])"
      ]
     },
     "execution_count": 19,
     "metadata": {},
     "output_type": "execute_result"
    }
   ],
   "execution_count": 19
  },
  {
   "metadata": {},
   "cell_type": "markdown",
   "source": [
    "# np.unique\n",
    "\n",
    "With the help of np.unique() method, we can get the unique values from an array given as parameter in np.unique() method.\n",
    "\n",
    "https://numpy.org/doc/stable/reference/generated/numpy.unique.html/"
   ],
   "id": "dd80967a657b2df7"
  },
  {
   "metadata": {
    "ExecuteTime": {
     "end_time": "2024-05-30T04:50:13.217821Z",
     "start_time": "2024-05-30T04:50:13.210327Z"
    }
   },
   "cell_type": "code",
   "source": [
    "# code\n",
    "e = np.array([1,1,2,2,3,3,4,4,5,5,6,6])"
   ],
   "id": "6faf931c35af9a3a",
   "outputs": [],
   "execution_count": 20
  },
  {
   "metadata": {
    "ExecuteTime": {
     "end_time": "2024-05-30T04:50:33.654622Z",
     "start_time": "2024-05-30T04:50:33.650411Z"
    }
   },
   "cell_type": "code",
   "source": "np.unique(e)",
   "id": "31bc8ee2ec217da1",
   "outputs": [
    {
     "data": {
      "text/plain": [
       "array([1, 2, 3, 4, 5, 6])"
      ]
     },
     "execution_count": 21,
     "metadata": {},
     "output_type": "execute_result"
    }
   ],
   "execution_count": 21
  },
  {
   "metadata": {},
   "cell_type": "markdown",
   "source": [
    "# np.expand_dims\n",
    "\n",
    "With the help of Numpy.expand_dims() method, we can get the expanded dimensions of an array\n",
    "\n",
    "https://numpy.org/doc/stable/reference/generated/numpy.expand_dims.html"
   ],
   "id": "6f908c8587819f18"
  },
  {
   "metadata": {
    "ExecuteTime": {
     "end_time": "2024-05-30T04:52:36.269927Z",
     "start_time": "2024-05-30T04:52:36.266240Z"
    }
   },
   "cell_type": "code",
   "source": [
    "# code\n",
    "a.shape"
   ],
   "id": "f6676e33e9dd5a43",
   "outputs": [
    {
     "data": {
      "text/plain": [
       "(15,)"
      ]
     },
     "execution_count": 22,
     "metadata": {},
     "output_type": "execute_result"
    }
   ],
   "execution_count": 22
  },
  {
   "metadata": {
    "ExecuteTime": {
     "end_time": "2024-05-30T04:53:07.506735Z",
     "start_time": "2024-05-30T04:53:07.500316Z"
    }
   },
   "cell_type": "code",
   "source": "np.expand_dims(a,axis=0).shape",
   "id": "9b6a52e04360a4a9",
   "outputs": [
    {
     "data": {
      "text/plain": [
       "(1, 15)"
      ]
     },
     "execution_count": 23,
     "metadata": {},
     "output_type": "execute_result"
    }
   ],
   "execution_count": 23
  },
  {
   "metadata": {
    "ExecuteTime": {
     "end_time": "2024-05-30T05:00:33.272121Z",
     "start_time": "2024-05-30T05:00:33.262314Z"
    }
   },
   "cell_type": "code",
   "source": "np.expand_dims(a,axis=1)",
   "id": "bc352cc21c03ef12",
   "outputs": [
    {
     "data": {
      "text/plain": [
       "array([[16],\n",
       "       [28],\n",
       "       [76],\n",
       "       [92],\n",
       "       [72],\n",
       "       [95],\n",
       "       [59],\n",
       "       [14],\n",
       "       [23],\n",
       "       [30],\n",
       "       [39],\n",
       "       [27],\n",
       "       [11],\n",
       "       [36],\n",
       "       [76]])"
      ]
     },
     "execution_count": 26,
     "metadata": {},
     "output_type": "execute_result"
    }
   ],
   "execution_count": 26
  },
  {
   "metadata": {},
   "cell_type": "markdown",
   "source": [
    "# np.where\n",
    "\n",
    "The numpy.where() function returns the indices of elements in an input array where the given condition is satisfied.\n",
    "\n",
    "https://numpy.org/doc/stable/reference/generated/numpy.where.html"
   ],
   "id": "ad1307887452d5c1"
  },
  {
   "metadata": {
    "ExecuteTime": {
     "end_time": "2024-05-30T05:03:42.487822Z",
     "start_time": "2024-05-30T05:03:42.479573Z"
    }
   },
   "cell_type": "code",
   "source": "a",
   "id": "c460dbf25f42dac3",
   "outputs": [
    {
     "data": {
      "text/plain": [
       "array([16, 28, 76, 92, 72, 95, 59, 14, 23, 30, 39, 27, 11, 36, 76])"
      ]
     },
     "execution_count": 27,
     "metadata": {},
     "output_type": "execute_result"
    }
   ],
   "execution_count": 27
  },
  {
   "metadata": {
    "ExecuteTime": {
     "end_time": "2024-05-30T05:04:16.753115Z",
     "start_time": "2024-05-30T05:04:16.742296Z"
    }
   },
   "cell_type": "code",
   "source": [
    "# find all indices with value greater than 50\n",
    "np.where(a>50)"
   ],
   "id": "7d4936ffdc157fb5",
   "outputs": [
    {
     "data": {
      "text/plain": [
       "(array([ 2,  3,  4,  5,  6, 14], dtype=int64),)"
      ]
     },
     "execution_count": 28,
     "metadata": {},
     "output_type": "execute_result"
    }
   ],
   "execution_count": 28
  },
  {
   "metadata": {},
   "cell_type": "code",
   "outputs": [],
   "execution_count": null,
   "source": [
    "# replace all values > 50 with 0\n",
    "np.where(a>50,0,a) # np.where(condition,true,false)"
   ],
   "id": "744025e85af7480e"
  }
 ],
 "metadata": {
  "kernelspec": {
   "display_name": "Python 3",
   "language": "python",
   "name": "python3"
  },
  "language_info": {
   "codemirror_mode": {
    "name": "ipython",
    "version": 2
   },
   "file_extension": ".py",
   "mimetype": "text/x-python",
   "name": "python",
   "nbconvert_exporter": "python",
   "pygments_lexer": "ipython2",
   "version": "2.7.6"
  }
 },
 "nbformat": 4,
 "nbformat_minor": 5
}
