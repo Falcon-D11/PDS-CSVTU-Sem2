{
 "cells": [
  {
   "metadata": {
    "ExecuteTime": {
     "end_time": "2024-05-30T04:19:42.181610Z",
     "start_time": "2024-05-30T04:19:41.702996Z"
    }
   },
   "cell_type": "code",
   "source": "import numpy as np",
   "id": "bbe983e8fb5e5458",
   "outputs": [],
   "execution_count": 1
  },
  {
   "metadata": {},
   "cell_type": "markdown",
   "source": "# np.sort",
   "id": "dbfc1144f74f6d8b"
  },
  {
   "metadata": {},
   "cell_type": "markdown",
   "source": "Return a sorted copy of an array.",
   "id": "1e4e502b7fb406f5"
  },
  {
   "metadata": {
    "ExecuteTime": {
     "end_time": "2024-05-30T04:20:36.645360Z",
     "start_time": "2024-05-30T04:20:36.634801Z"
    }
   },
   "cell_type": "code",
   "source": [
    "# code\n",
    "import numpy as np\n",
    "a = np.random.randint(1,100,15)\n",
    "a"
   ],
   "id": "178e7d46ce69ff5b",
   "outputs": [
    {
     "data": {
      "text/plain": [
       "array([16, 28, 76, 92, 72, 95, 59, 14, 23, 30, 39, 27, 11, 36, 76])"
      ]
     },
     "execution_count": 2,
     "metadata": {},
     "output_type": "execute_result"
    }
   ],
   "execution_count": 2
  },
  {
   "metadata": {
    "ExecuteTime": {
     "end_time": "2024-05-30T04:20:57.129202Z",
     "start_time": "2024-05-30T04:20:57.116725Z"
    }
   },
   "cell_type": "code",
   "source": [
    "b = np.random.randint(1,100,24).reshape(6,4)\n",
    "b"
   ],
   "id": "24b5d4baebb33912",
   "outputs": [
    {
     "data": {
      "text/plain": [
       "array([[23, 30, 65, 65],\n",
       "       [34, 39, 80, 97],\n",
       "       [29, 17, 26, 78],\n",
       "       [34, 12, 59, 99],\n",
       "       [48, 71,  3, 33],\n",
       "       [38, 36, 68, 87]])"
      ]
     },
     "execution_count": 3,
     "metadata": {},
     "output_type": "execute_result"
    }
   ],
   "execution_count": 3
  },
  {
   "metadata": {
    "ExecuteTime": {
     "end_time": "2024-05-30T04:21:19.401829Z",
     "start_time": "2024-05-30T04:21:19.394686Z"
    }
   },
   "cell_type": "code",
   "source": "np.sort(a)[::-1]",
   "id": "5dbf2c747e9bf025",
   "outputs": [
    {
     "data": {
      "text/plain": [
       "array([95, 92, 76, 76, 72, 59, 39, 36, 30, 28, 27, 23, 16, 14, 11])"
      ]
     },
     "execution_count": 4,
     "metadata": {},
     "output_type": "execute_result"
    }
   ],
   "execution_count": 4
  },
  {
   "metadata": {
    "ExecuteTime": {
     "end_time": "2024-05-30T04:21:37.175580Z",
     "start_time": "2024-05-30T04:21:37.159312Z"
    }
   },
   "cell_type": "code",
   "source": "np.sort(b,axis=0)",
   "id": "4b82436cad7b8cc9",
   "outputs": [
    {
     "data": {
      "text/plain": [
       "array([[23, 12,  3, 33],\n",
       "       [29, 17, 26, 65],\n",
       "       [34, 30, 59, 78],\n",
       "       [34, 36, 65, 87],\n",
       "       [38, 39, 68, 97],\n",
       "       [48, 71, 80, 99]])"
      ]
     },
     "execution_count": 5,
     "metadata": {},
     "output_type": "execute_result"
    }
   ],
   "execution_count": 5
  },
  {
   "metadata": {},
   "cell_type": "code",
   "outputs": [],
   "execution_count": null,
   "source": "",
   "id": "ae7080caa82c532e"
  }
 ],
 "metadata": {
  "kernelspec": {
   "display_name": "Python 3",
   "language": "python",
   "name": "python3"
  },
  "language_info": {
   "codemirror_mode": {
    "name": "ipython",
    "version": 2
   },
   "file_extension": ".py",
   "mimetype": "text/x-python",
   "name": "python",
   "nbconvert_exporter": "python",
   "pygments_lexer": "ipython2",
   "version": "2.7.6"
  }
 },
 "nbformat": 4,
 "nbformat_minor": 5
}
