{
 "cells": [
  {
   "metadata": {},
   "cell_type": "markdown",
   "source": [
    "# Numpy\n",
    "## Numpy is a library for the Python programming language, adding support for large, ;ulti-dimensional arrays and matrices, along with a large collection of high-level mathematical functions to operate on these arrays.\n",
    "##\n",
    "## Numpy is the core library for scientific computing in Python. It provides a high-performance multidimensional array object, and tools for working with these arrays. If you are already familiar with MATLAB, you might find this tutorial useful to get started with Numpy.\n",
    "##\n",
    "## Numpy is a general-purpose array-processing package. It provides a high-performance multidimensional array object, and tools for working with these arrays. It is the fundamental package for scientific computing with Python.p[=\\p[=\\\n",
    "###  also has functions for working in domain of linear algebra, fourier transform, and matrices. \n",
    "  "
   ],
   "id": "36b008e704dbf7eb"
  },
  {
   "metadata": {
    "ExecuteTime": {
     "end_time": "2024-05-25T12:08:35.783636Z",
     "start_time": "2024-05-25T12:08:35.118860Z"
    }
   },
   "cell_type": "code",
   "source": "import numpy as np",
   "id": "ad251f14638628de",
   "outputs": [],
   "execution_count": 2
  },
  {
   "metadata": {},
   "cell_type": "markdown",
   "source": [
    "## We have imported the numpy library as np. Now we can use the functions in the library by using np.function_name.\n",
    "## Arrays are stored in contiguous memory locations. They are faster than lists.\n",
    "## Arrays are mutable. We can change the values of the array.\n",
    "## Arrays are homogeneous. All the elements of the array should be of the same data type.6]\n",
    "## Arrays are of fixed size. We cannot increase or decrease the size of the array.\n"
   ],
   "id": "5c91126c60ffa846"
  },
  {
   "metadata": {
    "ExecuteTime": {
     "end_time": "2024-05-25T12:08:39.109622Z",
     "start_time": "2024-05-25T12:08:39.100942Z"
    }
   },
   "cell_type": "code",
   "source": [
    "# Creating an array\n",
    "a = np.array([1,2,3,4,5])\n",
    "print(a) \n",
    "print(type(a)) # type of the array\n",
    "print(a.shape) # shape of the array \n",
    "print(a.dtype) # data type of the array\n",
    "print(a.size) # number of elements in the array\n",
    "print(a.ndim) # number of dimensions of the array\n",
    "print(a.itemsize) # size of each element in the array\n"
   ],
   "id": "bbb1675fa6a51052",
   "outputs": [
    {
     "name": "stdout",
     "output_type": "stream",
     "text": [
      "[1 2 3 4 5]\n",
      "<class 'numpy.ndarray'>\n",
      "(5,)\n",
      "int32\n",
      "5\n",
      "1\n",
      "4\n"
     ]
    }
   ],
   "execution_count": 3
  },
  {
   "metadata": {
    "ExecuteTime": {
     "end_time": "2024-05-25T12:10:50.922807Z",
     "start_time": "2024-05-25T12:10:50.917799Z"
    }
   },
   "cell_type": "code",
   "source": [
    "# Addition of arrays\n",
    "a = np.array([1,2,3,4,5])\n",
    "b = np.array([6,7,8,9,10])\n",
    "c = a + b\n",
    "print(c)"
   ],
   "id": "bc7a571526c65c8",
   "outputs": [
    {
     "name": "stdout",
     "output_type": "stream",
     "text": [
      "[ 7  9 11 13 15]\n"
     ]
    }
   ],
   "execution_count": 4
  },
  {
   "metadata": {
    "ExecuteTime": {
     "end_time": "2024-05-25T12:11:06.708409Z",
     "start_time": "2024-05-25T12:11:06.704266Z"
    }
   },
   "cell_type": "code",
   "source": [
    "# Subtraction of arrays\n",
    "a = np.array([1,2,3,4,5])\n",
    "b = np.array([6,7,8,9,10])\n",
    "c = a - b\n",
    "print(c)"
   ],
   "id": "d361ec9ca7450a04",
   "outputs": [
    {
     "name": "stdout",
     "output_type": "stream",
     "text": [
      "[-5 -5 -5 -5 -5]\n"
     ]
    }
   ],
   "execution_count": 5
  },
  {
   "metadata": {
    "ExecuteTime": {
     "end_time": "2024-05-25T12:11:30.211467Z",
     "start_time": "2024-05-25T12:11:30.207338Z"
    }
   },
   "cell_type": "code",
   "source": [
    "# Multiplication of arrays\n",
    "a = np.array([1,2,3,4,5])\n",
    "b = np.array([6,7,8,9,10])\n",
    "c = a * b\n",
    "print(c)"
   ],
   "id": "26d74dce47b598fc",
   "outputs": [
    {
     "name": "stdout",
     "output_type": "stream",
     "text": [
      "[ 6 14 24 36 50]\n"
     ]
    }
   ],
   "execution_count": 6
  },
  {
   "metadata": {
    "ExecuteTime": {
     "end_time": "2024-05-25T12:11:48.452656Z",
     "start_time": "2024-05-25T12:11:48.444659Z"
    }
   },
   "cell_type": "code",
   "source": [
    "# Division of arrays\n",
    "a = np.array([1,2,3,4,5])\n",
    "b = np.array([6,7,8,9,10])\n",
    "c = a / b\n",
    "print(c)"
   ],
   "id": "db4035467cf03053",
   "outputs": [
    {
     "name": "stdout",
     "output_type": "stream",
     "text": [
      "[0.16666667 0.28571429 0.375      0.44444444 0.5       ]\n"
     ]
    }
   ],
   "execution_count": 7
  },
  {
   "metadata": {
    "ExecuteTime": {
     "end_time": "2024-05-25T12:12:03.356863Z",
     "start_time": "2024-05-25T12:12:03.352821Z"
    }
   },
   "cell_type": "code",
   "source": [
    "# Dot product of arrays\n",
    "a = np.array([1,2,3,4,5])\n",
    "b = np.array([6,7,8,9,10])\n",
    "c = np.dot(a,b)\n",
    "print(c)"
   ],
   "id": "f021506251d240d",
   "outputs": [
    {
     "name": "stdout",
     "output_type": "stream",
     "text": [
      "130\n"
     ]
    }
   ],
   "execution_count": 8
  },
  {
   "metadata": {
    "ExecuteTime": {
     "end_time": "2024-05-25T12:17:56.229978Z",
     "start_time": "2024-05-25T12:17:56.207693Z"
    }
   },
   "cell_type": "code",
   "source": [
    "# Creating a 2D array\n",
    "a = np.array([[1,2,3],[4,5,6],[7,8,9]])\n",
    "print(a)\n"
   ],
   "id": "660ca08b9717c2bf",
   "outputs": [
    {
     "name": "stdout",
     "output_type": "stream",
     "text": [
      "[[1 2 3]\n",
      " [4 5 6]\n",
      " [7 8 9]]\n"
     ]
    }
   ],
   "execution_count": 9
  },
  {
   "metadata": {
    "ExecuteTime": {
     "end_time": "2024-05-25T12:18:32.175707Z",
     "start_time": "2024-05-25T12:18:32.167499Z"
    }
   },
   "cell_type": "code",
   "source": [
    "# Accessing elements of a 2D array\n",
    "a = np.array([[1,2,3],[4,5,6],[7,8,9]])\n",
    "print(a[0,0]) # first element\n",
    "print(a[0,1]) # second element\n"
   ],
   "id": "e1cd81e91e876486",
   "outputs": [
    {
     "name": "stdout",
     "output_type": "stream",
     "text": [
      "1\n",
      "2\n"
     ]
    }
   ],
   "execution_count": 10
  },
  {
   "metadata": {
    "ExecuteTime": {
     "end_time": "2024-05-26T06:30:22.549140Z",
     "start_time": "2024-05-26T06:30:22.537702Z"
    }
   },
   "cell_type": "code",
   "source": [
    "# Slicing of a 2D array\n",
    "a = np.array([[1,2,3],[4,5,6],[7,8,9]])\n",
    "print(a[0:2,0:2])  #irst two rows and first two columns"
   ],
   "id": "afd150b06d804d4b",
   "outputs": [
    {
     "name": "stdout",
     "output_type": "stream",
     "text": [
      "[[1 2]\n",
      " [4 5]]\n"
     ]
    }
   ],
   "execution_count": 17
  },
  {
   "metadata": {
    "ExecuteTime": {
     "end_time": "2024-05-26T06:52:33.625709Z",
     "start_time": "2024-05-26T06:52:33.618973Z"
    }
   },
   "cell_type": "code",
   "source": [
    "# Creating a 4 x 2 matrix\n",
    "a = np.array([[1,2],[3,4],[5,6],[7,8]])\n",
    "print(a)"
   ],
   "id": "f509e379e16c222c",
   "outputs": [
    {
     "name": "stdout",
     "output_type": "stream",
     "text": [
      "[[1 2]\n",
      " [3 4]\n",
      " [5 6]\n",
      " [7 8]]\n"
     ]
    }
   ],
   "execution_count": 18
  },
  {
   "metadata": {
    "ExecuteTime": {
     "end_time": "2024-05-27T07:20:32.263852Z",
     "start_time": "2024-05-27T07:20:32.187886Z"
    }
   },
   "cell_type": "code",
   "source": [
    "# 3d Array\n",
    "c = np.array([[[1,2,3],[4,5,6]],[[11,12,13],[14,15,16]]])\n",
    "print(c)"
   ],
   "id": "f61d2959b6fb778f",
   "outputs": [
    {
     "name": "stdout",
     "output_type": "stream",
     "text": [
      "[[[ 1  2  3]\n",
      "  [ 4  5  6]]\n",
      "\n",
      " [[11 12 13]\n",
      "  [14 15 16]]]\n"
     ]
    }
   ],
   "execution_count": 19
  },
  {
   "metadata": {
    "ExecuteTime": {
     "end_time": "2024-05-27T07:20:47.132163Z",
     "start_time": "2024-05-27T07:20:47.108990Z"
    }
   },
   "cell_type": "code",
   "source": [
    "#dtype\n",
    "\n",
    "a = np.array([0,2,3],dtype=bool)\n",
    "print(a)\n",
    "b = np.array([0,2,3],dtype=complex)\n",
    "print(b)"
   ],
   "id": "87acd9ba181eaa43",
   "outputs": [
    {
     "name": "stdout",
     "output_type": "stream",
     "text": [
      "[False  True  True]\n",
      "[0.+0.j 2.+0.j 3.+0.j]\n"
     ]
    }
   ],
   "execution_count": 20
  },
  {
   "metadata": {
    "ExecuteTime": {
     "end_time": "2024-05-27T07:21:00.816006Z",
     "start_time": "2024-05-27T07:21:00.807110Z"
    }
   },
   "cell_type": "code",
   "source": [
    "# np.arange\n",
    "a = np.arange(1,11)\n",
    "print(a)\n",
    "b = np.arange(1,11,2)\n",
    "print(b)"
   ],
   "id": "5d4829575bb5b5aa",
   "outputs": [
    {
     "name": "stdout",
     "output_type": "stream",
     "text": [
      "[ 1  2  3  4  5  6  7  8  9 10]\n",
      "[1 3 5 7 9]\n"
     ]
    }
   ],
   "execution_count": 21
  },
  {
   "metadata": {
    "ExecuteTime": {
     "end_time": "2024-05-27T07:21:57.242972Z",
     "start_time": "2024-05-27T07:21:57.191136Z"
    }
   },
   "cell_type": "code",
   "source": [
    "# with reshape\n",
    "\n",
    "np.arange(1,11).reshape(2,5)\n"
   ],
   "id": "e4d2752902602832",
   "outputs": [
    {
     "data": {
      "text/plain": [
       "array([[ 1,  2,  3,  4,  5],\n",
       "       [ 6,  7,  8,  9, 10]])"
      ]
     },
     "execution_count": 22,
     "metadata": {},
     "output_type": "execute_result"
    }
   ],
   "execution_count": 22
  },
  {
   "metadata": {
    "ExecuteTime": {
     "end_time": "2024-05-27T07:23:19.128524Z",
     "start_time": "2024-05-27T07:23:19.109951Z"
    }
   },
   "cell_type": "code",
   "source": [
    "a =np.arange(1,11).reshape(5,2)\n",
    "print(a)\n"
   ],
   "id": "c49d6f15e1d1e3aa",
   "outputs": [
    {
     "name": "stdout",
     "output_type": "stream",
     "text": [
      "[[ 1  2]\n",
      " [ 3  4]\n",
      " [ 5  6]\n",
      " [ 7  8]\n",
      " [ 9 10]]\n"
     ]
    }
   ],
   "execution_count": 24
  },
  {
   "metadata": {
    "ExecuteTime": {
     "end_time": "2024-05-27T07:26:33.816845Z",
     "start_time": "2024-05-27T07:26:33.812017Z"
    }
   },
   "cell_type": "code",
   "source": [
    "# np.ones and np.zeros\n",
    "a = np.ones((3,3))\n",
    "print(a)"
   ],
   "id": "ad8ad0006bd04e20",
   "outputs": [
    {
     "name": "stdout",
     "output_type": "stream",
     "text": [
      "[[1. 1. 1.]\n",
      " [1. 1. 1.]\n",
      " [1. 1. 1.]]\n"
     ]
    }
   ],
   "execution_count": 27
  },
  {
   "metadata": {
    "ExecuteTime": {
     "end_time": "2024-05-27T07:27:03.088113Z",
     "start_time": "2024-05-27T07:27:03.081944Z"
    }
   },
   "cell_type": "code",
   "source": [
    "b = np.zeros((3,3))\n",
    "print(b)\n"
   ],
   "id": "de8aba0fbc37222d",
   "outputs": [
    {
     "name": "stdout",
     "output_type": "stream",
     "text": [
      "[[0. 0. 0.]\n",
      " [0. 0. 0.]\n",
      " [0. 0. 0.]]\n"
     ]
    }
   ],
   "execution_count": 28
  },
  {
   "metadata": {
    "ExecuteTime": {
     "end_time": "2024-05-27T07:28:00.766063Z",
     "start_time": "2024-05-27T07:28:00.755068Z"
    }
   },
   "cell_type": "code",
   "source": [
    "# np.random\n",
    "a = np.random.random((3,3))"
   ],
   "id": "a46982be62b0d6f9",
   "outputs": [],
   "execution_count": 29
  },
  {
   "metadata": {
    "ExecuteTime": {
     "end_time": "2024-05-27T07:28:29.593805Z",
     "start_time": "2024-05-27T07:28:29.580588Z"
    }
   },
   "cell_type": "code",
   "source": "print(a)",
   "id": "8fcb803c0c6b7b0a",
   "outputs": [
    {
     "name": "stdout",
     "output_type": "stream",
     "text": [
      "[[0.32618011 0.16345066 0.94933387]\n",
      " [0.2028032  0.36179844 0.52093013]\n",
      " [0.20867362 0.53295478 0.21601279]]\n"
     ]
    }
   ],
   "execution_count": 30
  },
  {
   "metadata": {
    "ExecuteTime": {
     "end_time": "2024-05-27T07:29:42.375182Z",
     "start_time": "2024-05-27T07:29:42.359930Z"
    }
   },
   "cell_type": "code",
   "source": [
    "# np.linspace\n",
    "a = np.linspace(1,10,5) # 5 numbers between 1 and 10\n",
    "print(a)"
   ],
   "id": "4a2c9eea3359082a",
   "outputs": [
    {
     "name": "stdout",
     "output_type": "stream",
     "text": [
      "[ 1.    3.25  5.5   7.75 10.  ]\n"
     ]
    }
   ],
   "execution_count": 31
  },
  {
   "metadata": {
    "ExecuteTime": {
     "end_time": "2024-05-27T07:32:40.025705Z",
     "start_time": "2024-05-27T07:32:40.015868Z"
    }
   },
   "cell_type": "code",
   "source": [
    "# np.eye\n",
    "a = np.eye(3) # 3 x 3 identity matrix\n",
    "print(a)"
   ],
   "id": "ed89b4894de163d5",
   "outputs": [
    {
     "name": "stdout",
     "output_type": "stream",
     "text": [
      "[[1. 0. 0.]\n",
      " [0. 1. 0.]\n",
      " [0. 0. 1.]]\n"
     ]
    }
   ],
   "execution_count": 32
  },
  {
   "metadata": {
    "ExecuteTime": {
     "end_time": "2024-05-27T07:32:57.558604Z",
     "start_time": "2024-05-27T07:32:57.551219Z"
    }
   },
   "cell_type": "code",
   "source": [
    "# np.full\n",
    "a = np.full((3,3),5) # 3 x 3 matrix with all elements as 5\n",
    "print(a)"
   ],
   "id": "c935d26f21f8075f",
   "outputs": [
    {
     "name": "stdout",
     "output_type": "stream",
     "text": [
      "[[5 5 5]\n",
      " [5 5 5]\n",
      " [5 5 5]]\n"
     ]
    }
   ],
   "execution_count": 33
  },
  {
   "metadata": {
    "ExecuteTime": {
     "end_time": "2024-05-27T07:33:14.829634Z",
     "start_time": "2024-05-27T07:33:14.824869Z"
    }
   },
   "cell_type": "code",
   "source": [
    "# np.empty\n",
    "a = np.empty((3,3)) # 3 x 3 matrix with random values\n",
    "print(a)"
   ],
   "id": "3b6f721e0c3ce53e",
   "outputs": [
    {
     "name": "stdout",
     "output_type": "stream",
     "text": [
      "[[0. 0. 0.]\n",
      " [0. 0. 0.]\n",
      " [0. 0. 0.]]\n"
     ]
    }
   ],
   "execution_count": 34
  },
  {
   "metadata": {},
   "cell_type": "markdown",
   "source": "# Numpy Attributes\n",
   "id": "729feff63e3f3894"
  },
  {
   "metadata": {
    "ExecuteTime": {
     "end_time": "2024-05-27T07:39:15.492854Z",
     "start_time": "2024-05-27T07:39:15.475406Z"
    }
   },
   "cell_type": "code",
   "source": [
    "a1 = np.arange(10) # 1D array\n",
    "print(a1)\n",
    "a2 = np.arange(12).reshape(3,4) # 2D array\n",
    "print(a2)\n",
    "a3 = np.arange(24).reshape(2,3,4) # 3D array\n",
    "print(a3)"
   ],
   "id": "2a25b1c81974fbfc",
   "outputs": [
    {
     "name": "stdout",
     "output_type": "stream",
     "text": [
      "[0 1 2 3 4 5 6 7 8 9]\n",
      "[[ 0  1  2  3]\n",
      " [ 4  5  6  7]\n",
      " [ 8  9 10 11]]\n",
      "[[[ 0  1  2  3]\n",
      "  [ 4  5  6  7]\n",
      "  [ 8  9 10 11]]\n",
      "\n",
      " [[12 13 14 15]\n",
      "  [16 17 18 19]\n",
      "  [20 21 22 23]]]\n"
     ]
    }
   ],
   "execution_count": 35
  },
  {
   "metadata": {
    "ExecuteTime": {
     "end_time": "2024-05-27T07:46:44.572292Z",
     "start_time": "2024-05-27T07:46:44.557467Z"
    }
   },
   "cell_type": "code",
   "source": [
    "# ndim\n",
    "print(a1.ndim) # number of dimensions\n",
    "print(a2.ndim)\n",
    "print(a3.ndim)"
   ],
   "id": "981c4443135d39b8",
   "outputs": [
    {
     "name": "stdout",
     "output_type": "stream",
     "text": [
      "1\n",
      "2\n",
      "3\n"
     ]
    }
   ],
   "execution_count": 36
  },
  {
   "metadata": {
    "ExecuteTime": {
     "end_time": "2024-05-27T07:47:13.408643Z",
     "start_time": "2024-05-27T07:47:13.403392Z"
    }
   },
   "cell_type": "code",
   "source": [
    "# shape\n",
    "print(a1.shape) # number of elements in each dimension\n",
    "print(a2.shape)\n",
    "print(a3.shape)"
   ],
   "id": "61b08403f451ff5b",
   "outputs": [
    {
     "name": "stdout",
     "output_type": "stream",
     "text": [
      "(10,)\n",
      "(3, 4)\n",
      "(2, 3, 4)\n"
     ]
    }
   ],
   "execution_count": 37
  },
  {
   "metadata": {
    "ExecuteTime": {
     "end_time": "2024-05-27T07:50:00.597014Z",
     "start_time": "2024-05-27T07:50:00.592145Z"
    }
   },
   "cell_type": "code",
   "source": [
    "# size\n",
    "print(a1.size) # number of elements in the array\n",
    "print(a2.size)\n",
    "print(a3.size)"
   ],
   "id": "5fab764508b9b168",
   "outputs": [
    {
     "name": "stdout",
     "output_type": "stream",
     "text": [
      "10\n",
      "12\n",
      "24\n"
     ]
    }
   ],
   "execution_count": 38
  },
  {
   "metadata": {
    "ExecuteTime": {
     "end_time": "2024-05-27T07:50:39.182459Z",
     "start_time": "2024-05-27T07:50:39.176603Z"
    }
   },
   "cell_type": "code",
   "source": [
    "# itemsize\n",
    "print(a1.itemsize) # size of each element in the array\n",
    "print(a2.itemsize)\n",
    "print(a3.itemsize)"
   ],
   "id": "e40eb03d90696043",
   "outputs": [
    {
     "name": "stdout",
     "output_type": "stream",
     "text": [
      "4\n",
      "4\n",
      "4\n"
     ]
    }
   ],
   "execution_count": 39
  },
  {
   "metadata": {
    "ExecuteTime": {
     "end_time": "2024-05-27T07:52:22.712674Z",
     "start_time": "2024-05-27T07:52:22.708478Z"
    }
   },
   "cell_type": "code",
   "source": [
    "# dtype\n",
    "print(a1.dtype) # data type of the array\n",
    "print(a2.dtype)\n",
    "print(a3.dtype)"
   ],
   "id": "3b1d5157a8174410",
   "outputs": [
    {
     "name": "stdout",
     "output_type": "stream",
     "text": [
      "int32\n",
      "int32\n",
      "int32\n"
     ]
    }
   ],
   "execution_count": 40
  },
  {
   "metadata": {},
   "cell_type": "markdown",
   "source": "# Changing Datatype of Array",
   "id": "bf807f6e11a2acae"
  },
  {
   "metadata": {
    "ExecuteTime": {
     "end_time": "2024-05-27T08:00:56.827044Z",
     "start_time": "2024-05-27T08:00:56.798970Z"
    }
   },
   "cell_type": "code",
   "source": [
    "# astype\n",
    "a3.dtype"
   ],
   "id": "cbe5df8117678818",
   "outputs": [
    {
     "data": {
      "text/plain": [
       "dtype('int32')"
      ]
     },
     "execution_count": 41,
     "metadata": {},
     "output_type": "execute_result"
    }
   ],
   "execution_count": 41
  },
  {
   "metadata": {
    "ExecuteTime": {
     "end_time": "2024-05-27T08:01:05.829834Z",
     "start_time": "2024-05-27T08:01:05.814713Z"
    }
   },
   "cell_type": "code",
   "source": "a3 = a3.astype(float)",
   "id": "aed19e8306c8b27f",
   "outputs": [],
   "execution_count": 42
  },
  {
   "metadata": {
    "ExecuteTime": {
     "end_time": "2024-05-27T08:01:20.809132Z",
     "start_time": "2024-05-27T08:01:20.799465Z"
    }
   },
   "cell_type": "code",
   "source": "a3.dtype",
   "id": "67ab6f3de84f09b7",
   "outputs": [
    {
     "data": {
      "text/plain": [
       "dtype('float64')"
      ]
     },
     "execution_count": 43,
     "metadata": {},
     "output_type": "execute_result"
    }
   ],
   "execution_count": 43
  },
  {
   "metadata": {},
   "cell_type": "markdown",
   "source": "# Array Operations",
   "id": "af722b622f4eb509"
  },
  {
   "metadata": {
    "ExecuteTime": {
     "end_time": "2024-05-27T08:17:30.344723Z",
     "start_time": "2024-05-27T08:17:30.338999Z"
    }
   },
   "cell_type": "code",
   "source": [
    "a1 = np.arange(12).reshape(3,4)\n",
    "a2 = np.arange(12,24).reshape(3,4)\n",
    "\n",
    "print(a1)\n",
    "print(a2)"
   ],
   "id": "507703f36620d267",
   "outputs": [
    {
     "name": "stdout",
     "output_type": "stream",
     "text": [
      "[[ 0  1  2  3]\n",
      " [ 4  5  6  7]\n",
      " [ 8  9 10 11]]\n",
      "[[12 13 14 15]\n",
      " [16 17 18 19]\n",
      " [20 21 22 23]]\n"
     ]
    }
   ],
   "execution_count": 44
  },
  {
   "metadata": {
    "ExecuteTime": {
     "end_time": "2024-05-27T08:18:21.599629Z",
     "start_time": "2024-05-27T08:18:21.592625Z"
    }
   },
   "cell_type": "code",
   "source": [
    "# Scalar operations\n",
    "\n",
    "# arithmetic operations\n",
    "print(a1 + 2)\n",
    "print(a1 - 2)\n",
    "print(a1 * 2)\n",
    "print(a1 / 2)\n"
   ],
   "id": "f46ba05a28ccccb1",
   "outputs": [
    {
     "name": "stdout",
     "output_type": "stream",
     "text": [
      "[[ 2  3  4  5]\n",
      " [ 6  7  8  9]\n",
      " [10 11 12 13]]\n",
      "[[-2 -1  0  1]\n",
      " [ 2  3  4  5]\n",
      " [ 6  7  8  9]]\n",
      "[[ 0  2  4  6]\n",
      " [ 8 10 12 14]\n",
      " [16 18 20 22]]\n",
      "[[0.  0.5 1.  1.5]\n",
      " [2.  2.5 3.  3.5]\n",
      " [4.  4.5 5.  5.5]]\n"
     ]
    }
   ],
   "execution_count": 45
  },
  {
   "metadata": {
    "ExecuteTime": {
     "end_time": "2024-05-27T08:19:06.868033Z",
     "start_time": "2024-05-27T08:19:06.861357Z"
    }
   },
   "cell_type": "code",
   "source": [
    "# relational operations\n",
    "print(a1 > 5)\n",
    "print(a1 < 5)\n",
    "print(a1 == 5)\n",
    "print(a1 != 5)\n"
   ],
   "id": "cd4b1ad14cbab764",
   "outputs": [
    {
     "name": "stdout",
     "output_type": "stream",
     "text": [
      "[[False False False False]\n",
      " [False False  True  True]\n",
      " [ True  True  True  True]]\n",
      "[[ True  True  True  True]\n",
      " [ True False False False]\n",
      " [False False False False]]\n",
      "[[False False False False]\n",
      " [False  True False False]\n",
      " [False False False False]]\n",
      "[[ True  True  True  True]\n",
      " [ True False  True  True]\n",
      " [ True  True  True  True]]\n"
     ]
    }
   ],
   "execution_count": 46
  },
  {
   "metadata": {
    "ExecuteTime": {
     "end_time": "2024-05-27T08:19:50.604140Z",
     "start_time": "2024-05-27T08:19:50.595970Z"
    }
   },
   "cell_type": "code",
   "source": [
    "# Vector operations\n",
    "\n",
    "# arithmetic operations\n",
    "print(a1 + a2)\n",
    "print(a1 - a2)\n",
    "print(a1 * a2)\n",
    "print(a1 / a2)\n",
    "    "
   ],
   "id": "eb42d59cad53066d",
   "outputs": [
    {
     "name": "stdout",
     "output_type": "stream",
     "text": [
      "[[12 14 16 18]\n",
      " [20 22 24 26]\n",
      " [28 30 32 34]]\n",
      "[[-12 -12 -12 -12]\n",
      " [-12 -12 -12 -12]\n",
      " [-12 -12 -12 -12]]\n",
      "[[  0  13  28  45]\n",
      " [ 64  85 108 133]\n",
      " [160 189 220 253]]\n",
      "[[0.         0.07692308 0.14285714 0.2       ]\n",
      " [0.25       0.29411765 0.33333333 0.36842105]\n",
      " [0.4        0.42857143 0.45454545 0.47826087]]\n"
     ]
    }
   ],
   "execution_count": 47
  },
  {
   "metadata": {},
   "cell_type": "markdown",
   "source": "# Numpy Functions",
   "id": "2417331d42e53ac0"
  },
  {
   "metadata": {
    "ExecuteTime": {
     "end_time": "2024-05-27T08:26:46.063681Z",
     "start_time": "2024-05-27T08:26:46.046138Z"
    }
   },
   "cell_type": "code",
   "source": [
    "a1 = np.random.random((3,3))\n",
    "a1 =np.round(a1*100) # round off the elements of the array \n",
    "print(a1)"
   ],
   "id": "6061e7f961d76e43",
   "outputs": [
    {
     "name": "stdout",
     "output_type": "stream",
     "text": [
      "[[40. 57.  0.]\n",
      " [42. 11. 50.]\n",
      " [68. 10. 45.]]\n"
     ]
    }
   ],
   "execution_count": 49
  },
  {
   "metadata": {
    "ExecuteTime": {
     "end_time": "2024-05-27T08:27:17.257647Z",
     "start_time": "2024-05-27T08:27:17.239809Z"
    }
   },
   "cell_type": "code",
   "source": [
    "# max / min / sum / prod\n",
    "print(a1.max()) # maximum element\n",
    "print(a1.min()) # minimum element\n",
    "print(a1.sum()) # sum of all elements\n",
    "print(a1.prod()) # product of all elements"
   ],
   "id": "c0cb8c4248300816",
   "outputs": [
    {
     "name": "stdout",
     "output_type": "stream",
     "text": [
      "68.0\n",
      "0.0\n",
      "323.0\n",
      "0.0\n"
     ]
    }
   ],
   "execution_count": 50
  },
  {
   "metadata": {
    "ExecuteTime": {
     "end_time": "2024-05-27T08:27:50.594362Z",
     "start_time": "2024-05-27T08:27:50.561716Z"
    }
   },
   "cell_type": "code",
   "source": [
    "# mean / median / std / var\n",
    "print(a1.mean()) # mean\n",
    "print(np.median(a1)) # median\n",
    "print(a1.std()) # standard deviation\n",
    "print(a1.var()) # variance"
   ],
   "id": "3d86bfee4c7a6c4e",
   "outputs": [
    {
     "name": "stdout",
     "output_type": "stream",
     "text": [
      "35.888888888888886\n",
      "42.0\n",
      "22.087927544472716\n",
      "487.8765432098765\n"
     ]
    }
   ],
   "execution_count": 51
  },
  {
   "metadata": {
    "ExecuteTime": {
     "end_time": "2024-05-27T09:43:16.496772Z",
     "start_time": "2024-05-27T09:43:16.485782Z"
    }
   },
   "cell_type": "code",
   "source": [
    "# For each row\n",
    "print(a1.max(axis=1)) # maximum element in each row\n",
    "# 1 -> row"
   ],
   "id": "687cc2eceecb6f26",
   "outputs": [
    {
     "name": "stdout",
     "output_type": "stream",
     "text": [
      "[57. 50. 68.]\n"
     ]
    }
   ],
   "execution_count": 52
  },
  {
   "metadata": {
    "ExecuteTime": {
     "end_time": "2024-05-27T09:43:29.584670Z",
     "start_time": "2024-05-27T09:43:29.575454Z"
    }
   },
   "cell_type": "code",
   "source": [
    "# For each column\n",
    "print(a1.max(axis=0)) # maximum element in each column\n",
    "# 0 -> column"
   ],
   "id": "4628f4bc56145ec4",
   "outputs": [
    {
     "name": "stdout",
     "output_type": "stream",
     "text": [
      "[68. 57. 50.]\n"
     ]
    }
   ],
   "execution_count": 53
  },
  {
   "metadata": {
    "ExecuteTime": {
     "end_time": "2024-05-27T10:11:37.183711Z",
     "start_time": "2024-05-27T10:11:37.177490Z"
    }
   },
   "cell_type": "code",
   "source": [
    "# trigonometric functions\n",
    "print(np.sin(a1))\n",
    "print(np.cos(a1))\n",
    "print(np.tan(a1))\n"
   ],
   "id": "d79acac3ca909b8",
   "outputs": [
    {
     "name": "stdout",
     "output_type": "stream",
     "text": [
      "[[ 0.74511316  0.43616476  0.        ]\n",
      " [-0.91652155 -0.99999021 -0.26237485]\n",
      " [-0.89792768 -0.54402111  0.85090352]]\n",
      "[[-0.66693806  0.89986683  1.        ]\n",
      " [-0.39998531  0.0044257   0.96496603]\n",
      " [ 0.44014302 -0.83907153  0.52532199]]\n",
      "[[  -1.11721493    0.48469923    0.        ]\n",
      " [   2.29138799 -225.95084645   -0.27190061]\n",
      " [  -2.0400816     0.64836083    1.61977519]]\n"
     ]
    }
   ],
   "execution_count": 54
  },
  {
   "metadata": {
    "ExecuteTime": {
     "end_time": "2024-05-27T10:12:11.677694Z",
     "start_time": "2024-05-27T10:12:11.663358Z"
    }
   },
   "cell_type": "code",
   "source": [
    "# exponential functions\n",
    "print(np.exp(a1))\n",
    "print(np.log(a1))\n",
    "print(np.log10(a1)) # log base 10\n"
   ],
   "id": "8da85b776a95827e",
   "outputs": [
    {
     "name": "stdout",
     "output_type": "stream",
     "text": [
      "[[2.35385267e+17 5.68572000e+24 1.00000000e+00]\n",
      " [1.73927494e+18 5.98741417e+04 5.18470553e+21]\n",
      " [3.40427605e+29 2.20264658e+04 3.49342711e+19]]\n",
      "[[3.68887945 4.04305127       -inf]\n",
      " [3.73766962 2.39789527 3.91202301]\n",
      " [4.21950771 2.30258509 3.80666249]]\n",
      "[[1.60205999 1.75587486       -inf]\n",
      " [1.62324929 1.04139269 1.69897   ]\n",
      " [1.83250891 1.         1.65321251]]\n"
     ]
    },
    {
     "name": "stderr",
     "output_type": "stream",
     "text": [
      "C:\\Users\\Administrator\\AppData\\Local\\Temp\\2\\ipykernel_6836\\2372518407.py:3: RuntimeWarning: divide by zero encountered in log\n",
      "  print(np.log(a1))\n",
      "C:\\Users\\Administrator\\AppData\\Local\\Temp\\2\\ipykernel_6836\\2372518407.py:4: RuntimeWarning: divide by zero encountered in log10\n",
      "  print(np.log10(a1))\n"
     ]
    }
   ],
   "execution_count": 55
  },
  {
   "metadata": {
    "ExecuteTime": {
     "end_time": "2024-05-27T10:22:06.697449Z",
     "start_time": "2024-05-27T10:22:06.688895Z"
    }
   },
   "cell_type": "code",
   "source": [
    "# Dot Products\n",
    "a2 = np.arange(12).reshape(3,4)\n",
    "a3 = np.arange(12,24).reshape(3,4)\n",
    "np.dot(a2,a3.T) # dot product of two arrays a2 and a3 \n"
   ],
   "id": "3710080946844b62",
   "outputs": [
    {
     "data": {
      "text/plain": [
       "array([[ 86, 110, 134],\n",
       "       [302, 390, 478],\n",
       "       [518, 670, 822]])"
      ]
     },
     "execution_count": 64,
     "metadata": {},
     "output_type": "execute_result"
    }
   ],
   "execution_count": 64
  },
  {
   "metadata": {
    "ExecuteTime": {
     "end_time": "2024-05-27T10:13:47.866177Z",
     "start_time": "2024-05-27T10:13:47.861057Z"
    }
   },
   "cell_type": "code",
   "source": [
    "# Transpose\n",
    "a1.T\n"
   ],
   "id": "82edefb69bd2329a",
   "outputs": [
    {
     "data": {
      "text/plain": [
       "array([[40., 42., 68.],\n",
       "       [57., 11., 10.],\n",
       "       [ 0., 50., 45.]])"
      ]
     },
     "execution_count": 57,
     "metadata": {},
     "output_type": "execute_result"
    }
   ],
   "execution_count": 57
  },
  {
   "metadata": {
    "ExecuteTime": {
     "end_time": "2024-05-27T10:14:03.466902Z",
     "start_time": "2024-05-27T10:14:03.445322Z"
    }
   },
   "cell_type": "code",
   "source": [
    "# Inverse\n",
    "np.linalg.inv(a1)\n"
   ],
   "id": "543b9927ab877765",
   "outputs": [
    {
     "data": {
      "text/plain": [
       "array([[-5.82275533e-05, -2.98707348e-02,  3.31897054e-02],\n",
       "       [ 1.75847211e-02,  2.09619192e-02, -2.32910213e-02],\n",
       "       [-3.81972750e-03,  4.04797950e-02, -2.27553278e-02]])"
      ]
     },
     "execution_count": 58,
     "metadata": {},
     "output_type": "execute_result"
    }
   ],
   "execution_count": 58
  },
  {
   "metadata": {
    "ExecuteTime": {
     "end_time": "2024-05-27T10:15:25.436839Z",
     "start_time": "2024-05-27T10:15:25.427064Z"
    }
   },
   "cell_type": "code",
   "source": [
    "# round / floor / ceil\n",
    "print(np.round(3.14))\n",
    "print(np.floor(3.14))\n",
    "print(np.ceil(3.14))"
   ],
   "id": "a58c499363acbb4d",
   "outputs": [
    {
     "name": "stdout",
     "output_type": "stream",
     "text": [
      "3.0\n",
      "3.0\n",
      "4.0\n"
     ]
    }
   ],
   "execution_count": 59
  },
  {
   "metadata": {
    "ExecuteTime": {
     "end_time": "2024-05-27T10:15:37.610605Z",
     "start_time": "2024-05-27T10:15:37.604247Z"
    }
   },
   "cell_type": "code",
   "source": [
    "# unique\n",
    "a1 = np.array([1,2,3,4,5,1,2,3,4,5])\n",
    "print(np.unique(a1)) # unique elements in the array\n"
   ],
   "id": "14520231246c2e28",
   "outputs": [
    {
     "name": "stdout",
     "output_type": "stream",
     "text": [
      "[1 2 3 4 5]\n"
     ]
    }
   ],
   "execution_count": 60
  },
  {
   "metadata": {},
   "cell_type": "markdown",
   "source": "# Numpy Indexing and Slicing",
   "id": "504ed6c76483fce6"
  },
  {
   "metadata": {},
   "cell_type": "code",
   "outputs": [],
   "execution_count": null,
   "source": [
    "a1 = np.arange(10)\n",
    "a2 = np.arange(12).reshape(3,4)\n",
    "a3 = np.arange(24).reshape(2,3,4)"
   ],
   "id": "c19abe7635bc720e"
  },
  {
   "metadata": {},
   "cell_type": "markdown",
   "source": "",
   "id": "972e617292ff87ea"
  }
 ],
 "metadata": {
  "kernelspec": {
   "display_name": "Python 3",
   "language": "python",
   "name": "python3"
  },
  "language_info": {
   "codemirror_mode": {
    "name": "ipython",
    "version": 2
   },
   "file_extension": ".py",
   "mimetype": "text/x-python",
   "name": "python",
   "nbconvert_exporter": "python",
   "pygments_lexer": "ipython2",
   "version": "2.7.6"
  }
 },
 "nbformat": 4,
 "nbformat_minor": 5
}
