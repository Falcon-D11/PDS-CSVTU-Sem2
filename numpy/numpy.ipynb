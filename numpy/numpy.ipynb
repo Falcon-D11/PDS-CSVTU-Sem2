{
 "cells": [
  {
   "metadata": {},
   "cell_type": "markdown",
   "source": [
    "# Numpy\n",
    "## Numpy is a library for the Python programming language, adding support for large, ;ulti-dimensional arrays and matrices, along with a large collection of high-level mathematical functions to operate on these arrays.\n",
    "##\n",
    "## Numpy is the core library for scientific computing in Python. It provides a high-performance multidimensional array object, and tools for working with these arrays. If you are already familiar with MATLAB, you might find this tutorial useful to get started with Numpy.\n",
    "##\n",
    "## Numpy is a general-purpose array-processing package. It provides a high-performance multidimensional array object, and tools for working with these arrays. It is the fundamental package for scientific computing with Python.p[=\\p[=\\\n",
    "###  also has functions for working in domain of linear algebra, fourier transform, and matrices. \n",
    "  "
   ],
   "id": "36b008e704dbf7eb"
  },
  {
   "metadata": {
    "ExecuteTime": {
     "end_time": "2024-05-28T08:52:03.040075Z",
     "start_time": "2024-05-28T08:52:03.036014Z"
    }
   },
   "cell_type": "code",
   "source": "import numpy as np",
   "id": "ad251f14638628de",
   "outputs": [],
   "execution_count": 68
  },
  {
   "metadata": {},
   "cell_type": "markdown",
   "source": [
    "## We have imported the numpy library as np. Now we can use the functions in the library by using np.function_name.\n",
    "## Arrays are stored in contiguous memory locations. They are faster than lists.\n",
    "## Arrays are mutable. We can change the values of the array.\n",
    "## Arrays are homogeneous. All the elements of the array should be of the same data type.6]\n",
    "## Arrays are of fixed size. We cannot increase or decrease the size of the array.\n"
   ],
   "id": "5c91126c60ffa846"
  },
  {
   "metadata": {
    "ExecuteTime": {
     "end_time": "2024-05-28T08:52:03.559343Z",
     "start_time": "2024-05-28T08:52:03.554015Z"
    }
   },
   "cell_type": "code",
   "source": [
    "# Creating an array\n",
    "a = np.array([1,2,3,4,5])\n",
    "print(a) \n",
    "print(type(a)) # type of the array\n",
    "print(a.shape) # shape of the array \n",
    "print(a.dtype) # data type of the array\n",
    "print(a.size) # number of elements in the array\n",
    "print(a.ndim) # number of dimensions of the array\n",
    "print(a.itemsize) # size of each element in the array\n"
   ],
   "id": "bbb1675fa6a51052",
   "outputs": [
    {
     "name": "stdout",
     "output_type": "stream",
     "text": [
      "[1 2 3 4 5]\n",
      "<class 'numpy.ndarray'>\n",
      "(5,)\n",
      "int32\n",
      "5\n",
      "1\n",
      "4\n"
     ]
    }
   ],
   "execution_count": 69
  },
  {
   "metadata": {
    "ExecuteTime": {
     "end_time": "2024-05-28T08:52:03.581332Z",
     "start_time": "2024-05-28T08:52:03.569972Z"
    }
   },
   "cell_type": "code",
   "source": [
    "# Addition of arrays\n",
    "a = np.array([1,2,3,4,5])\n",
    "b = np.array([6,7,8,9,10])\n",
    "c = a + b\n",
    "print(c)"
   ],
   "id": "bc7a571526c65c8",
   "outputs": [
    {
     "name": "stdout",
     "output_type": "stream",
     "text": [
      "[ 7  9 11 13 15]\n"
     ]
    }
   ],
   "execution_count": 70
  },
  {
   "metadata": {
    "ExecuteTime": {
     "end_time": "2024-05-28T08:52:03.624131Z",
     "start_time": "2024-05-28T08:52:03.619953Z"
    }
   },
   "cell_type": "code",
   "source": [
    "# Subtraction of arrays\n",
    "a = np.array([1,2,3,4,5])\n",
    "b = np.array([6,7,8,9,10])\n",
    "c = a - b\n",
    "print(c)"
   ],
   "id": "d361ec9ca7450a04",
   "outputs": [
    {
     "name": "stdout",
     "output_type": "stream",
     "text": [
      "[-5 -5 -5 -5 -5]\n"
     ]
    }
   ],
   "execution_count": 71
  },
  {
   "metadata": {
    "ExecuteTime": {
     "end_time": "2024-05-28T08:52:03.678785Z",
     "start_time": "2024-05-28T08:52:03.673667Z"
    }
   },
   "cell_type": "code",
   "source": [
    "# Multiplication of arrays\n",
    "a = np.array([1,2,3,4,5])\n",
    "b = np.array([6,7,8,9,10])\n",
    "c = a * b\n",
    "print(c)"
   ],
   "id": "26d74dce47b598fc",
   "outputs": [
    {
     "name": "stdout",
     "output_type": "stream",
     "text": [
      "[ 6 14 24 36 50]\n"
     ]
    }
   ],
   "execution_count": 72
  },
  {
   "metadata": {
    "ExecuteTime": {
     "end_time": "2024-05-28T08:52:03.719453Z",
     "start_time": "2024-05-28T08:52:03.715237Z"
    }
   },
   "cell_type": "code",
   "source": [
    "# Division of arrays\n",
    "a = np.array([1,2,3,4,5])\n",
    "b = np.array([6,7,8,9,10])\n",
    "c = a / b\n",
    "print(c)"
   ],
   "id": "db4035467cf03053",
   "outputs": [
    {
     "name": "stdout",
     "output_type": "stream",
     "text": [
      "[0.16666667 0.28571429 0.375      0.44444444 0.5       ]\n"
     ]
    }
   ],
   "execution_count": 73
  },
  {
   "metadata": {
    "ExecuteTime": {
     "end_time": "2024-05-28T08:52:03.780625Z",
     "start_time": "2024-05-28T08:52:03.776929Z"
    }
   },
   "cell_type": "code",
   "source": [
    "# Dot product of arrays\n",
    "a = np.array([1,2,3,4,5])\n",
    "b = np.array([6,7,8,9,10])\n",
    "c = np.dot(a,b)\n",
    "print(c)"
   ],
   "id": "f021506251d240d",
   "outputs": [
    {
     "name": "stdout",
     "output_type": "stream",
     "text": [
      "130\n"
     ]
    }
   ],
   "execution_count": 74
  },
  {
   "metadata": {
    "ExecuteTime": {
     "end_time": "2024-05-28T08:52:03.846475Z",
     "start_time": "2024-05-28T08:52:03.842187Z"
    }
   },
   "cell_type": "code",
   "source": [
    "# Creating a 2D array\n",
    "a = np.array([[1,2,3],[4,5,6],[7,8,9]])\n",
    "print(a)\n"
   ],
   "id": "660ca08b9717c2bf",
   "outputs": [
    {
     "name": "stdout",
     "output_type": "stream",
     "text": [
      "[[1 2 3]\n",
      " [4 5 6]\n",
      " [7 8 9]]\n"
     ]
    }
   ],
   "execution_count": 75
  },
  {
   "metadata": {
    "ExecuteTime": {
     "end_time": "2024-05-28T08:52:03.958622Z",
     "start_time": "2024-05-28T08:52:03.954950Z"
    }
   },
   "cell_type": "code",
   "source": [
    "# Accessing elements of a 2D array\n",
    "a = np.array([[1,2,3],[4,5,6],[7,8,9]])\n",
    "print(a[0,0]) # first element\n",
    "print(a[0,1]) # second element\n"
   ],
   "id": "e1cd81e91e876486",
   "outputs": [
    {
     "name": "stdout",
     "output_type": "stream",
     "text": [
      "1\n",
      "2\n"
     ]
    }
   ],
   "execution_count": 76
  },
  {
   "metadata": {
    "ExecuteTime": {
     "end_time": "2024-05-28T08:52:03.996614Z",
     "start_time": "2024-05-28T08:52:03.991908Z"
    }
   },
   "cell_type": "code",
   "source": [
    "# Slicing of a 2D array\n",
    "a = np.array([[1,2,3],[4,5,6],[7,8,9]])\n",
    "print(a[0:2,0:2])  #irst two rows and first two columns"
   ],
   "id": "afd150b06d804d4b",
   "outputs": [
    {
     "name": "stdout",
     "output_type": "stream",
     "text": [
      "[[1 2]\n",
      " [4 5]]\n"
     ]
    }
   ],
   "execution_count": 77
  },
  {
   "metadata": {
    "ExecuteTime": {
     "end_time": "2024-05-28T08:52:04.077410Z",
     "start_time": "2024-05-28T08:52:04.072492Z"
    }
   },
   "cell_type": "code",
   "source": [
    "# Creating a 4 x 2 matrix\n",
    "a = np.array([[1,2],[3,4],[5,6],[7,8]])\n",
    "print(a)"
   ],
   "id": "f509e379e16c222c",
   "outputs": [
    {
     "name": "stdout",
     "output_type": "stream",
     "text": [
      "[[1 2]\n",
      " [3 4]\n",
      " [5 6]\n",
      " [7 8]]\n"
     ]
    }
   ],
   "execution_count": 78
  },
  {
   "metadata": {
    "ExecuteTime": {
     "end_time": "2024-05-28T08:52:04.100456Z",
     "start_time": "2024-05-28T08:52:04.094495Z"
    }
   },
   "cell_type": "code",
   "source": [
    "# 3d Array\n",
    "c = np.array([[[1,2,3],[4,5,6]],[[11,12,13],[14,15,16]]])\n",
    "print(c)"
   ],
   "id": "f61d2959b6fb778f",
   "outputs": [
    {
     "name": "stdout",
     "output_type": "stream",
     "text": [
      "[[[ 1  2  3]\n",
      "  [ 4  5  6]]\n",
      "\n",
      " [[11 12 13]\n",
      "  [14 15 16]]]\n"
     ]
    }
   ],
   "execution_count": 79
  },
  {
   "metadata": {
    "ExecuteTime": {
     "end_time": "2024-05-28T08:52:04.160102Z",
     "start_time": "2024-05-28T08:52:04.153427Z"
    }
   },
   "cell_type": "code",
   "source": [
    "#dtype\n",
    "\n",
    "a = np.array([0,2,3],dtype=bool)\n",
    "print(a)\n",
    "b = np.array([0,2,3],dtype=complex)\n",
    "print(b)"
   ],
   "id": "87acd9ba181eaa43",
   "outputs": [
    {
     "name": "stdout",
     "output_type": "stream",
     "text": [
      "[False  True  True]\n",
      "[0.+0.j 2.+0.j 3.+0.j]\n"
     ]
    }
   ],
   "execution_count": 80
  },
  {
   "metadata": {
    "ExecuteTime": {
     "end_time": "2024-05-28T08:52:04.216486Z",
     "start_time": "2024-05-28T08:52:04.211538Z"
    }
   },
   "cell_type": "code",
   "source": [
    "# np.arange\n",
    "a = np.arange(1,11)\n",
    "print(a)\n",
    "b = np.arange(1,11,2)\n",
    "print(b)"
   ],
   "id": "5d4829575bb5b5aa",
   "outputs": [
    {
     "name": "stdout",
     "output_type": "stream",
     "text": [
      "[ 1  2  3  4  5  6  7  8  9 10]\n",
      "[1 3 5 7 9]\n"
     ]
    }
   ],
   "execution_count": 81
  },
  {
   "metadata": {
    "ExecuteTime": {
     "end_time": "2024-05-28T08:52:04.272997Z",
     "start_time": "2024-05-28T08:52:04.268575Z"
    }
   },
   "cell_type": "code",
   "source": [
    "# with reshape\n",
    "\n",
    "np.arange(1,11).reshape(2,5)\n"
   ],
   "id": "e4d2752902602832",
   "outputs": [
    {
     "data": {
      "text/plain": [
       "array([[ 1,  2,  3,  4,  5],\n",
       "       [ 6,  7,  8,  9, 10]])"
      ]
     },
     "execution_count": 82,
     "metadata": {},
     "output_type": "execute_result"
    }
   ],
   "execution_count": 82
  },
  {
   "metadata": {
    "ExecuteTime": {
     "end_time": "2024-05-28T08:52:04.309947Z",
     "start_time": "2024-05-28T08:52:04.306325Z"
    }
   },
   "cell_type": "code",
   "source": [
    "a =np.arange(1,11).reshape(5,2)\n",
    "print(a)\n"
   ],
   "id": "c49d6f15e1d1e3aa",
   "outputs": [
    {
     "name": "stdout",
     "output_type": "stream",
     "text": [
      "[[ 1  2]\n",
      " [ 3  4]\n",
      " [ 5  6]\n",
      " [ 7  8]\n",
      " [ 9 10]]\n"
     ]
    }
   ],
   "execution_count": 83
  },
  {
   "metadata": {
    "ExecuteTime": {
     "end_time": "2024-05-28T08:52:04.349384Z",
     "start_time": "2024-05-28T08:52:04.346312Z"
    }
   },
   "cell_type": "code",
   "source": [
    "# np.ones and np.zeros\n",
    "a = np.ones((3,3))\n",
    "print(a)"
   ],
   "id": "ad8ad0006bd04e20",
   "outputs": [
    {
     "name": "stdout",
     "output_type": "stream",
     "text": [
      "[[1. 1. 1.]\n",
      " [1. 1. 1.]\n",
      " [1. 1. 1.]]\n"
     ]
    }
   ],
   "execution_count": 84
  },
  {
   "metadata": {
    "ExecuteTime": {
     "end_time": "2024-05-28T08:52:04.430532Z",
     "start_time": "2024-05-28T08:52:04.427226Z"
    }
   },
   "cell_type": "code",
   "source": [
    "b = np.zeros((3,3))\n",
    "print(b)\n"
   ],
   "id": "de8aba0fbc37222d",
   "outputs": [
    {
     "name": "stdout",
     "output_type": "stream",
     "text": [
      "[[0. 0. 0.]\n",
      " [0. 0. 0.]\n",
      " [0. 0. 0.]]\n"
     ]
    }
   ],
   "execution_count": 85
  },
  {
   "metadata": {
    "ExecuteTime": {
     "end_time": "2024-05-28T08:52:04.511259Z",
     "start_time": "2024-05-28T08:52:04.507311Z"
    }
   },
   "cell_type": "code",
   "source": [
    "# np.random\n",
    "a = np.random.random((3,3))"
   ],
   "id": "a46982be62b0d6f9",
   "outputs": [],
   "execution_count": 86
  },
  {
   "metadata": {
    "ExecuteTime": {
     "end_time": "2024-05-28T08:52:04.537073Z",
     "start_time": "2024-05-28T08:52:04.533651Z"
    }
   },
   "cell_type": "code",
   "source": "print(a)",
   "id": "8fcb803c0c6b7b0a",
   "outputs": [
    {
     "name": "stdout",
     "output_type": "stream",
     "text": [
      "[[0.6728589  0.09794667 0.2942666 ]\n",
      " [0.24164844 0.85593302 0.09477387]\n",
      " [0.51547219 0.37220659 0.87810424]]\n"
     ]
    }
   ],
   "execution_count": 87
  },
  {
   "metadata": {
    "ExecuteTime": {
     "end_time": "2024-05-28T08:52:04.576312Z",
     "start_time": "2024-05-28T08:52:04.563173Z"
    }
   },
   "cell_type": "code",
   "source": [
    "# np.linspace\n",
    "a = np.linspace(1,10,5) # 5 numbers between 1 and 10\n",
    "print(a)"
   ],
   "id": "4a2c9eea3359082a",
   "outputs": [
    {
     "name": "stdout",
     "output_type": "stream",
     "text": [
      "[ 1.    3.25  5.5   7.75 10.  ]\n"
     ]
    }
   ],
   "execution_count": 88
  },
  {
   "metadata": {
    "ExecuteTime": {
     "end_time": "2024-05-28T08:52:04.613912Z",
     "start_time": "2024-05-28T08:52:04.610721Z"
    }
   },
   "cell_type": "code",
   "source": [
    "# np.eye\n",
    "a = np.eye(3) # 3 x 3 identity matrix\n",
    "print(a)"
   ],
   "id": "ed89b4894de163d5",
   "outputs": [
    {
     "name": "stdout",
     "output_type": "stream",
     "text": [
      "[[1. 0. 0.]\n",
      " [0. 1. 0.]\n",
      " [0. 0. 1.]]\n"
     ]
    }
   ],
   "execution_count": 89
  },
  {
   "metadata": {
    "ExecuteTime": {
     "end_time": "2024-05-28T08:52:04.659910Z",
     "start_time": "2024-05-28T08:52:04.656458Z"
    }
   },
   "cell_type": "code",
   "source": [
    "# np.full\n",
    "a = np.full((3,3),5) # 3 x 3 matrix with all elements as 5\n",
    "print(a)"
   ],
   "id": "c935d26f21f8075f",
   "outputs": [
    {
     "name": "stdout",
     "output_type": "stream",
     "text": [
      "[[5 5 5]\n",
      " [5 5 5]\n",
      " [5 5 5]]\n"
     ]
    }
   ],
   "execution_count": 90
  },
  {
   "metadata": {
    "ExecuteTime": {
     "end_time": "2024-05-28T08:52:04.705301Z",
     "start_time": "2024-05-28T08:52:04.700504Z"
    }
   },
   "cell_type": "code",
   "source": [
    "# np.empty\n",
    "a = np.empty((3,3)) # 3 x 3 matrix with random values\n",
    "print(a)"
   ],
   "id": "3b6f721e0c3ce53e",
   "outputs": [
    {
     "name": "stdout",
     "output_type": "stream",
     "text": [
      "[[1. 0. 0.]\n",
      " [0. 1. 0.]\n",
      " [0. 0. 1.]]\n"
     ]
    }
   ],
   "execution_count": 91
  },
  {
   "metadata": {},
   "cell_type": "markdown",
   "source": "# Numpy Attributes\n",
   "id": "729feff63e3f3894"
  },
  {
   "metadata": {
    "ExecuteTime": {
     "end_time": "2024-05-28T08:52:04.756267Z",
     "start_time": "2024-05-28T08:52:04.752655Z"
    }
   },
   "cell_type": "code",
   "source": [
    "a1 = np.arange(10) # 1D array\n",
    "print(a1)\n",
    "a2 = np.arange(12).reshape(3,4) # 2D array\n",
    "print(a2)\n",
    "a3 = np.arange(24).reshape(2,3,4) # 3D array\n",
    "print(a3)"
   ],
   "id": "2a25b1c81974fbfc",
   "outputs": [
    {
     "name": "stdout",
     "output_type": "stream",
     "text": [
      "[0 1 2 3 4 5 6 7 8 9]\n",
      "[[ 0  1  2  3]\n",
      " [ 4  5  6  7]\n",
      " [ 8  9 10 11]]\n",
      "[[[ 0  1  2  3]\n",
      "  [ 4  5  6  7]\n",
      "  [ 8  9 10 11]]\n",
      "\n",
      " [[12 13 14 15]\n",
      "  [16 17 18 19]\n",
      "  [20 21 22 23]]]\n"
     ]
    }
   ],
   "execution_count": 92
  },
  {
   "metadata": {
    "ExecuteTime": {
     "end_time": "2024-05-28T08:52:04.788978Z",
     "start_time": "2024-05-28T08:52:04.785345Z"
    }
   },
   "cell_type": "code",
   "source": [
    "# ndim\n",
    "print(a1.ndim) # number of dimensions\n",
    "print(a2.ndim)\n",
    "print(a3.ndim)"
   ],
   "id": "981c4443135d39b8",
   "outputs": [
    {
     "name": "stdout",
     "output_type": "stream",
     "text": [
      "1\n",
      "2\n",
      "3\n"
     ]
    }
   ],
   "execution_count": 93
  },
  {
   "metadata": {
    "ExecuteTime": {
     "end_time": "2024-05-28T08:52:04.865839Z",
     "start_time": "2024-05-28T08:52:04.862544Z"
    }
   },
   "cell_type": "code",
   "source": [
    "# shape\n",
    "print(a1.shape) # number of elements in each dimension\n",
    "print(a2.shape)\n",
    "print(a3.shape)"
   ],
   "id": "61b08403f451ff5b",
   "outputs": [
    {
     "name": "stdout",
     "output_type": "stream",
     "text": [
      "(10,)\n",
      "(3, 4)\n",
      "(2, 3, 4)\n"
     ]
    }
   ],
   "execution_count": 94
  },
  {
   "metadata": {
    "ExecuteTime": {
     "end_time": "2024-05-28T08:52:04.893807Z",
     "start_time": "2024-05-28T08:52:04.884104Z"
    }
   },
   "cell_type": "code",
   "source": [
    "# size\n",
    "print(a1.size) # number of elements in the array\n",
    "print(a2.size)\n",
    "print(a3.size)"
   ],
   "id": "5fab764508b9b168",
   "outputs": [
    {
     "name": "stdout",
     "output_type": "stream",
     "text": [
      "10\n",
      "12\n",
      "24\n"
     ]
    }
   ],
   "execution_count": 95
  },
  {
   "metadata": {
    "ExecuteTime": {
     "end_time": "2024-05-28T08:52:04.960887Z",
     "start_time": "2024-05-28T08:52:04.956726Z"
    }
   },
   "cell_type": "code",
   "source": [
    "# itemsize\n",
    "print(a1.itemsize) # size of each element in the array\n",
    "print(a2.itemsize)\n",
    "print(a3.itemsize)"
   ],
   "id": "e40eb03d90696043",
   "outputs": [
    {
     "name": "stdout",
     "output_type": "stream",
     "text": [
      "4\n",
      "4\n",
      "4\n"
     ]
    }
   ],
   "execution_count": 96
  },
  {
   "metadata": {
    "ExecuteTime": {
     "end_time": "2024-05-28T08:52:05.027806Z",
     "start_time": "2024-05-28T08:52:05.024464Z"
    }
   },
   "cell_type": "code",
   "source": [
    "# dtype\n",
    "print(a1.dtype) # data type of the array\n",
    "print(a2.dtype)\n",
    "print(a3.dtype)"
   ],
   "id": "3b1d5157a8174410",
   "outputs": [
    {
     "name": "stdout",
     "output_type": "stream",
     "text": [
      "int32\n",
      "int32\n",
      "int32\n"
     ]
    }
   ],
   "execution_count": 97
  },
  {
   "metadata": {},
   "cell_type": "markdown",
   "source": "# Changing Datatype of Array",
   "id": "bf807f6e11a2acae"
  },
  {
   "metadata": {
    "ExecuteTime": {
     "end_time": "2024-05-28T08:52:05.083397Z",
     "start_time": "2024-05-28T08:52:05.080331Z"
    }
   },
   "cell_type": "code",
   "source": [
    "# astype\n",
    "a3.dtype"
   ],
   "id": "cbe5df8117678818",
   "outputs": [
    {
     "data": {
      "text/plain": [
       "dtype('int32')"
      ]
     },
     "execution_count": 98,
     "metadata": {},
     "output_type": "execute_result"
    }
   ],
   "execution_count": 98
  },
  {
   "metadata": {
    "ExecuteTime": {
     "end_time": "2024-05-28T08:52:05.124700Z",
     "start_time": "2024-05-28T08:52:05.120739Z"
    }
   },
   "cell_type": "code",
   "source": "a3 = a3.astype(float)",
   "id": "aed19e8306c8b27f",
   "outputs": [],
   "execution_count": 99
  },
  {
   "metadata": {
    "ExecuteTime": {
     "end_time": "2024-05-28T08:52:05.187051Z",
     "start_time": "2024-05-28T08:52:05.183351Z"
    }
   },
   "cell_type": "code",
   "source": "a3.dtype",
   "id": "67ab6f3de84f09b7",
   "outputs": [
    {
     "data": {
      "text/plain": [
       "dtype('float64')"
      ]
     },
     "execution_count": 100,
     "metadata": {},
     "output_type": "execute_result"
    }
   ],
   "execution_count": 100
  },
  {
   "metadata": {},
   "cell_type": "markdown",
   "source": "# Array Operations",
   "id": "af722b622f4eb509"
  },
  {
   "metadata": {
    "ExecuteTime": {
     "end_time": "2024-05-28T08:52:05.215231Z",
     "start_time": "2024-05-28T08:52:05.211381Z"
    }
   },
   "cell_type": "code",
   "source": [
    "a1 = np.arange(12).reshape(3,4)\n",
    "a2 = np.arange(12,24).reshape(3,4)\n",
    "\n",
    "print(a1)\n",
    "print(a2)"
   ],
   "id": "507703f36620d267",
   "outputs": [
    {
     "name": "stdout",
     "output_type": "stream",
     "text": [
      "[[ 0  1  2  3]\n",
      " [ 4  5  6  7]\n",
      " [ 8  9 10 11]]\n",
      "[[12 13 14 15]\n",
      " [16 17 18 19]\n",
      " [20 21 22 23]]\n"
     ]
    }
   ],
   "execution_count": 101
  },
  {
   "metadata": {
    "ExecuteTime": {
     "end_time": "2024-05-28T08:52:05.268157Z",
     "start_time": "2024-05-28T08:52:05.265011Z"
    }
   },
   "cell_type": "code",
   "source": [
    "# Scalar operations\n",
    "\n",
    "# arithmetic operations\n",
    "print(a1 + 2)\n",
    "print(a1 - 2)\n",
    "print(a1 * 2)\n",
    "print(a1 / 2)\n"
   ],
   "id": "f46ba05a28ccccb1",
   "outputs": [
    {
     "name": "stdout",
     "output_type": "stream",
     "text": [
      "[[ 2  3  4  5]\n",
      " [ 6  7  8  9]\n",
      " [10 11 12 13]]\n",
      "[[-2 -1  0  1]\n",
      " [ 2  3  4  5]\n",
      " [ 6  7  8  9]]\n",
      "[[ 0  2  4  6]\n",
      " [ 8 10 12 14]\n",
      " [16 18 20 22]]\n",
      "[[0.  0.5 1.  1.5]\n",
      " [2.  2.5 3.  3.5]\n",
      " [4.  4.5 5.  5.5]]\n"
     ]
    }
   ],
   "execution_count": 102
  },
  {
   "metadata": {
    "ExecuteTime": {
     "end_time": "2024-05-28T08:52:05.294153Z",
     "start_time": "2024-05-28T08:52:05.290501Z"
    }
   },
   "cell_type": "code",
   "source": [
    "# relational operations\n",
    "print(a1 > 5)\n",
    "print(a1 < 5)\n",
    "print(a1 == 5)\n",
    "print(a1 != 5)\n"
   ],
   "id": "cd4b1ad14cbab764",
   "outputs": [
    {
     "name": "stdout",
     "output_type": "stream",
     "text": [
      "[[False False False False]\n",
      " [False False  True  True]\n",
      " [ True  True  True  True]]\n",
      "[[ True  True  True  True]\n",
      " [ True False False False]\n",
      " [False False False False]]\n",
      "[[False False False False]\n",
      " [False  True False False]\n",
      " [False False False False]]\n",
      "[[ True  True  True  True]\n",
      " [ True False  True  True]\n",
      " [ True  True  True  True]]\n"
     ]
    }
   ],
   "execution_count": 103
  },
  {
   "metadata": {
    "ExecuteTime": {
     "end_time": "2024-05-28T08:52:05.339764Z",
     "start_time": "2024-05-28T08:52:05.336594Z"
    }
   },
   "cell_type": "code",
   "source": [
    "# Vector operations\n",
    "\n",
    "# arithmetic operations\n",
    "print(a1 + a2)\n",
    "print(a1 - a2)\n",
    "print(a1 * a2)\n",
    "print(a1 / a2)\n",
    "    "
   ],
   "id": "eb42d59cad53066d",
   "outputs": [
    {
     "name": "stdout",
     "output_type": "stream",
     "text": [
      "[[12 14 16 18]\n",
      " [20 22 24 26]\n",
      " [28 30 32 34]]\n",
      "[[-12 -12 -12 -12]\n",
      " [-12 -12 -12 -12]\n",
      " [-12 -12 -12 -12]]\n",
      "[[  0  13  28  45]\n",
      " [ 64  85 108 133]\n",
      " [160 189 220 253]]\n",
      "[[0.         0.07692308 0.14285714 0.2       ]\n",
      " [0.25       0.29411765 0.33333333 0.36842105]\n",
      " [0.4        0.42857143 0.45454545 0.47826087]]\n"
     ]
    }
   ],
   "execution_count": 104
  },
  {
   "metadata": {},
   "cell_type": "markdown",
   "source": "# Numpy Functions",
   "id": "2417331d42e53ac0"
  },
  {
   "metadata": {
    "ExecuteTime": {
     "end_time": "2024-05-28T08:52:05.388151Z",
     "start_time": "2024-05-28T08:52:05.383537Z"
    }
   },
   "cell_type": "code",
   "source": [
    "a1 = np.random.random((3,3))\n",
    "a1 =np.round(a1*100) # round off the elements of the array \n",
    "print(a1)"
   ],
   "id": "6061e7f961d76e43",
   "outputs": [
    {
     "name": "stdout",
     "output_type": "stream",
     "text": [
      "[[65. 24. 58.]\n",
      " [97. 52.  7.]\n",
      " [44. 15. 15.]]\n"
     ]
    }
   ],
   "execution_count": 105
  },
  {
   "metadata": {
    "ExecuteTime": {
     "end_time": "2024-05-28T08:52:05.459233Z",
     "start_time": "2024-05-28T08:52:05.455817Z"
    }
   },
   "cell_type": "code",
   "source": [
    "# max / min / sum / prod\n",
    "print(a1.max()) # maximum element\n",
    "print(a1.min()) # minimum element\n",
    "print(a1.sum()) # sum of all elements\n",
    "print(a1.prod()) # product of all elements"
   ],
   "id": "c0cb8c4248300816",
   "outputs": [
    {
     "name": "stdout",
     "output_type": "stream",
     "text": [
      "97.0\n",
      "7.0\n",
      "377.0\n",
      "31627211616000.0\n"
     ]
    }
   ],
   "execution_count": 106
  },
  {
   "metadata": {
    "ExecuteTime": {
     "end_time": "2024-05-28T08:52:05.537967Z",
     "start_time": "2024-05-28T08:52:05.534021Z"
    }
   },
   "cell_type": "code",
   "source": [
    "# mean / median / std / var\n",
    "print(a1.mean()) # mean\n",
    "print(np.median(a1)) # median\n",
    "print(a1.std()) # standard deviation\n",
    "print(a1.var()) # variance"
   ],
   "id": "3d86bfee4c7a6c4e",
   "outputs": [
    {
     "name": "stdout",
     "output_type": "stream",
     "text": [
      "41.888888888888886\n",
      "44.0\n",
      "27.730626648544884\n",
      "768.9876543209878\n"
     ]
    }
   ],
   "execution_count": 107
  },
  {
   "metadata": {
    "ExecuteTime": {
     "end_time": "2024-05-28T08:52:05.612525Z",
     "start_time": "2024-05-28T08:52:05.607675Z"
    }
   },
   "cell_type": "code",
   "source": [
    "# For each row\n",
    "print(a1.max(axis=1)) # maximum element in each row\n",
    "# 1 -> row"
   ],
   "id": "687cc2eceecb6f26",
   "outputs": [
    {
     "name": "stdout",
     "output_type": "stream",
     "text": [
      "[65. 97. 44.]\n"
     ]
    }
   ],
   "execution_count": 108
  },
  {
   "metadata": {
    "ExecuteTime": {
     "end_time": "2024-05-28T08:52:05.638531Z",
     "start_time": "2024-05-28T08:52:05.634817Z"
    }
   },
   "cell_type": "code",
   "source": [
    "# For each column\n",
    "print(a1.max(axis=0)) # maximum element in each column\n",
    "# 0 -> column"
   ],
   "id": "4628f4bc56145ec4",
   "outputs": [
    {
     "name": "stdout",
     "output_type": "stream",
     "text": [
      "[97. 52. 58.]\n"
     ]
    }
   ],
   "execution_count": 109
  },
  {
   "metadata": {
    "ExecuteTime": {
     "end_time": "2024-05-28T08:52:05.688431Z",
     "start_time": "2024-05-28T08:52:05.684967Z"
    }
   },
   "cell_type": "code",
   "source": [
    "# trigonometric functions\n",
    "print(np.sin(a1))\n",
    "print(np.cos(a1))\n",
    "print(np.tan(a1))\n"
   ],
   "id": "d79acac3ca909b8",
   "outputs": [
    {
     "name": "stdout",
     "output_type": "stream",
     "text": [
      "[[ 0.82682868 -0.90557836  0.99287265]\n",
      " [ 0.37960774  0.98662759  0.6569866 ]\n",
      " [ 0.01770193  0.65028784  0.65028784]]\n",
      "[[-0.56245385  0.42417901  0.11918014]\n",
      " [-0.92514754 -0.16299078  0.75390225]\n",
      " [ 0.99984331 -0.75968791 -0.75968791]]\n",
      "[[-1.47003826 -2.1348967   8.33085685]\n",
      " [-0.4103213  -6.05327238  0.87144798]\n",
      " [ 0.0177047  -0.8559934  -0.8559934 ]]\n"
     ]
    }
   ],
   "execution_count": 110
  },
  {
   "metadata": {
    "ExecuteTime": {
     "end_time": "2024-05-28T08:52:05.749362Z",
     "start_time": "2024-05-28T08:52:05.746124Z"
    }
   },
   "cell_type": "code",
   "source": [
    "# exponential functions\n",
    "print(np.exp(a1))\n",
    "print(np.log(a1))\n",
    "print(np.log10(a1)) # log base 10\n"
   ],
   "id": "8da85b776a95827e",
   "outputs": [
    {
     "name": "stdout",
     "output_type": "stream",
     "text": [
      "[[1.69488924e+28 2.64891221e+10 1.54553894e+25]\n",
      " [1.33833472e+42 3.83100800e+22 1.09663316e+03]\n",
      " [1.28516001e+19 3.26901737e+06 3.26901737e+06]]\n",
      "[[4.17438727 3.17805383 4.06044301]\n",
      " [4.57471098 3.95124372 1.94591015]\n",
      " [3.78418963 2.7080502  2.7080502 ]]\n",
      "[[1.81291336 1.38021124 1.76342799]\n",
      " [1.98677173 1.71600334 0.84509804]\n",
      " [1.64345268 1.17609126 1.17609126]]\n"
     ]
    }
   ],
   "execution_count": 111
  },
  {
   "metadata": {
    "ExecuteTime": {
     "end_time": "2024-05-28T08:52:05.810072Z",
     "start_time": "2024-05-28T08:52:05.804104Z"
    }
   },
   "cell_type": "code",
   "source": [
    "# Dot Products\n",
    "a2 = np.arange(12).reshape(3,4)\n",
    "a3 = np.arange(12,24).reshape(3,4)\n",
    "np.dot(a2,a3.T) # dot product of two arrays a2 and a3 \n"
   ],
   "id": "3710080946844b62",
   "outputs": [
    {
     "data": {
      "text/plain": [
       "array([[ 86, 110, 134],\n",
       "       [302, 390, 478],\n",
       "       [518, 670, 822]])"
      ]
     },
     "execution_count": 112,
     "metadata": {},
     "output_type": "execute_result"
    }
   ],
   "execution_count": 112
  },
  {
   "metadata": {
    "ExecuteTime": {
     "end_time": "2024-05-28T08:52:05.843040Z",
     "start_time": "2024-05-28T08:52:05.838427Z"
    }
   },
   "cell_type": "code",
   "source": [
    "# Transpose\n",
    "a1.T\n"
   ],
   "id": "82edefb69bd2329a",
   "outputs": [
    {
     "data": {
      "text/plain": [
       "array([[65., 97., 44.],\n",
       "       [24., 52., 15.],\n",
       "       [58.,  7., 15.]])"
      ]
     },
     "execution_count": 113,
     "metadata": {},
     "output_type": "execute_result"
    }
   ],
   "execution_count": 113
  },
  {
   "metadata": {
    "ExecuteTime": {
     "end_time": "2024-05-28T08:52:05.899764Z",
     "start_time": "2024-05-28T08:52:05.891402Z"
    }
   },
   "cell_type": "code",
   "source": [
    "# Inverse\n",
    "np.linalg.inv(a1)\n"
   ],
   "id": "543b9927ab877765",
   "outputs": [
    {
     "data": {
      "text/plain": [
       "array([[-0.02111553, -0.01595395,  0.08909188],\n",
       "       [ 0.03588075,  0.04933212, -0.16176057],\n",
       "       [ 0.02605812, -0.00253386, -0.03290894]])"
      ]
     },
     "execution_count": 114,
     "metadata": {},
     "output_type": "execute_result"
    }
   ],
   "execution_count": 114
  },
  {
   "metadata": {
    "ExecuteTime": {
     "end_time": "2024-05-28T08:52:05.933515Z",
     "start_time": "2024-05-28T08:52:05.930112Z"
    }
   },
   "cell_type": "code",
   "source": [
    "# round / floor / ceil\n",
    "print(np.round(3.14))\n",
    "print(np.floor(3.14))\n",
    "print(np.ceil(3.14))"
   ],
   "id": "a58c499363acbb4d",
   "outputs": [
    {
     "name": "stdout",
     "output_type": "stream",
     "text": [
      "3.0\n",
      "3.0\n",
      "4.0\n"
     ]
    }
   ],
   "execution_count": 115
  },
  {
   "metadata": {
    "ExecuteTime": {
     "end_time": "2024-05-28T08:52:05.981477Z",
     "start_time": "2024-05-28T08:52:05.977799Z"
    }
   },
   "cell_type": "code",
   "source": [
    "# unique\n",
    "a1 = np.array([1,2,3,4,5,1,2,3,4,5])\n",
    "print(np.unique(a1)) # unique elements in the array\n"
   ],
   "id": "14520231246c2e28",
   "outputs": [
    {
     "name": "stdout",
     "output_type": "stream",
     "text": [
      "[1 2 3 4 5]\n"
     ]
    }
   ],
   "execution_count": 116
  },
  {
   "metadata": {},
   "cell_type": "markdown",
   "source": "# Numpy Indexing and Slicing",
   "id": "504ed6c76483fce6"
  },
  {
   "metadata": {
    "ExecuteTime": {
     "end_time": "2024-05-28T08:52:06.037224Z",
     "start_time": "2024-05-28T08:52:06.034157Z"
    }
   },
   "cell_type": "code",
   "source": [
    "a1 = np.arange(10)\n",
    "a2 = np.arange(12).reshape(3,4)\n",
    "a3 = np.arange(24).reshape(2,3,4)"
   ],
   "id": "c19abe7635bc720e",
   "outputs": [],
   "execution_count": 117
  },
  {
   "metadata": {
    "ExecuteTime": {
     "end_time": "2024-05-28T08:52:06.104413Z",
     "start_time": "2024-05-28T08:52:06.100188Z"
    }
   },
   "cell_type": "code",
   "source": [
    "print(a1[0]) # first element\n",
    "print(a1[-1]) # last element"
   ],
   "id": "adf6da4b28dddaa4",
   "outputs": [
    {
     "name": "stdout",
     "output_type": "stream",
     "text": [
      "0\n",
      "9\n"
     ]
    }
   ],
   "execution_count": 118
  },
  {
   "metadata": {
    "ExecuteTime": {
     "end_time": "2024-05-28T08:52:06.135066Z",
     "start_time": "2024-05-28T08:52:06.132112Z"
    }
   },
   "cell_type": "code",
   "source": "print(a3[0,0,0]) # first element",
   "id": "14e7c180ee2ea97f",
   "outputs": [
    {
     "name": "stdout",
     "output_type": "stream",
     "text": [
      "0\n"
     ]
    }
   ],
   "execution_count": 119
  },
  {
   "metadata": {
    "ExecuteTime": {
     "end_time": "2024-05-28T08:52:06.166963Z",
     "start_time": "2024-05-28T08:52:06.163342Z"
    }
   },
   "cell_type": "code",
   "source": [
    "# Slicing \n",
    "print(a1[0:5]) # first five elements\n",
    "print(a1[:5]) # first five elements\n",
    "print(a1[5:]) # elements from index 5\n",
    "print(a1[::2]) # every second element\n"
   ],
   "id": "1b125f9e8c9eef56",
   "outputs": [
    {
     "name": "stdout",
     "output_type": "stream",
     "text": [
      "[0 1 2 3 4]\n",
      "[0 1 2 3 4]\n",
      "[5 6 7 8 9]\n",
      "[0 2 4 6 8]\n"
     ]
    }
   ],
   "execution_count": 120
  },
  {
   "metadata": {
    "ExecuteTime": {
     "end_time": "2024-05-28T08:52:06.191737Z",
     "start_time": "2024-05-28T08:52:06.188407Z"
    }
   },
   "cell_type": "code",
   "source": [
    "# Slicing 2D array\n",
    "print(a2[0,0]) # first element\n",
    "print(a2[0,0:2]) # first row and first two columns\n"
   ],
   "id": "a105cc622aa0d842",
   "outputs": [
    {
     "name": "stdout",
     "output_type": "stream",
     "text": [
      "0\n",
      "[0 1]\n"
     ]
    }
   ],
   "execution_count": 121
  },
  {
   "metadata": {
    "ExecuteTime": {
     "end_time": "2024-05-28T08:52:06.254547Z",
     "start_time": "2024-05-28T08:52:06.250432Z"
    }
   },
   "cell_type": "code",
   "source": [
    "# Slicing 3D array\n",
    "print(a3[0,0,0]) # first element\n",
    "print(a3[0,0,0:2]) # first row and first two columns\n",
    "print(a3[0,0:2,0:2]) # first two rows and first two columns\n"
   ],
   "id": "3a1b0a3747dae5f",
   "outputs": [
    {
     "name": "stdout",
     "output_type": "stream",
     "text": [
      "0\n",
      "[0 1]\n",
      "[[0 1]\n",
      " [4 5]]\n"
     ]
    }
   ],
   "execution_count": 122
  },
  {
   "metadata": {
    "ExecuteTime": {
     "end_time": "2024-05-28T08:52:06.278595Z",
     "start_time": "2024-05-28T08:52:06.273906Z"
    }
   },
   "cell_type": "code",
   "source": [
    "# Printing corner elements of a 2D array\n",
    "print(a2[0:1,0:2]) # first two rows and first two columns\n"
   ],
   "id": "81cb3440af4f3c4",
   "outputs": [
    {
     "name": "stdout",
     "output_type": "stream",
     "text": [
      "[[0 1]]\n"
     ]
    }
   ],
   "execution_count": 123
  },
  {
   "metadata": {},
   "cell_type": "markdown",
   "source": "# Iterating over Arrays",
   "id": "2147b5334d81dc4e"
  },
  {
   "metadata": {
    "ExecuteTime": {
     "end_time": "2024-05-28T08:52:06.332988Z",
     "start_time": "2024-05-28T08:52:06.328386Z"
    }
   },
   "cell_type": "code",
   "source": "a1",
   "id": "4903361d0bf348e0",
   "outputs": [
    {
     "data": {
      "text/plain": [
       "array([0, 1, 2, 3, 4, 5, 6, 7, 8, 9])"
      ]
     },
     "execution_count": 124,
     "metadata": {},
     "output_type": "execute_result"
    }
   ],
   "execution_count": 124
  },
  {
   "metadata": {
    "ExecuteTime": {
     "end_time": "2024-05-28T08:52:06.347223Z",
     "start_time": "2024-05-28T08:52:06.343056Z"
    }
   },
   "cell_type": "code",
   "source": "a2",
   "id": "486da72639ec5ce2",
   "outputs": [
    {
     "data": {
      "text/plain": [
       "array([[ 0,  1,  2,  3],\n",
       "       [ 4,  5,  6,  7],\n",
       "       [ 8,  9, 10, 11]])"
      ]
     },
     "execution_count": 125,
     "metadata": {},
     "output_type": "execute_result"
    }
   ],
   "execution_count": 125
  },
  {
   "metadata": {
    "ExecuteTime": {
     "end_time": "2024-05-28T08:52:06.368082Z",
     "start_time": "2024-05-28T08:52:06.364505Z"
    }
   },
   "cell_type": "code",
   "source": [
    "for i in a1:\n",
    "    print(i)"
   ],
   "id": "2210b6325269578c",
   "outputs": [
    {
     "name": "stdout",
     "output_type": "stream",
     "text": [
      "0\n",
      "1\n",
      "2\n",
      "3\n",
      "4\n",
      "5\n",
      "6\n",
      "7\n",
      "8\n",
      "9\n"
     ]
    }
   ],
   "execution_count": 126
  },
  {
   "metadata": {
    "ExecuteTime": {
     "end_time": "2024-05-28T08:52:06.430399Z",
     "start_time": "2024-05-28T08:52:06.426672Z"
    }
   },
   "cell_type": "code",
   "source": [
    "for i in a2: \n",
    "    print(i) # row by row"
   ],
   "id": "de1ac71ecd381c9e",
   "outputs": [
    {
     "name": "stdout",
     "output_type": "stream",
     "text": [
      "[0 1 2 3]\n",
      "[4 5 6 7]\n",
      "[ 8  9 10 11]\n"
     ]
    }
   ],
   "execution_count": 127
  },
  {
   "metadata": {
    "ExecuteTime": {
     "end_time": "2024-05-28T08:52:06.478605Z",
     "start_time": "2024-05-28T08:52:06.475707Z"
    }
   },
   "cell_type": "code",
   "source": [
    "for i in a2.flat: # flatten the array\n",
    "    print(i)     # element by element"
   ],
   "id": "c60cc9bbec982857",
   "outputs": [
    {
     "name": "stdout",
     "output_type": "stream",
     "text": [
      "0\n",
      "1\n",
      "2\n",
      "3\n",
      "4\n",
      "5\n",
      "6\n",
      "7\n",
      "8\n",
      "9\n",
      "10\n",
      "11\n"
     ]
    }
   ],
   "execution_count": 128
  },
  {
   "metadata": {
    "ExecuteTime": {
     "end_time": "2024-05-28T08:52:06.532035Z",
     "start_time": "2024-05-28T08:52:06.528986Z"
    }
   },
   "cell_type": "code",
   "source": [
    "for i in np.nditer(a2): # default order\n",
    "    print(i)  # element by element"
   ],
   "id": "2ae39765c4b62f5",
   "outputs": [
    {
     "name": "stdout",
     "output_type": "stream",
     "text": [
      "0\n",
      "1\n",
      "2\n",
      "3\n",
      "4\n",
      "5\n",
      "6\n",
      "7\n",
      "8\n",
      "9\n",
      "10\n",
      "11\n"
     ]
    }
   ],
   "execution_count": 129
  },
  {
   "metadata": {
    "ExecuteTime": {
     "end_time": "2024-05-28T08:52:06.608156Z",
     "start_time": "2024-05-28T08:52:06.602602Z"
    }
   },
   "cell_type": "code",
   "source": [
    "for i in np.nditer(a2,order='F'): # Fortran order\n",
    "    print(i) #  column by column"
   ],
   "id": "bbf3f403fa9e6bc1",
   "outputs": [
    {
     "name": "stdout",
     "output_type": "stream",
     "text": [
      "0\n",
      "4\n",
      "8\n",
      "1\n",
      "5\n",
      "9\n",
      "2\n",
      "6\n",
      "10\n",
      "3\n",
      "7\n",
      "11\n"
     ]
    }
   ],
   "execution_count": 130
  },
  {
   "metadata": {
    "ExecuteTime": {
     "end_time": "2024-05-28T08:52:06.636870Z",
     "start_time": "2024-05-28T08:52:06.633460Z"
    }
   },
   "cell_type": "code",
   "source": [
    "for i in np.nditer(a2,order='C'): # C order\n",
    "    print(i) # row by row"
   ],
   "id": "134d68b3d05f38a8",
   "outputs": [
    {
     "name": "stdout",
     "output_type": "stream",
     "text": [
      "0\n",
      "1\n",
      "2\n",
      "3\n",
      "4\n",
      "5\n",
      "6\n",
      "7\n",
      "8\n",
      "9\n",
      "10\n",
      "11\n"
     ]
    }
   ],
   "execution_count": 131
  },
  {
   "metadata": {
    "ExecuteTime": {
     "end_time": "2024-05-28T08:52:06.676830Z",
     "start_time": "2024-05-28T08:52:06.673421Z"
    }
   },
   "cell_type": "code",
   "source": [
    "for i in np.nditer(a2,flags=['external_loop']): # external loop \n",
    "     print(i) # row by row"
   ],
   "id": "34cf95d6fe093239",
   "outputs": [
    {
     "name": "stdout",
     "output_type": "stream",
     "text": [
      "[ 0  1  2  3  4  5  6  7  8  9 10 11]\n"
     ]
    }
   ],
   "execution_count": 132
  },
  {
   "metadata": {},
   "cell_type": "markdown",
   "source": "# Reshaping Arrays\n",
   "id": "ab83d4ecf4450da3"
  },
  {
   "metadata": {
    "ExecuteTime": {
     "end_time": "2024-05-28T08:52:06.719016Z",
     "start_time": "2024-05-28T08:52:06.705158Z"
    }
   },
   "cell_type": "code",
   "source": "a3",
   "id": "891dec7624718f2e",
   "outputs": [
    {
     "data": {
      "text/plain": [
       "array([[[ 0,  1,  2,  3],\n",
       "        [ 4,  5,  6,  7],\n",
       "        [ 8,  9, 10, 11]],\n",
       "\n",
       "       [[12, 13, 14, 15],\n",
       "        [16, 17, 18, 19],\n",
       "        [20, 21, 22, 23]]])"
      ]
     },
     "execution_count": 133,
     "metadata": {},
     "output_type": "execute_result"
    }
   ],
   "execution_count": 133
  },
  {
   "metadata": {
    "ExecuteTime": {
     "end_time": "2024-05-28T08:52:33.412972Z",
     "start_time": "2024-05-28T08:52:33.396557Z"
    }
   },
   "cell_type": "code",
   "source": "a2.T # transpose the array ",
   "id": "a34d975eb754114a",
   "outputs": [
    {
     "data": {
      "text/plain": [
       "array([[ 0,  4,  8],\n",
       "       [ 1,  5,  9],\n",
       "       [ 2,  6, 10],\n",
       "       [ 3,  7, 11]])"
      ]
     },
     "execution_count": 135,
     "metadata": {},
     "output_type": "execute_result"
    }
   ],
   "execution_count": 135
  },
  {
   "metadata": {
    "ExecuteTime": {
     "end_time": "2024-05-28T08:52:40.838345Z",
     "start_time": "2024-05-28T08:52:40.831508Z"
    }
   },
   "cell_type": "code",
   "source": "a2.reshape(4,3) # reshape the array to 4 x 3",
   "id": "b148895e084780bf",
   "outputs": [
    {
     "data": {
      "text/plain": [
       "array([[ 0,  1,  2],\n",
       "       [ 3,  4,  5],\n",
       "       [ 6,  7,  8],\n",
       "       [ 9, 10, 11]])"
      ]
     },
     "execution_count": 136,
     "metadata": {},
     "output_type": "execute_result"
    }
   ],
   "execution_count": 136
  },
  {
   "metadata": {
    "ExecuteTime": {
     "end_time": "2024-05-28T08:53:51.286478Z",
     "start_time": "2024-05-28T08:53:51.273205Z"
    }
   },
   "cell_type": "code",
   "source": [
    "# ravel\n",
    "\n",
    "a2.ravel() # flatten the array"
   ],
   "id": "811501fc05227300",
   "outputs": [
    {
     "data": {
      "text/plain": [
       "array([ 0,  1,  2,  3,  4,  5,  6,  7,  8,  9, 10, 11])"
      ]
     },
     "execution_count": 137,
     "metadata": {},
     "output_type": "execute_result"
    }
   ],
   "execution_count": 137
  },
  {
   "metadata": {},
   "cell_type": "markdown",
   "source": "# Stack Arrays",
   "id": "4fb2cc73573a4b05"
  },
  {
   "metadata": {
    "ExecuteTime": {
     "end_time": "2024-05-28T08:55:38.974024Z",
     "start_time": "2024-05-28T08:55:38.961254Z"
    }
   },
   "cell_type": "code",
   "source": [
    "# Horizontal Stack\n",
    "a1 = np.array([1,2,3])\n",
    "a2 = np.array([4,5,6])\n",
    "np.hstack((a1,a2))\n"
   ],
   "id": "dfce2a360d233602",
   "outputs": [
    {
     "data": {
      "text/plain": [
       "array([1, 2, 3, 4, 5, 6])"
      ]
     },
     "execution_count": 138,
     "metadata": {},
     "output_type": "execute_result"
    }
   ],
   "execution_count": 138
  },
  {
   "metadata": {
    "ExecuteTime": {
     "end_time": "2024-05-28T08:56:01.025860Z",
     "start_time": "2024-05-28T08:56:01.021379Z"
    }
   },
   "cell_type": "code",
   "source": [
    "# Vertical Stack\n",
    "a1 = np.array([1,2,3])\n",
    "a2 = np.array([4,5,6])\n",
    "np.vstack((a1,a2))\n"
   ],
   "id": "c7a3691076753534",
   "outputs": [
    {
     "data": {
      "text/plain": [
       "array([[1, 2, 3],\n",
       "       [4, 5, 6]])"
      ]
     },
     "execution_count": 139,
     "metadata": {},
     "output_type": "execute_result"
    }
   ],
   "execution_count": 139
  },
  {
   "metadata": {},
   "cell_type": "markdown",
   "source": "# Splitting Arrays",
   "id": "a641d52bfb1189e6"
  },
  {
   "metadata": {
    "ExecuteTime": {
     "end_time": "2024-05-28T08:59:07.640736Z",
     "start_time": "2024-05-28T08:59:07.632969Z"
    }
   },
   "cell_type": "code",
   "source": [
    "a1 = np.arange(10)\n",
    "np.split(a1,2) # split the array into two equal parts\n"
   ],
   "id": "eba0225f774cf7af",
   "outputs": [
    {
     "data": {
      "text/plain": [
       "[array([0, 1, 2, 3, 4]), array([5, 6, 7, 8, 9])]"
      ]
     },
     "execution_count": 140,
     "metadata": {},
     "output_type": "execute_result"
    }
   ],
   "execution_count": 140
  },
  {
   "metadata": {
    "ExecuteTime": {
     "end_time": "2024-05-28T08:59:54.846217Z",
     "start_time": "2024-05-28T08:59:54.841988Z"
    }
   },
   "cell_type": "code",
   "source": [
    "a2 = np.arange(12).reshape(3,4)\n",
    "np.vsplit(a2,3) # split the array into three equal parts"
   ],
   "id": "7ecd99457691ab5f",
   "outputs": [
    {
     "data": {
      "text/plain": [
       "[array([[0, 1, 2, 3]]), array([[4, 5, 6, 7]]), array([[ 8,  9, 10, 11]])]"
      ]
     },
     "execution_count": 141,
     "metadata": {},
     "output_type": "execute_result"
    }
   ],
   "execution_count": 141
  },
  {
   "metadata": {
    "ExecuteTime": {
     "end_time": "2024-05-28T09:00:12.325792Z",
     "start_time": "2024-05-28T09:00:12.322507Z"
    }
   },
   "cell_type": "code",
   "source": "np.hsplit(a2,2) # split the array into two equal parts",
   "id": "3666172d4df067ea",
   "outputs": [
    {
     "data": {
      "text/plain": [
       "[array([[0, 1],\n",
       "        [4, 5],\n",
       "        [8, 9]]),\n",
       " array([[ 2,  3],\n",
       "        [ 6,  7],\n",
       "        [10, 11]])]"
      ]
     },
     "execution_count": 142,
     "metadata": {},
     "output_type": "execute_result"
    }
   ],
   "execution_count": 142
  },
  {
   "metadata": {},
   "cell_type": "code",
   "outputs": [],
   "execution_count": null,
   "source": "",
   "id": "5f017aa20c3b2877"
  }
 ],
 "metadata": {
  "kernelspec": {
   "display_name": "Python 3",
   "language": "python",
   "name": "python3"
  },
  "language_info": {
   "codemirror_mode": {
    "name": "ipython",
    "version": 2
   },
   "file_extension": ".py",
   "mimetype": "text/x-python",
   "name": "python",
   "nbconvert_exporter": "python",
   "pygments_lexer": "ipython2",
   "version": "2.7.6"
  }
 },
 "nbformat": 4,
 "nbformat_minor": 5
}
