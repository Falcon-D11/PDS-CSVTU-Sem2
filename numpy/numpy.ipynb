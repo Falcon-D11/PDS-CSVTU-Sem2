{
 "cells": [
  {
   "metadata": {},
   "cell_type": "markdown",
   "source": [
    "# Numpy\n",
    "## Numpy is a library for the Python programming language, adding support for large, ;ulti-dimensional arrays and matrices, along with a large collection of high-level mathematical functions to operate on these arrays.\n",
    "##\n",
    "## Numpy is the core library for scientific computing in Python. It provides a high-performance multidimensional array object, and tools for working with these arrays. If you are already familiar with MATLAB, you might find this tutorial useful to get started with Numpy.\n",
    "##\n",
    "## Numpy is a general-purpose array-processing package. It provides a high-performance multidimensional array object, and tools for working with these arrays. It is the fundamental package for scientific computing with Python.p[=\\p[=\\\n",
    "###  also has functions for working in domain of linear algebra, fourier transform, and matrices. \n",
    "  "
   ],
   "id": "36b008e704dbf7eb"
  },
  {
   "metadata": {
    "ExecuteTime": {
     "end_time": "2024-05-27T16:31:57.888036Z",
     "start_time": "2024-05-27T16:31:57.281087Z"
    }
   },
   "cell_type": "code",
   "source": "import numpy as np",
   "id": "ad251f14638628de",
   "outputs": [],
   "execution_count": 2
  },
  {
   "metadata": {},
   "cell_type": "markdown",
   "source": [
    "## We have imported the numpy library as np. Now we can use the functions in the library by using np.function_name.\n",
    "## Arrays are stored in contiguous memory locations. They are faster than lists.\n",
    "## Arrays are mutable. We can change the values of the array.\n",
    "## Arrays are homogeneous. All the elements of the array should be of the same data type.6]\n",
    "## Arrays are of fixed size. We cannot increase or decrease the size of the array.\n"
   ],
   "id": "5c91126c60ffa846"
  },
  {
   "metadata": {
    "ExecuteTime": {
     "end_time": "2024-05-27T16:31:57.895337Z",
     "start_time": "2024-05-27T16:31:57.891122Z"
    }
   },
   "cell_type": "code",
   "source": [
    "# Creating an array\n",
    "a = np.array([1,2,3,4,5])\n",
    "print(a) \n",
    "print(type(a)) # type of the array\n",
    "print(a.shape) # shape of the array \n",
    "print(a.dtype) # data type of the array\n",
    "print(a.size) # number of elements in the array\n",
    "print(a.ndim) # number of dimensions of the array\n",
    "print(a.itemsize) # size of each element in the array\n"
   ],
   "id": "bbb1675fa6a51052",
   "outputs": [
    {
     "name": "stdout",
     "output_type": "stream",
     "text": [
      "[1 2 3 4 5]\n",
      "<class 'numpy.ndarray'>\n",
      "(5,)\n",
      "int32\n",
      "5\n",
      "1\n",
      "4\n"
     ]
    }
   ],
   "execution_count": 3
  },
  {
   "metadata": {
    "ExecuteTime": {
     "end_time": "2024-05-27T16:31:57.899689Z",
     "start_time": "2024-05-27T16:31:57.896421Z"
    }
   },
   "cell_type": "code",
   "source": [
    "# Addition of arrays\n",
    "a = np.array([1,2,3,4,5])\n",
    "b = np.array([6,7,8,9,10])\n",
    "c = a + b\n",
    "print(c)"
   ],
   "id": "bc7a571526c65c8",
   "outputs": [
    {
     "name": "stdout",
     "output_type": "stream",
     "text": [
      "[ 7  9 11 13 15]\n"
     ]
    }
   ],
   "execution_count": 4
  },
  {
   "metadata": {
    "ExecuteTime": {
     "end_time": "2024-05-27T16:31:57.905714Z",
     "start_time": "2024-05-27T16:31:57.900756Z"
    }
   },
   "cell_type": "code",
   "source": [
    "# Subtraction of arrays\n",
    "a = np.array([1,2,3,4,5])\n",
    "b = np.array([6,7,8,9,10])\n",
    "c = a - b\n",
    "print(c)"
   ],
   "id": "d361ec9ca7450a04",
   "outputs": [
    {
     "name": "stdout",
     "output_type": "stream",
     "text": [
      "[-5 -5 -5 -5 -5]\n"
     ]
    }
   ],
   "execution_count": 5
  },
  {
   "metadata": {
    "ExecuteTime": {
     "end_time": "2024-05-27T16:31:57.931933Z",
     "start_time": "2024-05-27T16:31:57.927787Z"
    }
   },
   "cell_type": "code",
   "source": [
    "# Multiplication of arrays\n",
    "a = np.array([1,2,3,4,5])\n",
    "b = np.array([6,7,8,9,10])\n",
    "c = a * b\n",
    "print(c)"
   ],
   "id": "26d74dce47b598fc",
   "outputs": [
    {
     "name": "stdout",
     "output_type": "stream",
     "text": [
      "[ 6 14 24 36 50]\n"
     ]
    }
   ],
   "execution_count": 6
  },
  {
   "metadata": {
    "ExecuteTime": {
     "end_time": "2024-05-27T16:31:58.043878Z",
     "start_time": "2024-05-27T16:31:58.036018Z"
    }
   },
   "cell_type": "code",
   "source": [
    "# Division of arrays\n",
    "a = np.array([1,2,3,4,5])\n",
    "b = np.array([6,7,8,9,10])\n",
    "c = a / b\n",
    "print(c)"
   ],
   "id": "db4035467cf03053",
   "outputs": [
    {
     "name": "stdout",
     "output_type": "stream",
     "text": [
      "[0.16666667 0.28571429 0.375      0.44444444 0.5       ]\n"
     ]
    }
   ],
   "execution_count": 7
  },
  {
   "metadata": {
    "ExecuteTime": {
     "end_time": "2024-05-27T16:31:58.139530Z",
     "start_time": "2024-05-27T16:31:58.133990Z"
    }
   },
   "cell_type": "code",
   "source": [
    "# Dot product of arrays\n",
    "a = np.array([1,2,3,4,5])\n",
    "b = np.array([6,7,8,9,10])\n",
    "c = np.dot(a,b)\n",
    "print(c)"
   ],
   "id": "f021506251d240d",
   "outputs": [
    {
     "name": "stdout",
     "output_type": "stream",
     "text": [
      "130\n"
     ]
    }
   ],
   "execution_count": 8
  },
  {
   "metadata": {
    "ExecuteTime": {
     "end_time": "2024-05-27T16:31:58.232240Z",
     "start_time": "2024-05-27T16:31:58.227625Z"
    }
   },
   "cell_type": "code",
   "source": [
    "# Creating a 2D array\n",
    "a = np.array([[1,2,3],[4,5,6],[7,8,9]])\n",
    "print(a)\n"
   ],
   "id": "660ca08b9717c2bf",
   "outputs": [
    {
     "name": "stdout",
     "output_type": "stream",
     "text": [
      "[[1 2 3]\n",
      " [4 5 6]\n",
      " [7 8 9]]\n"
     ]
    }
   ],
   "execution_count": 9
  },
  {
   "metadata": {
    "ExecuteTime": {
     "end_time": "2024-05-27T16:31:58.266624Z",
     "start_time": "2024-05-27T16:31:58.262352Z"
    }
   },
   "cell_type": "code",
   "source": [
    "# Accessing elements of a 2D array\n",
    "a = np.array([[1,2,3],[4,5,6],[7,8,9]])\n",
    "print(a[0,0]) # first element\n",
    "print(a[0,1]) # second element\n"
   ],
   "id": "e1cd81e91e876486",
   "outputs": [
    {
     "name": "stdout",
     "output_type": "stream",
     "text": [
      "1\n",
      "2\n"
     ]
    }
   ],
   "execution_count": 10
  },
  {
   "metadata": {
    "ExecuteTime": {
     "end_time": "2024-05-27T16:31:58.411724Z",
     "start_time": "2024-05-27T16:31:58.405707Z"
    }
   },
   "cell_type": "code",
   "source": [
    "# Slicing of a 2D array\n",
    "a = np.array([[1,2,3],[4,5,6],[7,8,9]])\n",
    "print(a[0:2,0:2])  #irst two rows and first two columns"
   ],
   "id": "afd150b06d804d4b",
   "outputs": [
    {
     "name": "stdout",
     "output_type": "stream",
     "text": [
      "[[1 2]\n",
      " [4 5]]\n"
     ]
    }
   ],
   "execution_count": 11
  },
  {
   "metadata": {
    "ExecuteTime": {
     "end_time": "2024-05-27T16:31:58.465426Z",
     "start_time": "2024-05-27T16:31:58.460688Z"
    }
   },
   "cell_type": "code",
   "source": [
    "# Creating a 4 x 2 matrix\n",
    "a = np.array([[1,2],[3,4],[5,6],[7,8]])\n",
    "print(a)"
   ],
   "id": "f509e379e16c222c",
   "outputs": [
    {
     "name": "stdout",
     "output_type": "stream",
     "text": [
      "[[1 2]\n",
      " [3 4]\n",
      " [5 6]\n",
      " [7 8]]\n"
     ]
    }
   ],
   "execution_count": 12
  },
  {
   "metadata": {
    "ExecuteTime": {
     "end_time": "2024-05-27T16:31:58.547720Z",
     "start_time": "2024-05-27T16:31:58.542526Z"
    }
   },
   "cell_type": "code",
   "source": [
    "# 3d Array\n",
    "c = np.array([[[1,2,3],[4,5,6]],[[11,12,13],[14,15,16]]])\n",
    "print(c)"
   ],
   "id": "f61d2959b6fb778f",
   "outputs": [
    {
     "name": "stdout",
     "output_type": "stream",
     "text": [
      "[[[ 1  2  3]\n",
      "  [ 4  5  6]]\n",
      "\n",
      " [[11 12 13]\n",
      "  [14 15 16]]]\n"
     ]
    }
   ],
   "execution_count": 13
  },
  {
   "metadata": {
    "ExecuteTime": {
     "end_time": "2024-05-27T16:31:58.600037Z",
     "start_time": "2024-05-27T16:31:58.594829Z"
    }
   },
   "cell_type": "code",
   "source": [
    "#dtype\n",
    "\n",
    "a = np.array([0,2,3],dtype=bool)\n",
    "print(a)\n",
    "b = np.array([0,2,3],dtype=complex)\n",
    "print(b)"
   ],
   "id": "87acd9ba181eaa43",
   "outputs": [
    {
     "name": "stdout",
     "output_type": "stream",
     "text": [
      "[False  True  True]\n",
      "[0.+0.j 2.+0.j 3.+0.j]\n"
     ]
    }
   ],
   "execution_count": 14
  },
  {
   "metadata": {
    "ExecuteTime": {
     "end_time": "2024-05-27T16:31:58.647953Z",
     "start_time": "2024-05-27T16:31:58.642146Z"
    }
   },
   "cell_type": "code",
   "source": [
    "# np.arange\n",
    "a = np.arange(1,11)\n",
    "print(a)\n",
    "b = np.arange(1,11,2)\n",
    "print(b)"
   ],
   "id": "5d4829575bb5b5aa",
   "outputs": [
    {
     "name": "stdout",
     "output_type": "stream",
     "text": [
      "[ 1  2  3  4  5  6  7  8  9 10]\n",
      "[1 3 5 7 9]\n"
     ]
    }
   ],
   "execution_count": 15
  },
  {
   "metadata": {
    "ExecuteTime": {
     "end_time": "2024-05-27T16:31:58.720755Z",
     "start_time": "2024-05-27T16:31:58.711058Z"
    }
   },
   "cell_type": "code",
   "source": [
    "# with reshape\n",
    "\n",
    "np.arange(1,11).reshape(2,5)\n"
   ],
   "id": "e4d2752902602832",
   "outputs": [
    {
     "data": {
      "text/plain": [
       "array([[ 1,  2,  3,  4,  5],\n",
       "       [ 6,  7,  8,  9, 10]])"
      ]
     },
     "execution_count": 16,
     "metadata": {},
     "output_type": "execute_result"
    }
   ],
   "execution_count": 16
  },
  {
   "metadata": {
    "ExecuteTime": {
     "end_time": "2024-05-27T16:31:58.795188Z",
     "start_time": "2024-05-27T16:31:58.790834Z"
    }
   },
   "cell_type": "code",
   "source": [
    "a =np.arange(1,11).reshape(5,2)\n",
    "print(a)\n"
   ],
   "id": "c49d6f15e1d1e3aa",
   "outputs": [
    {
     "name": "stdout",
     "output_type": "stream",
     "text": [
      "[[ 1  2]\n",
      " [ 3  4]\n",
      " [ 5  6]\n",
      " [ 7  8]\n",
      " [ 9 10]]\n"
     ]
    }
   ],
   "execution_count": 17
  },
  {
   "metadata": {
    "ExecuteTime": {
     "end_time": "2024-05-27T16:31:58.833498Z",
     "start_time": "2024-05-27T16:31:58.829264Z"
    }
   },
   "cell_type": "code",
   "source": [
    "# np.ones and np.zeros\n",
    "a = np.ones((3,3))\n",
    "print(a)"
   ],
   "id": "ad8ad0006bd04e20",
   "outputs": [
    {
     "name": "stdout",
     "output_type": "stream",
     "text": [
      "[[1. 1. 1.]\n",
      " [1. 1. 1.]\n",
      " [1. 1. 1.]]\n"
     ]
    }
   ],
   "execution_count": 18
  },
  {
   "metadata": {
    "ExecuteTime": {
     "end_time": "2024-05-27T16:31:59.002843Z",
     "start_time": "2024-05-27T16:31:58.997579Z"
    }
   },
   "cell_type": "code",
   "source": [
    "b = np.zeros((3,3))\n",
    "print(b)\n"
   ],
   "id": "de8aba0fbc37222d",
   "outputs": [
    {
     "name": "stdout",
     "output_type": "stream",
     "text": [
      "[[0. 0. 0.]\n",
      " [0. 0. 0.]\n",
      " [0. 0. 0.]]\n"
     ]
    }
   ],
   "execution_count": 19
  },
  {
   "metadata": {
    "ExecuteTime": {
     "end_time": "2024-05-27T16:31:59.058212Z",
     "start_time": "2024-05-27T16:31:59.053800Z"
    }
   },
   "cell_type": "code",
   "source": [
    "# np.random\n",
    "a = np.random.random((3,3))"
   ],
   "id": "a46982be62b0d6f9",
   "outputs": [],
   "execution_count": 20
  },
  {
   "metadata": {
    "ExecuteTime": {
     "end_time": "2024-05-27T16:31:59.202867Z",
     "start_time": "2024-05-27T16:31:59.198303Z"
    }
   },
   "cell_type": "code",
   "source": "print(a)",
   "id": "8fcb803c0c6b7b0a",
   "outputs": [
    {
     "name": "stdout",
     "output_type": "stream",
     "text": [
      "[[0.87720509 0.54440494 0.76605566]\n",
      " [0.12763732 0.92024257 0.55456342]\n",
      " [0.02074897 0.85302765 0.29772343]]\n"
     ]
    }
   ],
   "execution_count": 21
  },
  {
   "metadata": {
    "ExecuteTime": {
     "end_time": "2024-05-27T16:31:59.260231Z",
     "start_time": "2024-05-27T16:31:59.254958Z"
    }
   },
   "cell_type": "code",
   "source": [
    "# np.linspace\n",
    "a = np.linspace(1,10,5) # 5 numbers between 1 and 10\n",
    "print(a)"
   ],
   "id": "4a2c9eea3359082a",
   "outputs": [
    {
     "name": "stdout",
     "output_type": "stream",
     "text": [
      "[ 1.    3.25  5.5   7.75 10.  ]\n"
     ]
    }
   ],
   "execution_count": 22
  },
  {
   "metadata": {
    "ExecuteTime": {
     "end_time": "2024-05-27T16:31:59.297615Z",
     "start_time": "2024-05-27T16:31:59.294338Z"
    }
   },
   "cell_type": "code",
   "source": [
    "# np.eye\n",
    "a = np.eye(3) # 3 x 3 identity matrix\n",
    "print(a)"
   ],
   "id": "ed89b4894de163d5",
   "outputs": [
    {
     "name": "stdout",
     "output_type": "stream",
     "text": [
      "[[1. 0. 0.]\n",
      " [0. 1. 0.]\n",
      " [0. 0. 1.]]\n"
     ]
    }
   ],
   "execution_count": 23
  },
  {
   "metadata": {
    "ExecuteTime": {
     "end_time": "2024-05-27T16:31:59.340664Z",
     "start_time": "2024-05-27T16:31:59.336722Z"
    }
   },
   "cell_type": "code",
   "source": [
    "# np.full\n",
    "a = np.full((3,3),5) # 3 x 3 matrix with all elements as 5\n",
    "print(a)"
   ],
   "id": "c935d26f21f8075f",
   "outputs": [
    {
     "name": "stdout",
     "output_type": "stream",
     "text": [
      "[[5 5 5]\n",
      " [5 5 5]\n",
      " [5 5 5]]\n"
     ]
    }
   ],
   "execution_count": 24
  },
  {
   "metadata": {
    "ExecuteTime": {
     "end_time": "2024-05-27T16:31:59.377862Z",
     "start_time": "2024-05-27T16:31:59.373749Z"
    }
   },
   "cell_type": "code",
   "source": [
    "# np.empty\n",
    "a = np.empty((3,3)) # 3 x 3 matrix with random values\n",
    "print(a)"
   ],
   "id": "3b6f721e0c3ce53e",
   "outputs": [
    {
     "name": "stdout",
     "output_type": "stream",
     "text": [
      "[[1. 0. 0.]\n",
      " [0. 1. 0.]\n",
      " [0. 0. 1.]]\n"
     ]
    }
   ],
   "execution_count": 25
  },
  {
   "metadata": {},
   "cell_type": "markdown",
   "source": "# Numpy Attributes\n",
   "id": "729feff63e3f3894"
  },
  {
   "metadata": {
    "ExecuteTime": {
     "end_time": "2024-05-27T16:31:59.435235Z",
     "start_time": "2024-05-27T16:31:59.429958Z"
    }
   },
   "cell_type": "code",
   "source": [
    "a1 = np.arange(10) # 1D array\n",
    "print(a1)\n",
    "a2 = np.arange(12).reshape(3,4) # 2D array\n",
    "print(a2)\n",
    "a3 = np.arange(24).reshape(2,3,4) # 3D array\n",
    "print(a3)"
   ],
   "id": "2a25b1c81974fbfc",
   "outputs": [
    {
     "name": "stdout",
     "output_type": "stream",
     "text": [
      "[0 1 2 3 4 5 6 7 8 9]\n",
      "[[ 0  1  2  3]\n",
      " [ 4  5  6  7]\n",
      " [ 8  9 10 11]]\n",
      "[[[ 0  1  2  3]\n",
      "  [ 4  5  6  7]\n",
      "  [ 8  9 10 11]]\n",
      "\n",
      " [[12 13 14 15]\n",
      "  [16 17 18 19]\n",
      "  [20 21 22 23]]]\n"
     ]
    }
   ],
   "execution_count": 26
  },
  {
   "metadata": {
    "ExecuteTime": {
     "end_time": "2024-05-27T16:31:59.482653Z",
     "start_time": "2024-05-27T16:31:59.475313Z"
    }
   },
   "cell_type": "code",
   "source": [
    "# ndim\n",
    "print(a1.ndim) # number of dimensions\n",
    "print(a2.ndim)\n",
    "print(a3.ndim)"
   ],
   "id": "981c4443135d39b8",
   "outputs": [
    {
     "name": "stdout",
     "output_type": "stream",
     "text": [
      "1\n",
      "2\n",
      "3\n"
     ]
    }
   ],
   "execution_count": 27
  },
  {
   "metadata": {
    "ExecuteTime": {
     "end_time": "2024-05-27T16:31:59.556220Z",
     "start_time": "2024-05-27T16:31:59.551785Z"
    }
   },
   "cell_type": "code",
   "source": [
    "# shape\n",
    "print(a1.shape) # number of elements in each dimension\n",
    "print(a2.shape)\n",
    "print(a3.shape)"
   ],
   "id": "61b08403f451ff5b",
   "outputs": [
    {
     "name": "stdout",
     "output_type": "stream",
     "text": [
      "(10,)\n",
      "(3, 4)\n",
      "(2, 3, 4)\n"
     ]
    }
   ],
   "execution_count": 28
  },
  {
   "metadata": {
    "ExecuteTime": {
     "end_time": "2024-05-27T16:31:59.616202Z",
     "start_time": "2024-05-27T16:31:59.612016Z"
    }
   },
   "cell_type": "code",
   "source": [
    "# size\n",
    "print(a1.size) # number of elements in the array\n",
    "print(a2.size)\n",
    "print(a3.size)"
   ],
   "id": "5fab764508b9b168",
   "outputs": [
    {
     "name": "stdout",
     "output_type": "stream",
     "text": [
      "10\n",
      "12\n",
      "24\n"
     ]
    }
   ],
   "execution_count": 29
  },
  {
   "metadata": {
    "ExecuteTime": {
     "end_time": "2024-05-27T16:31:59.687685Z",
     "start_time": "2024-05-27T16:31:59.679293Z"
    }
   },
   "cell_type": "code",
   "source": [
    "# itemsize\n",
    "print(a1.itemsize) # size of each element in the array\n",
    "print(a2.itemsize)\n",
    "print(a3.itemsize)"
   ],
   "id": "e40eb03d90696043",
   "outputs": [
    {
     "name": "stdout",
     "output_type": "stream",
     "text": [
      "4\n",
      "4\n",
      "4\n"
     ]
    }
   ],
   "execution_count": 30
  },
  {
   "metadata": {
    "ExecuteTime": {
     "end_time": "2024-05-27T16:31:59.720118Z",
     "start_time": "2024-05-27T16:31:59.716677Z"
    }
   },
   "cell_type": "code",
   "source": [
    "# dtype\n",
    "print(a1.dtype) # data type of the array\n",
    "print(a2.dtype)\n",
    "print(a3.dtype)"
   ],
   "id": "3b1d5157a8174410",
   "outputs": [
    {
     "name": "stdout",
     "output_type": "stream",
     "text": [
      "int32\n",
      "int32\n",
      "int32\n"
     ]
    }
   ],
   "execution_count": 31
  },
  {
   "metadata": {},
   "cell_type": "markdown",
   "source": "# Changing Datatype of Array",
   "id": "bf807f6e11a2acae"
  },
  {
   "metadata": {
    "ExecuteTime": {
     "end_time": "2024-05-27T16:31:59.788Z",
     "start_time": "2024-05-27T16:31:59.783198Z"
    }
   },
   "cell_type": "code",
   "source": [
    "# astype\n",
    "a3.dtype"
   ],
   "id": "cbe5df8117678818",
   "outputs": [
    {
     "data": {
      "text/plain": [
       "dtype('int32')"
      ]
     },
     "execution_count": 32,
     "metadata": {},
     "output_type": "execute_result"
    }
   ],
   "execution_count": 32
  },
  {
   "metadata": {
    "ExecuteTime": {
     "end_time": "2024-05-27T16:31:59.827092Z",
     "start_time": "2024-05-27T16:31:59.824098Z"
    }
   },
   "cell_type": "code",
   "source": "a3 = a3.astype(float)",
   "id": "aed19e8306c8b27f",
   "outputs": [],
   "execution_count": 33
  },
  {
   "metadata": {
    "ExecuteTime": {
     "end_time": "2024-05-27T16:31:59.877541Z",
     "start_time": "2024-05-27T16:31:59.873175Z"
    }
   },
   "cell_type": "code",
   "source": "a3.dtype",
   "id": "67ab6f3de84f09b7",
   "outputs": [
    {
     "data": {
      "text/plain": [
       "dtype('float64')"
      ]
     },
     "execution_count": 34,
     "metadata": {},
     "output_type": "execute_result"
    }
   ],
   "execution_count": 34
  },
  {
   "metadata": {},
   "cell_type": "markdown",
   "source": "# Array Operations",
   "id": "af722b622f4eb509"
  },
  {
   "metadata": {
    "ExecuteTime": {
     "end_time": "2024-05-27T16:31:59.917740Z",
     "start_time": "2024-05-27T16:31:59.913652Z"
    }
   },
   "cell_type": "code",
   "source": [
    "a1 = np.arange(12).reshape(3,4)\n",
    "a2 = np.arange(12,24).reshape(3,4)\n",
    "\n",
    "print(a1)\n",
    "print(a2)"
   ],
   "id": "507703f36620d267",
   "outputs": [
    {
     "name": "stdout",
     "output_type": "stream",
     "text": [
      "[[ 0  1  2  3]\n",
      " [ 4  5  6  7]\n",
      " [ 8  9 10 11]]\n",
      "[[12 13 14 15]\n",
      " [16 17 18 19]\n",
      " [20 21 22 23]]\n"
     ]
    }
   ],
   "execution_count": 35
  },
  {
   "metadata": {
    "ExecuteTime": {
     "end_time": "2024-05-27T16:31:59.992201Z",
     "start_time": "2024-05-27T16:31:59.987809Z"
    }
   },
   "cell_type": "code",
   "source": [
    "# Scalar operations\n",
    "\n",
    "# arithmetic operations\n",
    "print(a1 + 2)\n",
    "print(a1 - 2)\n",
    "print(a1 * 2)\n",
    "print(a1 / 2)\n"
   ],
   "id": "f46ba05a28ccccb1",
   "outputs": [
    {
     "name": "stdout",
     "output_type": "stream",
     "text": [
      "[[ 2  3  4  5]\n",
      " [ 6  7  8  9]\n",
      " [10 11 12 13]]\n",
      "[[-2 -1  0  1]\n",
      " [ 2  3  4  5]\n",
      " [ 6  7  8  9]]\n",
      "[[ 0  2  4  6]\n",
      " [ 8 10 12 14]\n",
      " [16 18 20 22]]\n",
      "[[0.  0.5 1.  1.5]\n",
      " [2.  2.5 3.  3.5]\n",
      " [4.  4.5 5.  5.5]]\n"
     ]
    }
   ],
   "execution_count": 36
  },
  {
   "metadata": {
    "ExecuteTime": {
     "end_time": "2024-05-27T16:32:00.012592Z",
     "start_time": "2024-05-27T16:32:00.008270Z"
    }
   },
   "cell_type": "code",
   "source": [
    "# relational operations\n",
    "print(a1 > 5)\n",
    "print(a1 < 5)\n",
    "print(a1 == 5)\n",
    "print(a1 != 5)\n"
   ],
   "id": "cd4b1ad14cbab764",
   "outputs": [
    {
     "name": "stdout",
     "output_type": "stream",
     "text": [
      "[[False False False False]\n",
      " [False False  True  True]\n",
      " [ True  True  True  True]]\n",
      "[[ True  True  True  True]\n",
      " [ True False False False]\n",
      " [False False False False]]\n",
      "[[False False False False]\n",
      " [False  True False False]\n",
      " [False False False False]]\n",
      "[[ True  True  True  True]\n",
      " [ True False  True  True]\n",
      " [ True  True  True  True]]\n"
     ]
    }
   ],
   "execution_count": 37
  },
  {
   "metadata": {
    "ExecuteTime": {
     "end_time": "2024-05-27T16:32:00.094757Z",
     "start_time": "2024-05-27T16:32:00.090667Z"
    }
   },
   "cell_type": "code",
   "source": [
    "# Vector operations\n",
    "\n",
    "# arithmetic operations\n",
    "print(a1 + a2)\n",
    "print(a1 - a2)\n",
    "print(a1 * a2)\n",
    "print(a1 / a2)\n",
    "    "
   ],
   "id": "eb42d59cad53066d",
   "outputs": [
    {
     "name": "stdout",
     "output_type": "stream",
     "text": [
      "[[12 14 16 18]\n",
      " [20 22 24 26]\n",
      " [28 30 32 34]]\n",
      "[[-12 -12 -12 -12]\n",
      " [-12 -12 -12 -12]\n",
      " [-12 -12 -12 -12]]\n",
      "[[  0  13  28  45]\n",
      " [ 64  85 108 133]\n",
      " [160 189 220 253]]\n",
      "[[0.         0.07692308 0.14285714 0.2       ]\n",
      " [0.25       0.29411765 0.33333333 0.36842105]\n",
      " [0.4        0.42857143 0.45454545 0.47826087]]\n"
     ]
    }
   ],
   "execution_count": 38
  },
  {
   "metadata": {},
   "cell_type": "markdown",
   "source": "# Numpy Functions",
   "id": "2417331d42e53ac0"
  },
  {
   "metadata": {
    "ExecuteTime": {
     "end_time": "2024-05-27T16:32:00.146926Z",
     "start_time": "2024-05-27T16:32:00.141840Z"
    }
   },
   "cell_type": "code",
   "source": [
    "a1 = np.random.random((3,3))\n",
    "a1 =np.round(a1*100) # round off the elements of the array \n",
    "print(a1)"
   ],
   "id": "6061e7f961d76e43",
   "outputs": [
    {
     "name": "stdout",
     "output_type": "stream",
     "text": [
      "[[69. 97. 39.]\n",
      " [48. 66. 60.]\n",
      " [ 8. 26. 35.]]\n"
     ]
    }
   ],
   "execution_count": 39
  },
  {
   "metadata": {
    "ExecuteTime": {
     "end_time": "2024-05-27T16:32:00.226265Z",
     "start_time": "2024-05-27T16:32:00.217013Z"
    }
   },
   "cell_type": "code",
   "source": [
    "# max / min / sum / prod\n",
    "print(a1.max()) # maximum element\n",
    "print(a1.min()) # minimum element\n",
    "print(a1.sum()) # sum of all elements\n",
    "print(a1.prod()) # product of all elements"
   ],
   "id": "c0cb8c4248300816",
   "outputs": [
    {
     "name": "stdout",
     "output_type": "stream",
     "text": [
      "97.0\n",
      "8.0\n",
      "448.0\n",
      "361204568524800.0\n"
     ]
    }
   ],
   "execution_count": 40
  },
  {
   "metadata": {
    "ExecuteTime": {
     "end_time": "2024-05-27T16:32:00.255305Z",
     "start_time": "2024-05-27T16:32:00.241361Z"
    }
   },
   "cell_type": "code",
   "source": [
    "# mean / median / std / var\n",
    "print(a1.mean()) # mean\n",
    "print(np.median(a1)) # median\n",
    "print(a1.std()) # standard deviation\n",
    "print(a1.var()) # variance"
   ],
   "id": "3d86bfee4c7a6c4e",
   "outputs": [
    {
     "name": "stdout",
     "output_type": "stream",
     "text": [
      "49.77777777777778\n",
      "48.0\n",
      "24.979003528642824\n",
      "623.9506172839506\n"
     ]
    }
   ],
   "execution_count": 41
  },
  {
   "metadata": {
    "ExecuteTime": {
     "end_time": "2024-05-27T16:32:00.310181Z",
     "start_time": "2024-05-27T16:32:00.305396Z"
    }
   },
   "cell_type": "code",
   "source": [
    "# For each row\n",
    "print(a1.max(axis=1)) # maximum element in each row\n",
    "# 1 -> row"
   ],
   "id": "687cc2eceecb6f26",
   "outputs": [
    {
     "name": "stdout",
     "output_type": "stream",
     "text": [
      "[97. 66. 35.]\n"
     ]
    }
   ],
   "execution_count": 42
  },
  {
   "metadata": {
    "ExecuteTime": {
     "end_time": "2024-05-27T16:32:00.376338Z",
     "start_time": "2024-05-27T16:32:00.371285Z"
    }
   },
   "cell_type": "code",
   "source": [
    "# For each column\n",
    "print(a1.max(axis=0)) # maximum element in each column\n",
    "# 0 -> column"
   ],
   "id": "4628f4bc56145ec4",
   "outputs": [
    {
     "name": "stdout",
     "output_type": "stream",
     "text": [
      "[69. 97. 60.]\n"
     ]
    }
   ],
   "execution_count": 43
  },
  {
   "metadata": {
    "ExecuteTime": {
     "end_time": "2024-05-27T16:32:00.425123Z",
     "start_time": "2024-05-27T16:32:00.419423Z"
    }
   },
   "cell_type": "code",
   "source": [
    "# trigonometric functions\n",
    "print(np.sin(a1))\n",
    "print(np.cos(a1))\n",
    "print(np.tan(a1))\n"
   ],
   "id": "d79acac3ca909b8",
   "outputs": [
    {
     "name": "stdout",
     "output_type": "stream",
     "text": [
      "[[-0.11478481  0.37960774  0.96379539]\n",
      " [-0.76825466 -0.02655115 -0.30481062]\n",
      " [ 0.98935825  0.76255845 -0.42818267]]\n",
      "[[ 0.99339038 -0.92514754  0.26664293]\n",
      " [-0.64014434 -0.99964746 -0.95241298]\n",
      " [-0.14550003  0.64691932 -0.90369221]]\n",
      "[[-0.11554855 -0.4103213   3.61455441]\n",
      " [ 1.20012724  0.02656052  0.32004039]\n",
      " [-6.79971146  1.17875355  0.47381472]]\n"
     ]
    }
   ],
   "execution_count": 44
  },
  {
   "metadata": {
    "ExecuteTime": {
     "end_time": "2024-05-27T16:32:00.458011Z",
     "start_time": "2024-05-27T16:32:00.453225Z"
    }
   },
   "cell_type": "code",
   "source": [
    "# exponential functions\n",
    "print(np.exp(a1))\n",
    "print(np.log(a1))\n",
    "print(np.log10(a1)) # log base 10\n"
   ],
   "id": "8da85b776a95827e",
   "outputs": [
    {
     "name": "stdout",
     "output_type": "stream",
     "text": [
      "[[9.25378173e+29 1.33833472e+42 8.65934004e+16]\n",
      " [7.01673591e+20 4.60718663e+28 1.14200739e+26]\n",
      " [2.98095799e+03 1.95729609e+11 1.58601345e+15]]\n",
      "[[4.2341065  4.57471098 3.66356165]\n",
      " [3.87120101 4.18965474 4.09434456]\n",
      " [2.07944154 3.25809654 3.55534806]]\n",
      "[[1.83884909 1.98677173 1.59106461]\n",
      " [1.68124124 1.81954394 1.77815125]\n",
      " [0.90308999 1.41497335 1.54406804]]\n"
     ]
    }
   ],
   "execution_count": 45
  },
  {
   "metadata": {
    "ExecuteTime": {
     "end_time": "2024-05-27T16:32:00.528021Z",
     "start_time": "2024-05-27T16:32:00.521088Z"
    }
   },
   "cell_type": "code",
   "source": [
    "# Dot Products\n",
    "a2 = np.arange(12).reshape(3,4)\n",
    "a3 = np.arange(12,24).reshape(3,4)\n",
    "np.dot(a2,a3.T) # dot product of two arrays a2 and a3 \n"
   ],
   "id": "3710080946844b62",
   "outputs": [
    {
     "data": {
      "text/plain": [
       "array([[ 86, 110, 134],\n",
       "       [302, 390, 478],\n",
       "       [518, 670, 822]])"
      ]
     },
     "execution_count": 46,
     "metadata": {},
     "output_type": "execute_result"
    }
   ],
   "execution_count": 46
  },
  {
   "metadata": {
    "ExecuteTime": {
     "end_time": "2024-05-27T16:32:00.553968Z",
     "start_time": "2024-05-27T16:32:00.548544Z"
    }
   },
   "cell_type": "code",
   "source": [
    "# Transpose\n",
    "a1.T\n"
   ],
   "id": "82edefb69bd2329a",
   "outputs": [
    {
     "data": {
      "text/plain": [
       "array([[69., 48.,  8.],\n",
       "       [97., 66., 26.],\n",
       "       [39., 60., 35.]])"
      ]
     },
     "execution_count": 47,
     "metadata": {},
     "output_type": "execute_result"
    }
   ],
   "execution_count": 47
  },
  {
   "metadata": {
    "ExecuteTime": {
     "end_time": "2024-05-27T16:32:00.623801Z",
     "start_time": "2024-05-27T16:32:00.612068Z"
    }
   },
   "cell_type": "code",
   "source": [
    "# Inverse\n",
    "np.linalg.inv(a1)\n"
   ],
   "id": "543b9927ab877765",
   "outputs": [
    {
     "data": {
      "text/plain": [
       "array([[-0.02050861,  0.06510801, -0.08876128],\n",
       "       [ 0.03281378, -0.05750615,  0.06201805],\n",
       "       [-0.01968827,  0.02783702,  0.00278917]])"
      ]
     },
     "execution_count": 48,
     "metadata": {},
     "output_type": "execute_result"
    }
   ],
   "execution_count": 48
  },
  {
   "metadata": {
    "ExecuteTime": {
     "end_time": "2024-05-27T16:32:00.662488Z",
     "start_time": "2024-05-27T16:32:00.656885Z"
    }
   },
   "cell_type": "code",
   "source": [
    "# round / floor / ceil\n",
    "print(np.round(3.14))\n",
    "print(np.floor(3.14))\n",
    "print(np.ceil(3.14))"
   ],
   "id": "a58c499363acbb4d",
   "outputs": [
    {
     "name": "stdout",
     "output_type": "stream",
     "text": [
      "3.0\n",
      "3.0\n",
      "4.0\n"
     ]
    }
   ],
   "execution_count": 49
  },
  {
   "metadata": {
    "ExecuteTime": {
     "end_time": "2024-05-27T16:32:00.742451Z",
     "start_time": "2024-05-27T16:32:00.735632Z"
    }
   },
   "cell_type": "code",
   "source": [
    "# unique\n",
    "a1 = np.array([1,2,3,4,5,1,2,3,4,5])\n",
    "print(np.unique(a1)) # unique elements in the array\n"
   ],
   "id": "14520231246c2e28",
   "outputs": [
    {
     "name": "stdout",
     "output_type": "stream",
     "text": [
      "[1 2 3 4 5]\n"
     ]
    }
   ],
   "execution_count": 50
  },
  {
   "metadata": {},
   "cell_type": "markdown",
   "source": "# Numpy Indexing and Slicing",
   "id": "504ed6c76483fce6"
  },
  {
   "metadata": {
    "ExecuteTime": {
     "end_time": "2024-05-27T16:32:00.781150Z",
     "start_time": "2024-05-27T16:32:00.777537Z"
    }
   },
   "cell_type": "code",
   "source": [
    "a1 = np.arange(10)\n",
    "a2 = np.arange(12).reshape(3,4)\n",
    "a3 = np.arange(24).reshape(2,3,4)"
   ],
   "id": "c19abe7635bc720e",
   "outputs": [],
   "execution_count": 51
  },
  {
   "metadata": {
    "ExecuteTime": {
     "end_time": "2024-05-27T16:33:24.036515Z",
     "start_time": "2024-05-27T16:33:24.021783Z"
    }
   },
   "cell_type": "code",
   "source": [
    "print(a1[0]) # first element\n",
    "print(a1[-1]) # last element"
   ],
   "id": "adf6da4b28dddaa4",
   "outputs": [
    {
     "name": "stdout",
     "output_type": "stream",
     "text": [
      "0\n",
      "9\n"
     ]
    }
   ],
   "execution_count": 53
  },
  {
   "metadata": {
    "ExecuteTime": {
     "end_time": "2024-05-27T16:36:41.744076Z",
     "start_time": "2024-05-27T16:36:41.735566Z"
    }
   },
   "cell_type": "code",
   "source": "print(a3[0,0,0]) # first element",
   "id": "14e7c180ee2ea97f",
   "outputs": [
    {
     "name": "stdout",
     "output_type": "stream",
     "text": [
      "0\n"
     ]
    }
   ],
   "execution_count": 55
  },
  {
   "metadata": {
    "ExecuteTime": {
     "end_time": "2024-05-27T16:38:10.810545Z",
     "start_time": "2024-05-27T16:38:10.804807Z"
    }
   },
   "cell_type": "code",
   "source": [
    "# Slicing \n",
    "print(a1[0:5]) # first five elements\n",
    "print(a1[:5]) # first five elements\n",
    "print(a1[5:]) # elements from index 5\n",
    "print(a1[::2]) # every second element\n"
   ],
   "id": "1b125f9e8c9eef56",
   "outputs": [
    {
     "name": "stdout",
     "output_type": "stream",
     "text": [
      "[0 1 2 3 4]\n",
      "[0 1 2 3 4]\n",
      "[5 6 7 8 9]\n",
      "[0 2 4 6 8]\n"
     ]
    }
   ],
   "execution_count": 56
  },
  {
   "metadata": {
    "ExecuteTime": {
     "end_time": "2024-05-27T16:38:35.775600Z",
     "start_time": "2024-05-27T16:38:35.769302Z"
    }
   },
   "cell_type": "code",
   "source": [
    "# Slicing 2D array\n",
    "print(a2[0,0]) # first element\n",
    "print(a2[0,0:2]) # first row and first two columns\n"
   ],
   "id": "a105cc622aa0d842",
   "outputs": [
    {
     "name": "stdout",
     "output_type": "stream",
     "text": [
      "0\n",
      "[0 1]\n"
     ]
    }
   ],
   "execution_count": 57
  },
  {
   "metadata": {
    "ExecuteTime": {
     "end_time": "2024-05-27T16:39:05.202402Z",
     "start_time": "2024-05-27T16:39:05.197045Z"
    }
   },
   "cell_type": "code",
   "source": [
    "# Slicing 3D array\n",
    "print(a3[0,0,0]) # first element\n",
    "print(a3[0,0,0:2]) # first row and first two columns\n",
    "print(a3[0,0:2,0:2]) # first two rows and first two columns\n"
   ],
   "id": "3a1b0a3747dae5f",
   "outputs": [
    {
     "name": "stdout",
     "output_type": "stream",
     "text": [
      "0\n",
      "[0 1]\n",
      "[[0 1]\n",
      " [4 5]]\n"
     ]
    }
   ],
   "execution_count": 58
  },
  {
   "metadata": {
    "ExecuteTime": {
     "end_time": "2024-05-27T16:49:26.221327Z",
     "start_time": "2024-05-27T16:49:26.216524Z"
    }
   },
   "cell_type": "code",
   "source": [
    "# Printing corner elements of a 2D array\n",
    "print(a2[0:1,0:2]) # first two rows and first two columns\n"
   ],
   "id": "81cb3440af4f3c4",
   "outputs": [
    {
     "name": "stdout",
     "output_type": "stream",
     "text": [
      "[[0 1]]\n"
     ]
    }
   ],
   "execution_count": 60
  },
  {
   "metadata": {},
   "cell_type": "code",
   "outputs": [],
   "execution_count": null,
   "source": "",
   "id": "9ea062447dc40ee7"
  }
 ],
 "metadata": {
  "kernelspec": {
   "display_name": "Python 3",
   "language": "python",
   "name": "python3"
  },
  "language_info": {
   "codemirror_mode": {
    "name": "ipython",
    "version": 2
   },
   "file_extension": ".py",
   "mimetype": "text/x-python",
   "name": "python",
   "nbconvert_exporter": "python",
   "pygments_lexer": "ipython2",
   "version": "2.7.6"
  }
 },
 "nbformat": 4,
 "nbformat_minor": 5
}
