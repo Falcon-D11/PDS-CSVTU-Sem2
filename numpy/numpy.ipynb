{
 "cells": [
  {
   "metadata": {},
   "cell_type": "markdown",
   "source": [
    "# Numpy\n",
    "## Numpy is a library for the Python programming language, adding support for large, ;ulti-dimensional arrays and matrices, along with a large collection of high-level mathematical functions to operate on these arrays.\n",
    "##\n",
    "## Numpy is the core library for scientific computing in Python. It provides a high-performance multidimensional array object, and tools for working with these arrays. If you are already familiar with MATLAB, you might find this tutorial useful to get started with Numpy.\n",
    "##\n",
    "## Numpy is a general-purpose array-processing package. It provides a high-performance multidimensional array object, and tools for working with these arrays. It is the fundamental package for scientific computing with Python.p[=\\p[=\\\n",
    "###  also has functions for working in domain of linear algebra, fourier transform, and matrices. \n",
    "  "
   ],
   "id": "36b008e704dbf7eb"
  },
  {
   "metadata": {
    "ExecuteTime": {
     "end_time": "2024-05-28T06:59:20.420479Z",
     "start_time": "2024-05-28T06:59:19.834161Z"
    }
   },
   "cell_type": "code",
   "source": "import numpy as np",
   "id": "ad251f14638628de",
   "outputs": [],
   "execution_count": 1
  },
  {
   "metadata": {},
   "cell_type": "markdown",
   "source": [
    "## We have imported the numpy library as np. Now we can use the functions in the library by using np.function_name.\n",
    "## Arrays are stored in contiguous memory locations. They are faster than lists.\n",
    "## Arrays are mutable. We can change the values of the array.\n",
    "## Arrays are homogeneous. All the elements of the array should be of the same data type.6]\n",
    "## Arrays are of fixed size. We cannot increase or decrease the size of the array.\n"
   ],
   "id": "5c91126c60ffa846"
  },
  {
   "metadata": {
    "ExecuteTime": {
     "end_time": "2024-05-28T06:59:20.431463Z",
     "start_time": "2024-05-28T06:59:20.422471Z"
    }
   },
   "cell_type": "code",
   "source": [
    "# Creating an array\n",
    "a = np.array([1,2,3,4,5])\n",
    "print(a) \n",
    "print(type(a)) # type of the array\n",
    "print(a.shape) # shape of the array \n",
    "print(a.dtype) # data type of the array\n",
    "print(a.size) # number of elements in the array\n",
    "print(a.ndim) # number of dimensions of the array\n",
    "print(a.itemsize) # size of each element in the array\n"
   ],
   "id": "bbb1675fa6a51052",
   "outputs": [
    {
     "name": "stdout",
     "output_type": "stream",
     "text": [
      "[1 2 3 4 5]\n",
      "<class 'numpy.ndarray'>\n",
      "(5,)\n",
      "int32\n",
      "5\n",
      "1\n",
      "4\n"
     ]
    }
   ],
   "execution_count": 2
  },
  {
   "metadata": {
    "ExecuteTime": {
     "end_time": "2024-05-28T06:59:20.436981Z",
     "start_time": "2024-05-28T06:59:20.432420Z"
    }
   },
   "cell_type": "code",
   "source": [
    "# Addition of arrays\n",
    "a = np.array([1,2,3,4,5])\n",
    "b = np.array([6,7,8,9,10])\n",
    "c = a + b\n",
    "print(c)"
   ],
   "id": "bc7a571526c65c8",
   "outputs": [
    {
     "name": "stdout",
     "output_type": "stream",
     "text": [
      "[ 7  9 11 13 15]\n"
     ]
    }
   ],
   "execution_count": 3
  },
  {
   "metadata": {
    "ExecuteTime": {
     "end_time": "2024-05-28T06:59:20.442113Z",
     "start_time": "2024-05-28T06:59:20.438079Z"
    }
   },
   "cell_type": "code",
   "source": [
    "# Subtraction of arrays\n",
    "a = np.array([1,2,3,4,5])\n",
    "b = np.array([6,7,8,9,10])\n",
    "c = a - b\n",
    "print(c)"
   ],
   "id": "d361ec9ca7450a04",
   "outputs": [
    {
     "name": "stdout",
     "output_type": "stream",
     "text": [
      "[-5 -5 -5 -5 -5]\n"
     ]
    }
   ],
   "execution_count": 4
  },
  {
   "metadata": {
    "ExecuteTime": {
     "end_time": "2024-05-28T06:59:20.447638Z",
     "start_time": "2024-05-28T06:59:20.444206Z"
    }
   },
   "cell_type": "code",
   "source": [
    "# Multiplication of arrays\n",
    "a = np.array([1,2,3,4,5])\n",
    "b = np.array([6,7,8,9,10])\n",
    "c = a * b\n",
    "print(c)"
   ],
   "id": "26d74dce47b598fc",
   "outputs": [
    {
     "name": "stdout",
     "output_type": "stream",
     "text": [
      "[ 6 14 24 36 50]\n"
     ]
    }
   ],
   "execution_count": 5
  },
  {
   "metadata": {
    "ExecuteTime": {
     "end_time": "2024-05-28T06:59:20.453121Z",
     "start_time": "2024-05-28T06:59:20.448737Z"
    }
   },
   "cell_type": "code",
   "source": [
    "# Division of arrays\n",
    "a = np.array([1,2,3,4,5])\n",
    "b = np.array([6,7,8,9,10])\n",
    "c = a / b\n",
    "print(c)"
   ],
   "id": "db4035467cf03053",
   "outputs": [
    {
     "name": "stdout",
     "output_type": "stream",
     "text": [
      "[0.16666667 0.28571429 0.375      0.44444444 0.5       ]\n"
     ]
    }
   ],
   "execution_count": 6
  },
  {
   "metadata": {
    "ExecuteTime": {
     "end_time": "2024-05-28T06:59:20.457673Z",
     "start_time": "2024-05-28T06:59:20.454219Z"
    }
   },
   "cell_type": "code",
   "source": [
    "# Dot product of arrays\n",
    "a = np.array([1,2,3,4,5])\n",
    "b = np.array([6,7,8,9,10])\n",
    "c = np.dot(a,b)\n",
    "print(c)"
   ],
   "id": "f021506251d240d",
   "outputs": [
    {
     "name": "stdout",
     "output_type": "stream",
     "text": [
      "130\n"
     ]
    }
   ],
   "execution_count": 7
  },
  {
   "metadata": {
    "ExecuteTime": {
     "end_time": "2024-05-28T06:59:20.462792Z",
     "start_time": "2024-05-28T06:59:20.458764Z"
    }
   },
   "cell_type": "code",
   "source": [
    "# Creating a 2D array\n",
    "a = np.array([[1,2,3],[4,5,6],[7,8,9]])\n",
    "print(a)\n"
   ],
   "id": "660ca08b9717c2bf",
   "outputs": [
    {
     "name": "stdout",
     "output_type": "stream",
     "text": [
      "[[1 2 3]\n",
      " [4 5 6]\n",
      " [7 8 9]]\n"
     ]
    }
   ],
   "execution_count": 8
  },
  {
   "metadata": {
    "ExecuteTime": {
     "end_time": "2024-05-28T06:59:20.468158Z",
     "start_time": "2024-05-28T06:59:20.464889Z"
    }
   },
   "cell_type": "code",
   "source": [
    "# Accessing elements of a 2D array\n",
    "a = np.array([[1,2,3],[4,5,6],[7,8,9]])\n",
    "print(a[0,0]) # first element\n",
    "print(a[0,1]) # second element\n"
   ],
   "id": "e1cd81e91e876486",
   "outputs": [
    {
     "name": "stdout",
     "output_type": "stream",
     "text": [
      "1\n",
      "2\n"
     ]
    }
   ],
   "execution_count": 9
  },
  {
   "metadata": {
    "ExecuteTime": {
     "end_time": "2024-05-28T06:59:20.473033Z",
     "start_time": "2024-05-28T06:59:20.469234Z"
    }
   },
   "cell_type": "code",
   "source": [
    "# Slicing of a 2D array\n",
    "a = np.array([[1,2,3],[4,5,6],[7,8,9]])\n",
    "print(a[0:2,0:2])  #irst two rows and first two columns"
   ],
   "id": "afd150b06d804d4b",
   "outputs": [
    {
     "name": "stdout",
     "output_type": "stream",
     "text": [
      "[[1 2]\n",
      " [4 5]]\n"
     ]
    }
   ],
   "execution_count": 10
  },
  {
   "metadata": {
    "ExecuteTime": {
     "end_time": "2024-05-28T06:59:20.478362Z",
     "start_time": "2024-05-28T06:59:20.474129Z"
    }
   },
   "cell_type": "code",
   "source": [
    "# Creating a 4 x 2 matrix\n",
    "a = np.array([[1,2],[3,4],[5,6],[7,8]])\n",
    "print(a)"
   ],
   "id": "f509e379e16c222c",
   "outputs": [
    {
     "name": "stdout",
     "output_type": "stream",
     "text": [
      "[[1 2]\n",
      " [3 4]\n",
      " [5 6]\n",
      " [7 8]]\n"
     ]
    }
   ],
   "execution_count": 11
  },
  {
   "metadata": {
    "ExecuteTime": {
     "end_time": "2024-05-28T06:59:20.489050Z",
     "start_time": "2024-05-28T06:59:20.480466Z"
    }
   },
   "cell_type": "code",
   "source": [
    "# 3d Array\n",
    "c = np.array([[[1,2,3],[4,5,6]],[[11,12,13],[14,15,16]]])\n",
    "print(c)"
   ],
   "id": "f61d2959b6fb778f",
   "outputs": [
    {
     "name": "stdout",
     "output_type": "stream",
     "text": [
      "[[[ 1  2  3]\n",
      "  [ 4  5  6]]\n",
      "\n",
      " [[11 12 13]\n",
      "  [14 15 16]]]\n"
     ]
    }
   ],
   "execution_count": 12
  },
  {
   "metadata": {
    "ExecuteTime": {
     "end_time": "2024-05-28T06:59:20.500855Z",
     "start_time": "2024-05-28T06:59:20.490729Z"
    }
   },
   "cell_type": "code",
   "source": [
    "#dtype\n",
    "\n",
    "a = np.array([0,2,3],dtype=bool)\n",
    "print(a)\n",
    "b = np.array([0,2,3],dtype=complex)\n",
    "print(b)"
   ],
   "id": "87acd9ba181eaa43",
   "outputs": [
    {
     "name": "stdout",
     "output_type": "stream",
     "text": [
      "[False  True  True]\n",
      "[0.+0.j 2.+0.j 3.+0.j]\n"
     ]
    }
   ],
   "execution_count": 13
  },
  {
   "metadata": {
    "ExecuteTime": {
     "end_time": "2024-05-28T06:59:20.507237Z",
     "start_time": "2024-05-28T06:59:20.502955Z"
    }
   },
   "cell_type": "code",
   "source": [
    "# np.arange\n",
    "a = np.arange(1,11)\n",
    "print(a)\n",
    "b = np.arange(1,11,2)\n",
    "print(b)"
   ],
   "id": "5d4829575bb5b5aa",
   "outputs": [
    {
     "name": "stdout",
     "output_type": "stream",
     "text": [
      "[ 1  2  3  4  5  6  7  8  9 10]\n",
      "[1 3 5 7 9]\n"
     ]
    }
   ],
   "execution_count": 14
  },
  {
   "metadata": {
    "ExecuteTime": {
     "end_time": "2024-05-28T06:59:20.516469Z",
     "start_time": "2024-05-28T06:59:20.509344Z"
    }
   },
   "cell_type": "code",
   "source": [
    "# with reshape\n",
    "\n",
    "np.arange(1,11).reshape(2,5)\n"
   ],
   "id": "e4d2752902602832",
   "outputs": [
    {
     "data": {
      "text/plain": [
       "array([[ 1,  2,  3,  4,  5],\n",
       "       [ 6,  7,  8,  9, 10]])"
      ]
     },
     "execution_count": 15,
     "metadata": {},
     "output_type": "execute_result"
    }
   ],
   "execution_count": 15
  },
  {
   "metadata": {
    "ExecuteTime": {
     "end_time": "2024-05-28T06:59:20.521239Z",
     "start_time": "2024-05-28T06:59:20.517436Z"
    }
   },
   "cell_type": "code",
   "source": [
    "a =np.arange(1,11).reshape(5,2)\n",
    "print(a)\n"
   ],
   "id": "c49d6f15e1d1e3aa",
   "outputs": [
    {
     "name": "stdout",
     "output_type": "stream",
     "text": [
      "[[ 1  2]\n",
      " [ 3  4]\n",
      " [ 5  6]\n",
      " [ 7  8]\n",
      " [ 9 10]]\n"
     ]
    }
   ],
   "execution_count": 16
  },
  {
   "metadata": {
    "ExecuteTime": {
     "end_time": "2024-05-28T06:59:20.526455Z",
     "start_time": "2024-05-28T06:59:20.522340Z"
    }
   },
   "cell_type": "code",
   "source": [
    "# np.ones and np.zeros\n",
    "a = np.ones((3,3))\n",
    "print(a)"
   ],
   "id": "ad8ad0006bd04e20",
   "outputs": [
    {
     "name": "stdout",
     "output_type": "stream",
     "text": [
      "[[1. 1. 1.]\n",
      " [1. 1. 1.]\n",
      " [1. 1. 1.]]\n"
     ]
    }
   ],
   "execution_count": 17
  },
  {
   "metadata": {
    "ExecuteTime": {
     "end_time": "2024-05-28T06:59:20.600251Z",
     "start_time": "2024-05-28T06:59:20.594837Z"
    }
   },
   "cell_type": "code",
   "source": [
    "b = np.zeros((3,3))\n",
    "print(b)\n"
   ],
   "id": "de8aba0fbc37222d",
   "outputs": [
    {
     "name": "stdout",
     "output_type": "stream",
     "text": [
      "[[0. 0. 0.]\n",
      " [0. 0. 0.]\n",
      " [0. 0. 0.]]\n"
     ]
    }
   ],
   "execution_count": 18
  },
  {
   "metadata": {
    "ExecuteTime": {
     "end_time": "2024-05-28T06:59:20.963211Z",
     "start_time": "2024-05-28T06:59:20.959101Z"
    }
   },
   "cell_type": "code",
   "source": [
    "# np.random\n",
    "a = np.random.random((3,3))"
   ],
   "id": "a46982be62b0d6f9",
   "outputs": [],
   "execution_count": 19
  },
  {
   "metadata": {
    "ExecuteTime": {
     "end_time": "2024-05-28T06:59:21.258596Z",
     "start_time": "2024-05-28T06:59:21.244863Z"
    }
   },
   "cell_type": "code",
   "source": "print(a)",
   "id": "8fcb803c0c6b7b0a",
   "outputs": [
    {
     "name": "stdout",
     "output_type": "stream",
     "text": [
      "[[0.50876825 0.20187444 0.93749723]\n",
      " [0.16846637 0.94957065 0.06668859]\n",
      " [0.73956402 0.95543318 0.28135507]]\n"
     ]
    }
   ],
   "execution_count": 20
  },
  {
   "metadata": {
    "ExecuteTime": {
     "end_time": "2024-05-28T06:59:21.340763Z",
     "start_time": "2024-05-28T06:59:21.324546Z"
    }
   },
   "cell_type": "code",
   "source": [
    "# np.linspace\n",
    "a = np.linspace(1,10,5) # 5 numbers between 1 and 10\n",
    "print(a)"
   ],
   "id": "4a2c9eea3359082a",
   "outputs": [
    {
     "name": "stdout",
     "output_type": "stream",
     "text": [
      "[ 1.    3.25  5.5   7.75 10.  ]\n"
     ]
    }
   ],
   "execution_count": 21
  },
  {
   "metadata": {
    "ExecuteTime": {
     "end_time": "2024-05-28T06:59:21.392513Z",
     "start_time": "2024-05-28T06:59:21.374063Z"
    }
   },
   "cell_type": "code",
   "source": [
    "# np.eye\n",
    "a = np.eye(3) # 3 x 3 identity matrix\n",
    "print(a)"
   ],
   "id": "ed89b4894de163d5",
   "outputs": [
    {
     "name": "stdout",
     "output_type": "stream",
     "text": [
      "[[1. 0. 0.]\n",
      " [0. 1. 0.]\n",
      " [0. 0. 1.]]\n"
     ]
    }
   ],
   "execution_count": 22
  },
  {
   "metadata": {
    "ExecuteTime": {
     "end_time": "2024-05-28T06:59:21.420279Z",
     "start_time": "2024-05-28T06:59:21.408252Z"
    }
   },
   "cell_type": "code",
   "source": [
    "# np.full\n",
    "a = np.full((3,3),5) # 3 x 3 matrix with all elements as 5\n",
    "print(a)"
   ],
   "id": "c935d26f21f8075f",
   "outputs": [
    {
     "name": "stdout",
     "output_type": "stream",
     "text": [
      "[[5 5 5]\n",
      " [5 5 5]\n",
      " [5 5 5]]\n"
     ]
    }
   ],
   "execution_count": 23
  },
  {
   "metadata": {
    "ExecuteTime": {
     "end_time": "2024-05-28T06:59:21.481091Z",
     "start_time": "2024-05-28T06:59:21.467330Z"
    }
   },
   "cell_type": "code",
   "source": [
    "# np.empty\n",
    "a = np.empty((3,3)) # 3 x 3 matrix with random values\n",
    "print(a)"
   ],
   "id": "3b6f721e0c3ce53e",
   "outputs": [
    {
     "name": "stdout",
     "output_type": "stream",
     "text": [
      "[[1. 0. 0.]\n",
      " [0. 1. 0.]\n",
      " [0. 0. 1.]]\n"
     ]
    }
   ],
   "execution_count": 24
  },
  {
   "metadata": {},
   "cell_type": "markdown",
   "source": "# Numpy Attributes\n",
   "id": "729feff63e3f3894"
  },
  {
   "metadata": {
    "ExecuteTime": {
     "end_time": "2024-05-28T06:59:21.525571Z",
     "start_time": "2024-05-28T06:59:21.511430Z"
    }
   },
   "cell_type": "code",
   "source": [
    "a1 = np.arange(10) # 1D array\n",
    "print(a1)\n",
    "a2 = np.arange(12).reshape(3,4) # 2D array\n",
    "print(a2)\n",
    "a3 = np.arange(24).reshape(2,3,4) # 3D array\n",
    "print(a3)"
   ],
   "id": "2a25b1c81974fbfc",
   "outputs": [
    {
     "name": "stdout",
     "output_type": "stream",
     "text": [
      "[0 1 2 3 4 5 6 7 8 9]\n",
      "[[ 0  1  2  3]\n",
      " [ 4  5  6  7]\n",
      " [ 8  9 10 11]]\n",
      "[[[ 0  1  2  3]\n",
      "  [ 4  5  6  7]\n",
      "  [ 8  9 10 11]]\n",
      "\n",
      " [[12 13 14 15]\n",
      "  [16 17 18 19]\n",
      "  [20 21 22 23]]]\n"
     ]
    }
   ],
   "execution_count": 25
  },
  {
   "metadata": {
    "ExecuteTime": {
     "end_time": "2024-05-28T06:59:21.575899Z",
     "start_time": "2024-05-28T06:59:21.571889Z"
    }
   },
   "cell_type": "code",
   "source": [
    "# ndim\n",
    "print(a1.ndim) # number of dimensions\n",
    "print(a2.ndim)\n",
    "print(a3.ndim)"
   ],
   "id": "981c4443135d39b8",
   "outputs": [
    {
     "name": "stdout",
     "output_type": "stream",
     "text": [
      "1\n",
      "2\n",
      "3\n"
     ]
    }
   ],
   "execution_count": 26
  },
  {
   "metadata": {
    "ExecuteTime": {
     "end_time": "2024-05-28T06:59:21.635260Z",
     "start_time": "2024-05-28T06:59:21.625079Z"
    }
   },
   "cell_type": "code",
   "source": [
    "# shape\n",
    "print(a1.shape) # number of elements in each dimension\n",
    "print(a2.shape)\n",
    "print(a3.shape)"
   ],
   "id": "61b08403f451ff5b",
   "outputs": [
    {
     "name": "stdout",
     "output_type": "stream",
     "text": [
      "(10,)\n",
      "(3, 4)\n",
      "(2, 3, 4)\n"
     ]
    }
   ],
   "execution_count": 27
  },
  {
   "metadata": {
    "ExecuteTime": {
     "end_time": "2024-05-28T06:59:21.667956Z",
     "start_time": "2024-05-28T06:59:21.651022Z"
    }
   },
   "cell_type": "code",
   "source": [
    "# size\n",
    "print(a1.size) # number of elements in the array\n",
    "print(a2.size)\n",
    "print(a3.size)"
   ],
   "id": "5fab764508b9b168",
   "outputs": [
    {
     "name": "stdout",
     "output_type": "stream",
     "text": [
      "10\n",
      "12\n",
      "24\n"
     ]
    }
   ],
   "execution_count": 28
  },
  {
   "metadata": {
    "ExecuteTime": {
     "end_time": "2024-05-28T06:59:21.715575Z",
     "start_time": "2024-05-28T06:59:21.706167Z"
    }
   },
   "cell_type": "code",
   "source": [
    "# itemsize\n",
    "print(a1.itemsize) # size of each element in the array\n",
    "print(a2.itemsize)\n",
    "print(a3.itemsize)"
   ],
   "id": "e40eb03d90696043",
   "outputs": [
    {
     "name": "stdout",
     "output_type": "stream",
     "text": [
      "4\n",
      "4\n",
      "4\n"
     ]
    }
   ],
   "execution_count": 29
  },
  {
   "metadata": {
    "ExecuteTime": {
     "end_time": "2024-05-28T06:59:21.812995Z",
     "start_time": "2024-05-28T06:59:21.796769Z"
    }
   },
   "cell_type": "code",
   "source": [
    "# dtype\n",
    "print(a1.dtype) # data type of the array\n",
    "print(a2.dtype)\n",
    "print(a3.dtype)"
   ],
   "id": "3b1d5157a8174410",
   "outputs": [
    {
     "name": "stdout",
     "output_type": "stream",
     "text": [
      "int32\n",
      "int32\n",
      "int32\n"
     ]
    }
   ],
   "execution_count": 30
  },
  {
   "metadata": {},
   "cell_type": "markdown",
   "source": "# Changing Datatype of Array",
   "id": "bf807f6e11a2acae"
  },
  {
   "metadata": {
    "ExecuteTime": {
     "end_time": "2024-05-28T06:59:21.955038Z",
     "start_time": "2024-05-28T06:59:21.943259Z"
    }
   },
   "cell_type": "code",
   "source": [
    "# astype\n",
    "a3.dtype"
   ],
   "id": "cbe5df8117678818",
   "outputs": [
    {
     "data": {
      "text/plain": [
       "dtype('int32')"
      ]
     },
     "execution_count": 31,
     "metadata": {},
     "output_type": "execute_result"
    }
   ],
   "execution_count": 31
  },
  {
   "metadata": {
    "ExecuteTime": {
     "end_time": "2024-05-28T06:59:22.026558Z",
     "start_time": "2024-05-28T06:59:22.016823Z"
    }
   },
   "cell_type": "code",
   "source": "a3 = a3.astype(float)",
   "id": "aed19e8306c8b27f",
   "outputs": [],
   "execution_count": 32
  },
  {
   "metadata": {
    "ExecuteTime": {
     "end_time": "2024-05-28T06:59:22.137855Z",
     "start_time": "2024-05-28T06:59:22.127271Z"
    }
   },
   "cell_type": "code",
   "source": "a3.dtype",
   "id": "67ab6f3de84f09b7",
   "outputs": [
    {
     "data": {
      "text/plain": [
       "dtype('float64')"
      ]
     },
     "execution_count": 33,
     "metadata": {},
     "output_type": "execute_result"
    }
   ],
   "execution_count": 33
  },
  {
   "metadata": {},
   "cell_type": "markdown",
   "source": "# Array Operations",
   "id": "af722b622f4eb509"
  },
  {
   "metadata": {
    "ExecuteTime": {
     "end_time": "2024-05-28T06:59:22.231553Z",
     "start_time": "2024-05-28T06:59:22.222087Z"
    }
   },
   "cell_type": "code",
   "source": [
    "a1 = np.arange(12).reshape(3,4)\n",
    "a2 = np.arange(12,24).reshape(3,4)\n",
    "\n",
    "print(a1)\n",
    "print(a2)"
   ],
   "id": "507703f36620d267",
   "outputs": [
    {
     "name": "stdout",
     "output_type": "stream",
     "text": [
      "[[ 0  1  2  3]\n",
      " [ 4  5  6  7]\n",
      " [ 8  9 10 11]]\n",
      "[[12 13 14 15]\n",
      " [16 17 18 19]\n",
      " [20 21 22 23]]\n"
     ]
    }
   ],
   "execution_count": 34
  },
  {
   "metadata": {
    "ExecuteTime": {
     "end_time": "2024-05-28T06:59:22.277045Z",
     "start_time": "2024-05-28T06:59:22.271301Z"
    }
   },
   "cell_type": "code",
   "source": [
    "# Scalar operations\n",
    "\n",
    "# arithmetic operations\n",
    "print(a1 + 2)\n",
    "print(a1 - 2)\n",
    "print(a1 * 2)\n",
    "print(a1 / 2)\n"
   ],
   "id": "f46ba05a28ccccb1",
   "outputs": [
    {
     "name": "stdout",
     "output_type": "stream",
     "text": [
      "[[ 2  3  4  5]\n",
      " [ 6  7  8  9]\n",
      " [10 11 12 13]]\n",
      "[[-2 -1  0  1]\n",
      " [ 2  3  4  5]\n",
      " [ 6  7  8  9]]\n",
      "[[ 0  2  4  6]\n",
      " [ 8 10 12 14]\n",
      " [16 18 20 22]]\n",
      "[[0.  0.5 1.  1.5]\n",
      " [2.  2.5 3.  3.5]\n",
      " [4.  4.5 5.  5.5]]\n"
     ]
    }
   ],
   "execution_count": 35
  },
  {
   "metadata": {
    "ExecuteTime": {
     "end_time": "2024-05-28T06:59:22.389576Z",
     "start_time": "2024-05-28T06:59:22.382488Z"
    }
   },
   "cell_type": "code",
   "source": [
    "# relational operations\n",
    "print(a1 > 5)\n",
    "print(a1 < 5)\n",
    "print(a1 == 5)\n",
    "print(a1 != 5)\n"
   ],
   "id": "cd4b1ad14cbab764",
   "outputs": [
    {
     "name": "stdout",
     "output_type": "stream",
     "text": [
      "[[False False False False]\n",
      " [False False  True  True]\n",
      " [ True  True  True  True]]\n",
      "[[ True  True  True  True]\n",
      " [ True False False False]\n",
      " [False False False False]]\n",
      "[[False False False False]\n",
      " [False  True False False]\n",
      " [False False False False]]\n",
      "[[ True  True  True  True]\n",
      " [ True False  True  True]\n",
      " [ True  True  True  True]]\n"
     ]
    }
   ],
   "execution_count": 36
  },
  {
   "metadata": {
    "ExecuteTime": {
     "end_time": "2024-05-28T06:59:22.433269Z",
     "start_time": "2024-05-28T06:59:22.428269Z"
    }
   },
   "cell_type": "code",
   "source": [
    "# Vector operations\n",
    "\n",
    "# arithmetic operations\n",
    "print(a1 + a2)\n",
    "print(a1 - a2)\n",
    "print(a1 * a2)\n",
    "print(a1 / a2)\n",
    "    "
   ],
   "id": "eb42d59cad53066d",
   "outputs": [
    {
     "name": "stdout",
     "output_type": "stream",
     "text": [
      "[[12 14 16 18]\n",
      " [20 22 24 26]\n",
      " [28 30 32 34]]\n",
      "[[-12 -12 -12 -12]\n",
      " [-12 -12 -12 -12]\n",
      " [-12 -12 -12 -12]]\n",
      "[[  0  13  28  45]\n",
      " [ 64  85 108 133]\n",
      " [160 189 220 253]]\n",
      "[[0.         0.07692308 0.14285714 0.2       ]\n",
      " [0.25       0.29411765 0.33333333 0.36842105]\n",
      " [0.4        0.42857143 0.45454545 0.47826087]]\n"
     ]
    }
   ],
   "execution_count": 37
  },
  {
   "metadata": {},
   "cell_type": "markdown",
   "source": "# Numpy Functions",
   "id": "2417331d42e53ac0"
  },
  {
   "metadata": {
    "ExecuteTime": {
     "end_time": "2024-05-28T06:59:22.509500Z",
     "start_time": "2024-05-28T06:59:22.505903Z"
    }
   },
   "cell_type": "code",
   "source": [
    "a1 = np.random.random((3,3))\n",
    "a1 =np.round(a1*100) # round off the elements of the array \n",
    "print(a1)"
   ],
   "id": "6061e7f961d76e43",
   "outputs": [
    {
     "name": "stdout",
     "output_type": "stream",
     "text": [
      "[[84. 59. 34.]\n",
      " [84. 67. 58.]\n",
      " [79. 67. 88.]]\n"
     ]
    }
   ],
   "execution_count": 38
  },
  {
   "metadata": {
    "ExecuteTime": {
     "end_time": "2024-05-28T06:59:22.532141Z",
     "start_time": "2024-05-28T06:59:22.528088Z"
    }
   },
   "cell_type": "code",
   "source": [
    "# max / min / sum / prod\n",
    "print(a1.max()) # maximum element\n",
    "print(a1.min()) # minimum element\n",
    "print(a1.sum()) # sum of all elements\n",
    "print(a1.prod()) # product of all elements"
   ],
   "id": "c0cb8c4248300816",
   "outputs": [
    {
     "name": "stdout",
     "output_type": "stream",
     "text": [
      "88.0\n",
      "34.0\n",
      "620.0\n",
      "2.5619866548401664e+16\n"
     ]
    }
   ],
   "execution_count": 39
  },
  {
   "metadata": {
    "ExecuteTime": {
     "end_time": "2024-05-28T06:59:22.542967Z",
     "start_time": "2024-05-28T06:59:22.532141Z"
    }
   },
   "cell_type": "code",
   "source": [
    "# mean / median / std / var\n",
    "print(a1.mean()) # mean\n",
    "print(np.median(a1)) # median\n",
    "print(a1.std()) # standard deviation\n",
    "print(a1.var()) # variance"
   ],
   "id": "3d86bfee4c7a6c4e",
   "outputs": [
    {
     "name": "stdout",
     "output_type": "stream",
     "text": [
      "68.88888888888889\n",
      "67.0\n",
      "16.210041088743896\n",
      "262.7654320987654\n"
     ]
    }
   ],
   "execution_count": 40
  },
  {
   "metadata": {
    "ExecuteTime": {
     "end_time": "2024-05-28T06:59:22.610327Z",
     "start_time": "2024-05-28T06:59:22.607255Z"
    }
   },
   "cell_type": "code",
   "source": [
    "# For each row\n",
    "print(a1.max(axis=1)) # maximum element in each row\n",
    "# 1 -> row"
   ],
   "id": "687cc2eceecb6f26",
   "outputs": [
    {
     "name": "stdout",
     "output_type": "stream",
     "text": [
      "[84. 84. 88.]\n"
     ]
    }
   ],
   "execution_count": 41
  },
  {
   "metadata": {
    "ExecuteTime": {
     "end_time": "2024-05-28T06:59:22.629736Z",
     "start_time": "2024-05-28T06:59:22.610327Z"
    }
   },
   "cell_type": "code",
   "source": [
    "# For each column\n",
    "print(a1.max(axis=0)) # maximum element in each column\n",
    "# 0 -> column"
   ],
   "id": "4628f4bc56145ec4",
   "outputs": [
    {
     "name": "stdout",
     "output_type": "stream",
     "text": [
      "[84. 67. 88.]\n"
     ]
    }
   ],
   "execution_count": 42
  },
  {
   "metadata": {
    "ExecuteTime": {
     "end_time": "2024-05-28T06:59:22.680855Z",
     "start_time": "2024-05-28T06:59:22.661120Z"
    }
   },
   "cell_type": "code",
   "source": [
    "# trigonometric functions\n",
    "print(np.sin(a1))\n",
    "print(np.cos(a1))\n",
    "print(np.tan(a1))\n"
   ],
   "id": "d79acac3ca909b8",
   "outputs": [
    {
     "name": "stdout",
     "output_type": "stream",
     "text": [
      "[[ 0.73319032  0.63673801  0.52908269]\n",
      " [ 0.73319032 -0.85551998  0.99287265]\n",
      " [-0.44411267 -0.85551998  0.0353983 ]]\n",
      "[[-0.6800235  -0.77108022 -0.84857027]\n",
      " [-0.6800235  -0.5177698   0.11918014]\n",
      " [-0.89597095 -0.5177698   0.99937328]]\n",
      "[[-1.07818381 -0.82577401 -0.62349896]\n",
      " [-1.07818381  1.65231726  8.33085685]\n",
      " [ 0.49567753  1.65231726  0.0354205 ]]\n"
     ]
    }
   ],
   "execution_count": 43
  },
  {
   "metadata": {
    "ExecuteTime": {
     "end_time": "2024-05-28T06:59:22.722575Z",
     "start_time": "2024-05-28T06:59:22.717696Z"
    }
   },
   "cell_type": "code",
   "source": [
    "# exponential functions\n",
    "print(np.exp(a1))\n",
    "print(np.log(a1))\n",
    "print(np.log10(a1)) # log base 10\n"
   ],
   "id": "8da85b776a95827e",
   "outputs": [
    {
     "name": "stdout",
     "output_type": "stream",
     "text": [
      "[[3.02507732e+36 4.20121040e+25 5.83461743e+14]\n",
      " [3.02507732e+36 1.25236317e+29 1.54553894e+25]\n",
      " [2.03828107e+34 1.25236317e+29 1.65163625e+38]]\n",
      "[[4.4308168  4.07753744 3.52636052]\n",
      " [4.4308168  4.20469262 4.06044301]\n",
      " [4.36944785 4.20469262 4.47733681]]\n",
      "[[1.92427929 1.77085201 1.53147892]\n",
      " [1.92427929 1.8260748  1.76342799]\n",
      " [1.89762709 1.8260748  1.94448267]]\n"
     ]
    }
   ],
   "execution_count": 44
  },
  {
   "metadata": {
    "ExecuteTime": {
     "end_time": "2024-05-28T06:59:22.764403Z",
     "start_time": "2024-05-28T06:59:22.753973Z"
    }
   },
   "cell_type": "code",
   "source": [
    "# Dot Products\n",
    "a2 = np.arange(12).reshape(3,4)\n",
    "a3 = np.arange(12,24).reshape(3,4)\n",
    "np.dot(a2,a3.T) # dot product of two arrays a2 and a3 \n"
   ],
   "id": "3710080946844b62",
   "outputs": [
    {
     "data": {
      "text/plain": [
       "array([[ 86, 110, 134],\n",
       "       [302, 390, 478],\n",
       "       [518, 670, 822]])"
      ]
     },
     "execution_count": 45,
     "metadata": {},
     "output_type": "execute_result"
    }
   ],
   "execution_count": 45
  },
  {
   "metadata": {
    "ExecuteTime": {
     "end_time": "2024-05-28T06:59:22.846728Z",
     "start_time": "2024-05-28T06:59:22.840600Z"
    }
   },
   "cell_type": "code",
   "source": [
    "# Transpose\n",
    "a1.T\n"
   ],
   "id": "82edefb69bd2329a",
   "outputs": [
    {
     "data": {
      "text/plain": [
       "array([[84., 84., 79.],\n",
       "       [59., 67., 67.],\n",
       "       [34., 58., 88.]])"
      ]
     },
     "execution_count": 46,
     "metadata": {},
     "output_type": "execute_result"
    }
   ],
   "execution_count": 46
  },
  {
   "metadata": {
    "ExecuteTime": {
     "end_time": "2024-05-28T06:59:22.949070Z",
     "start_time": "2024-05-28T06:59:22.931503Z"
    }
   },
   "cell_type": "code",
   "source": [
    "# Inverse\n",
    "np.linalg.inv(a1)\n"
   ],
   "id": "543b9927ab877765",
   "outputs": [
    {
     "data": {
      "text/plain": [
       "array([[ 0.13919668, -0.20180055,  0.07922438],\n",
       "       [-0.19459834,  0.32590028, -0.13961219],\n",
       "       [ 0.02319945, -0.06696676,  0.0465374 ]])"
      ]
     },
     "execution_count": 47,
     "metadata": {},
     "output_type": "execute_result"
    }
   ],
   "execution_count": 47
  },
  {
   "metadata": {
    "ExecuteTime": {
     "end_time": "2024-05-28T06:59:23.043282Z",
     "start_time": "2024-05-28T06:59:23.029951Z"
    }
   },
   "cell_type": "code",
   "source": [
    "# round / floor / ceil\n",
    "print(np.round(3.14))\n",
    "print(np.floor(3.14))\n",
    "print(np.ceil(3.14))"
   ],
   "id": "a58c499363acbb4d",
   "outputs": [
    {
     "name": "stdout",
     "output_type": "stream",
     "text": [
      "3.0\n",
      "3.0\n",
      "4.0\n"
     ]
    }
   ],
   "execution_count": 48
  },
  {
   "metadata": {
    "ExecuteTime": {
     "end_time": "2024-05-28T06:59:23.090319Z",
     "start_time": "2024-05-28T06:59:23.069733Z"
    }
   },
   "cell_type": "code",
   "source": [
    "# unique\n",
    "a1 = np.array([1,2,3,4,5,1,2,3,4,5])\n",
    "print(np.unique(a1)) # unique elements in the array\n"
   ],
   "id": "14520231246c2e28",
   "outputs": [
    {
     "name": "stdout",
     "output_type": "stream",
     "text": [
      "[1 2 3 4 5]\n"
     ]
    }
   ],
   "execution_count": 49
  },
  {
   "metadata": {},
   "cell_type": "markdown",
   "source": "# Numpy Indexing and Slicing",
   "id": "504ed6c76483fce6"
  },
  {
   "metadata": {
    "ExecuteTime": {
     "end_time": "2024-05-28T06:59:23.113210Z",
     "start_time": "2024-05-28T06:59:23.106134Z"
    }
   },
   "cell_type": "code",
   "source": [
    "a1 = np.arange(10)\n",
    "a2 = np.arange(12).reshape(3,4)\n",
    "a3 = np.arange(24).reshape(2,3,4)"
   ],
   "id": "c19abe7635bc720e",
   "outputs": [],
   "execution_count": 50
  },
  {
   "metadata": {
    "ExecuteTime": {
     "end_time": "2024-05-28T06:59:23.172051Z",
     "start_time": "2024-05-28T06:59:23.152117Z"
    }
   },
   "cell_type": "code",
   "source": [
    "print(a1[0]) # first element\n",
    "print(a1[-1]) # last element"
   ],
   "id": "adf6da4b28dddaa4",
   "outputs": [
    {
     "name": "stdout",
     "output_type": "stream",
     "text": [
      "0\n",
      "9\n"
     ]
    }
   ],
   "execution_count": 51
  },
  {
   "metadata": {
    "ExecuteTime": {
     "end_time": "2024-05-28T06:59:23.214194Z",
     "start_time": "2024-05-28T06:59:23.203446Z"
    }
   },
   "cell_type": "code",
   "source": "print(a3[0,0,0]) # first element",
   "id": "14e7c180ee2ea97f",
   "outputs": [
    {
     "name": "stdout",
     "output_type": "stream",
     "text": [
      "0\n"
     ]
    }
   ],
   "execution_count": 52
  },
  {
   "metadata": {
    "ExecuteTime": {
     "end_time": "2024-05-28T06:59:23.242459Z",
     "start_time": "2024-05-28T06:59:23.229937Z"
    }
   },
   "cell_type": "code",
   "source": [
    "# Slicing \n",
    "print(a1[0:5]) # first five elements\n",
    "print(a1[:5]) # first five elements\n",
    "print(a1[5:]) # elements from index 5\n",
    "print(a1[::2]) # every second element\n"
   ],
   "id": "1b125f9e8c9eef56",
   "outputs": [
    {
     "name": "stdout",
     "output_type": "stream",
     "text": [
      "[0 1 2 3 4]\n",
      "[0 1 2 3 4]\n",
      "[5 6 7 8 9]\n",
      "[0 2 4 6 8]\n"
     ]
    }
   ],
   "execution_count": 53
  },
  {
   "metadata": {
    "ExecuteTime": {
     "end_time": "2024-05-28T06:59:23.266393Z",
     "start_time": "2024-05-28T06:59:23.252691Z"
    }
   },
   "cell_type": "code",
   "source": [
    "# Slicing 2D array\n",
    "print(a2[0,0]) # first element\n",
    "print(a2[0,0:2]) # first row and first two columns\n"
   ],
   "id": "a105cc622aa0d842",
   "outputs": [
    {
     "name": "stdout",
     "output_type": "stream",
     "text": [
      "0\n",
      "[0 1]\n"
     ]
    }
   ],
   "execution_count": 54
  },
  {
   "metadata": {
    "ExecuteTime": {
     "end_time": "2024-05-28T06:59:23.301962Z",
     "start_time": "2024-05-28T06:59:23.296460Z"
    }
   },
   "cell_type": "code",
   "source": [
    "# Slicing 3D array\n",
    "print(a3[0,0,0]) # first element\n",
    "print(a3[0,0,0:2]) # first row and first two columns\n",
    "print(a3[0,0:2,0:2]) # first two rows and first two columns\n"
   ],
   "id": "3a1b0a3747dae5f",
   "outputs": [
    {
     "name": "stdout",
     "output_type": "stream",
     "text": [
      "0\n",
      "[0 1]\n",
      "[[0 1]\n",
      " [4 5]]\n"
     ]
    }
   ],
   "execution_count": 55
  },
  {
   "metadata": {
    "ExecuteTime": {
     "end_time": "2024-05-28T06:59:23.373919Z",
     "start_time": "2024-05-28T06:59:23.367562Z"
    }
   },
   "cell_type": "code",
   "source": [
    "# Printing corner elements of a 2D array\n",
    "print(a2[0:1,0:2]) # first two rows and first two columns\n"
   ],
   "id": "81cb3440af4f3c4",
   "outputs": [
    {
     "name": "stdout",
     "output_type": "stream",
     "text": [
      "[[0 1]]\n"
     ]
    }
   ],
   "execution_count": 56
  },
  {
   "metadata": {},
   "cell_type": "markdown",
   "source": "# Iterating over Arrays",
   "id": "2147b5334d81dc4e"
  },
  {
   "metadata": {
    "ExecuteTime": {
     "end_time": "2024-05-28T08:41:02.578891Z",
     "start_time": "2024-05-28T08:41:02.571720Z"
    }
   },
   "cell_type": "code",
   "source": "a1",
   "id": "4903361d0bf348e0",
   "outputs": [
    {
     "data": {
      "text/plain": [
       "array([0, 1, 2, 3, 4, 5, 6, 7, 8, 9])"
      ]
     },
     "execution_count": 57,
     "metadata": {},
     "output_type": "execute_result"
    }
   ],
   "execution_count": 57
  },
  {
   "metadata": {
    "ExecuteTime": {
     "end_time": "2024-05-28T08:43:19.272945Z",
     "start_time": "2024-05-28T08:43:19.269088Z"
    }
   },
   "cell_type": "code",
   "source": "a2",
   "id": "486da72639ec5ce2",
   "outputs": [
    {
     "data": {
      "text/plain": [
       "array([[ 0,  1,  2,  3],\n",
       "       [ 4,  5,  6,  7],\n",
       "       [ 8,  9, 10, 11]])"
      ]
     },
     "execution_count": 58,
     "metadata": {},
     "output_type": "execute_result"
    }
   ],
   "execution_count": 58
  },
  {
   "metadata": {
    "ExecuteTime": {
     "end_time": "2024-05-28T08:44:56.980556Z",
     "start_time": "2024-05-28T08:44:56.973323Z"
    }
   },
   "cell_type": "code",
   "source": [
    "for i in a1:\n",
    "    print(i)"
   ],
   "id": "2210b6325269578c",
   "outputs": [
    {
     "name": "stdout",
     "output_type": "stream",
     "text": [
      "0\n",
      "1\n",
      "2\n",
      "3\n",
      "4\n",
      "5\n",
      "6\n",
      "7\n",
      "8\n",
      "9\n"
     ]
    }
   ],
   "execution_count": 59
  },
  {
   "metadata": {
    "ExecuteTime": {
     "end_time": "2024-05-28T08:45:51.323714Z",
     "start_time": "2024-05-28T08:45:51.316988Z"
    }
   },
   "cell_type": "code",
   "source": [
    "for i in a2:\n",
    "    print(i)"
   ],
   "id": "de1ac71ecd381c9e",
   "outputs": [
    {
     "name": "stdout",
     "output_type": "stream",
     "text": [
      "[0 1 2 3]\n",
      "[4 5 6 7]\n",
      "[ 8  9 10 11]\n"
     ]
    }
   ],
   "execution_count": 60
  },
  {
   "metadata": {
    "ExecuteTime": {
     "end_time": "2024-05-28T08:45:55.885984Z",
     "start_time": "2024-05-28T08:45:55.874168Z"
    }
   },
   "cell_type": "code",
   "source": [
    "for i in a2.flat:\n",
    "    print(i)"
   ],
   "id": "c60cc9bbec982857",
   "outputs": [
    {
     "name": "stdout",
     "output_type": "stream",
     "text": [
      "0\n",
      "1\n",
      "2\n",
      "3\n",
      "4\n",
      "5\n",
      "6\n",
      "7\n",
      "8\n",
      "9\n",
      "10\n",
      "11\n"
     ]
    }
   ],
   "execution_count": 61
  },
  {
   "metadata": {
    "ExecuteTime": {
     "end_time": "2024-05-28T08:46:05.607205Z",
     "start_time": "2024-05-28T08:46:05.587607Z"
    }
   },
   "cell_type": "code",
   "source": [
    "for i in np.nditer(a2):\n",
    "    print(i)"
   ],
   "id": "2ae39765c4b62f5",
   "outputs": [
    {
     "name": "stdout",
     "output_type": "stream",
     "text": [
      "0\n",
      "1\n",
      "2\n",
      "3\n",
      "4\n",
      "5\n",
      "6\n",
      "7\n",
      "8\n",
      "9\n",
      "10\n",
      "11\n"
     ]
    }
   ],
   "execution_count": 62
  },
  {
   "metadata": {
    "ExecuteTime": {
     "end_time": "2024-05-28T08:46:10.204583Z",
     "start_time": "2024-05-28T08:46:10.199865Z"
    }
   },
   "cell_type": "code",
   "source": [
    "for i in np.nditer(a2,order='F'):\n",
    "    print(i)"
   ],
   "id": "bbf3f403fa9e6bc1",
   "outputs": [
    {
     "name": "stdout",
     "output_type": "stream",
     "text": [
      "0\n",
      "4\n",
      "8\n",
      "1\n",
      "5\n",
      "9\n",
      "2\n",
      "6\n",
      "10\n",
      "3\n",
      "7\n",
      "11\n"
     ]
    }
   ],
   "execution_count": 63
  },
  {
   "metadata": {
    "ExecuteTime": {
     "end_time": "2024-05-28T08:46:15.172336Z",
     "start_time": "2024-05-28T08:46:15.161563Z"
    }
   },
   "cell_type": "code",
   "source": [
    "for i in np.nditer(a2,order='C'):\n",
    "    print(i)"
   ],
   "id": "134d68b3d05f38a8",
   "outputs": [
    {
     "name": "stdout",
     "output_type": "stream",
     "text": [
      "0\n",
      "1\n",
      "2\n",
      "3\n",
      "4\n",
      "5\n",
      "6\n",
      "7\n",
      "8\n",
      "9\n",
      "10\n",
      "11\n"
     ]
    }
   ],
   "execution_count": 64
  },
  {
   "metadata": {
    "ExecuteTime": {
     "end_time": "2024-05-28T08:46:28.975022Z",
     "start_time": "2024-05-28T08:46:28.972229Z"
    }
   },
   "cell_type": "code",
   "source": [
    "for i in np.nditer(a2,flags=['external_loop']): # external loop \n",
    "     print(i)"
   ],
   "id": "34cf95d6fe093239",
   "outputs": [
    {
     "name": "stdout",
     "output_type": "stream",
     "text": [
      "[ 0  1  2  3  4  5  6  7  8  9 10 11]\n"
     ]
    }
   ],
   "execution_count": 65
  },
  {
   "metadata": {},
   "cell_type": "code",
   "outputs": [],
   "execution_count": null,
   "source": "",
   "id": "bf64538729ccb635"
  }
 ],
 "metadata": {
  "kernelspec": {
   "display_name": "Python 3",
   "language": "python",
   "name": "python3"
  },
  "language_info": {
   "codemirror_mode": {
    "name": "ipython",
    "version": 2
   },
   "file_extension": ".py",
   "mimetype": "text/x-python",
   "name": "python",
   "nbconvert_exporter": "python",
   "pygments_lexer": "ipython2",
   "version": "2.7.6"
  }
 },
 "nbformat": 4,
 "nbformat_minor": 5
}
